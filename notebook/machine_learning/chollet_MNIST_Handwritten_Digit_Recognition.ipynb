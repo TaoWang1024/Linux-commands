{
 "cells": [
  {
   "cell_type": "markdown",
   "id": "d42f8d2f-14ce-4c1c-a176-751cac36e6f6",
   "metadata": {},
   "source": [
    "Loading the MNIST dataset in Keras"
   ]
  },
  {
   "cell_type": "code",
   "execution_count": 1,
   "id": "764448e6-f8f8-4142-ad03-bb58d91120fe",
   "metadata": {},
   "outputs": [
    {
     "name": "stderr",
     "output_type": "stream",
     "text": [
      "2024-04-17 16:22:49.795260: I tensorflow/core/util/port.cc:113] oneDNN custom operations are on. You may see slightly different numerical results due to floating-point round-off errors from different computation orders. To turn them off, set the environment variable `TF_ENABLE_ONEDNN_OPTS=0`.\n",
      "2024-04-17 16:22:49.796851: I external/local_tsl/tsl/cuda/cudart_stub.cc:31] Could not find cuda drivers on your machine, GPU will not be used.\n",
      "2024-04-17 16:22:49.820996: E external/local_xla/xla/stream_executor/cuda/cuda_dnn.cc:9261] Unable to register cuDNN factory: Attempting to register factory for plugin cuDNN when one has already been registered\n",
      "2024-04-17 16:22:49.821017: E external/local_xla/xla/stream_executor/cuda/cuda_fft.cc:607] Unable to register cuFFT factory: Attempting to register factory for plugin cuFFT when one has already been registered\n",
      "2024-04-17 16:22:49.821662: E external/local_xla/xla/stream_executor/cuda/cuda_blas.cc:1515] Unable to register cuBLAS factory: Attempting to register factory for plugin cuBLAS when one has already been registered\n",
      "2024-04-17 16:22:49.825608: I external/local_tsl/tsl/cuda/cudart_stub.cc:31] Could not find cuda drivers on your machine, GPU will not be used.\n",
      "2024-04-17 16:22:49.826010: I tensorflow/core/platform/cpu_feature_guard.cc:182] This TensorFlow binary is optimized to use available CPU instructions in performance-critical operations.\n",
      "To enable the following instructions: AVX2 AVX_VNNI FMA, in other operations, rebuild TensorFlow with the appropriate compiler flags.\n",
      "2024-04-17 16:22:50.349807: W tensorflow/compiler/tf2tensorrt/utils/py_utils.cc:38] TF-TRT Warning: Could not find TensorRT\n"
     ]
    }
   ],
   "source": [
    "from tensorflow.keras.datasets import mnist\n",
    "(train_images, train_labels), (test_images, test_labels) = mnist.load_data()\n",
    "''' note the warnings that arise.\n",
    "    these describe how tensorflow will operate, given your hardware architecture\n",
    "    note that operations using SIMD registers are NOT enabled in the standard compiled tensorflow binary.\n",
    "'''\n",
    "pass # no-op instruction placed here so cell will NOT output docstring."
   ]
  },
  {
   "cell_type": "markdown",
   "id": "aa59ae11-6c5f-43a8-a456-553a9851e1ec",
   "metadata": {},
   "source": [
    "The network architecture"
   ]
  },
  {
   "cell_type": "code",
   "execution_count": 2,
   "id": "1eb450c2-5c1c-453b-baca-578165a5e90b",
   "metadata": {},
   "outputs": [],
   "source": [
    "from tensorflow import keras\n",
    "from tensorflow.keras import layers\n",
    "''' \n",
    "'''\n",
    "model = keras.Sequential([\n",
    "    layers.Dense(512, activation=\"relu\"),\n",
    "    layers.Dense(10, activation=\"softmax\")\n",
    "])"
   ]
  },
  {
   "cell_type": "markdown",
   "id": "e77a13fa-da1b-467e-b02a-5acf674e7eee",
   "metadata": {},
   "source": [
    "The compilation step"
   ]
  },
  {
   "cell_type": "code",
   "execution_count": 3,
   "id": "af66a7b8-476f-47bf-8946-a6fc53dcece1",
   "metadata": {},
   "outputs": [],
   "source": [
    "model.compile(optimizer=\"rmsprop\",\n",
    "              loss=\"sparse_categorical_crossentropy\",\n",
    "              metrics=[\"accuracy\"])"
   ]
  },
  {
   "cell_type": "markdown",
   "id": "d9c25be7-2f57-4cf7-bad3-d20339fc3908",
   "metadata": {},
   "source": [
    "Preparing the image data"
   ]
  },
  {
   "cell_type": "code",
   "execution_count": 4,
   "id": "ac88778f-49f5-4212-885c-a6d0442cd42c",
   "metadata": {},
   "outputs": [],
   "source": [
    "train_images = train_images.reshape((60000, 28 * 28))\n",
    "train_images = train_images.astype(\"float32\") / 255\n",
    "test_images = test_images.reshape((10000, 28 * 28))\n",
    "test_images = test_images.astype(\"float32\") / 255"
   ]
  },
  {
   "cell_type": "markdown",
   "id": "d004154c-6fe4-41c7-af0f-0c25a241069a",
   "metadata": {},
   "source": [
    "\"Fitting\" the model"
   ]
  },
  {
   "cell_type": "code",
   "execution_count": 5,
   "id": "0d69b42c-1236-4fa8-88c4-615c18cb1a1a",
   "metadata": {},
   "outputs": [
    {
     "name": "stdout",
     "output_type": "stream",
     "text": [
      "Epoch 1/5\n",
      "469/469 [==============================] - 2s 4ms/step - loss: 0.2640 - accuracy: 0.9231\n",
      "Epoch 2/5\n",
      "469/469 [==============================] - 2s 4ms/step - loss: 0.1070 - accuracy: 0.9684\n",
      "Epoch 3/5\n",
      "469/469 [==============================] - 2s 4ms/step - loss: 0.0702 - accuracy: 0.9790\n",
      "Epoch 4/5\n",
      "469/469 [==============================] - 2s 4ms/step - loss: 0.0515 - accuracy: 0.9847\n",
      "Epoch 5/5\n",
      "469/469 [==============================] - 2s 4ms/step - loss: 0.0383 - accuracy: 0.9885\n"
     ]
    },
    {
     "data": {
      "text/plain": [
       "<keras.src.callbacks.History at 0x7cf7a3904450>"
      ]
     },
     "execution_count": 5,
     "metadata": {},
     "output_type": "execute_result"
    }
   ],
   "source": [
    "model.fit(train_images, train_labels, epochs=5, batch_size=128)"
   ]
  },
  {
   "cell_type": "code",
   "execution_count": 6,
   "id": "cae414ea-e2dd-421a-b31b-84aca9eb94eb",
   "metadata": {},
   "outputs": [
    {
     "name": "stdout",
     "output_type": "stream",
     "text": [
      "Model: \"sequential\"\n",
      "_________________________________________________________________\n",
      " Layer (type)                Output Shape              Param #   \n",
      "=================================================================\n",
      " dense (Dense)               (None, 512)               401920    \n",
      "                                                                 \n",
      " dense_1 (Dense)             (None, 10)                5130      \n",
      "                                                                 \n",
      "=================================================================\n",
      "Total params: 407050 (1.55 MB)\n",
      "Trainable params: 407050 (1.55 MB)\n",
      "Non-trainable params: 0 (0.00 Byte)\n",
      "_________________________________________________________________\n"
     ]
    }
   ],
   "source": [
    "model.summary()"
   ]
  },
  {
   "cell_type": "markdown",
   "id": "5305ff57-48ce-4b3c-bf7c-53a805e64e1f",
   "metadata": {},
   "source": [
    "Using the model to make predictions"
   ]
  },
  {
   "cell_type": "code",
   "execution_count": 7,
   "id": "32084e90-465a-4a31-980b-c9f344f1760e",
   "metadata": {},
   "outputs": [
    {
     "name": "stdout",
     "output_type": "stream",
     "text": [
      "1/1 [==============================] - 0s 39ms/step\n"
     ]
    },
    {
     "data": {
      "text/plain": [
       "array([3.4546026e-08, 1.7416019e-08, 2.8705622e-06, 3.9826093e-05,\n",
       "       4.7785734e-11, 6.9901716e-08, 7.3512091e-12, 9.9995589e-01,\n",
       "       2.5761025e-07, 1.0053726e-06], dtype=float32)"
      ]
     },
     "execution_count": 7,
     "metadata": {},
     "output_type": "execute_result"
    }
   ],
   "source": [
    "test_digits = test_images[0:10]\n",
    "predictions = model.predict(test_digits)\n",
    "predictions[0]"
   ]
  },
  {
   "cell_type": "markdown",
   "id": "db23483d-6875-423c-8b65-f83db2ac4f01",
   "metadata": {},
   "source": [
    "Evaluating the model on new data"
   ]
  },
  {
   "cell_type": "code",
   "execution_count": 10,
   "id": "df3dca1c-7584-4c0d-a576-53d8e68a4c48",
   "metadata": {},
   "outputs": [
    {
     "name": "stdout",
     "output_type": "stream",
     "text": [
      "313/313 [==============================] - 0s 1ms/step - loss: 0.0639 - accuracy: 0.9793\n",
      "test_acc: 0.9793000221252441\n"
     ]
    }
   ],
   "source": [
    "test_loss, test_acc = model.evaluate(test_images, test_labels)\n",
    "print(f\"test_acc: {test_acc}\")"
   ]
  },
  {
   "cell_type": "markdown",
   "id": "a70e6152-d205-49c8-9f71-5788af19307d",
   "metadata": {},
   "source": [
    "Saving the model"
   ]
  },
  {
   "cell_type": "code",
   "execution_count": 8,
   "id": "e6683991-a8d9-47d0-b1fb-badadf14d549",
   "metadata": {},
   "outputs": [
    {
     "name": "stdout",
     "output_type": "stream",
     "text": [
      "INFO:tensorflow:Assets written to: chollet_mnist_model/assets\n"
     ]
    },
    {
     "name": "stderr",
     "output_type": "stream",
     "text": [
      "INFO:tensorflow:Assets written to: chollet_mnist_model/assets\n"
     ]
    }
   ],
   "source": [
    "model.save('chollet_mnist_model')"
   ]
  },
  {
   "cell_type": "code",
   "execution_count": 9,
   "id": "408c9873-b462-42b1-91c9-85e2c813c0b9",
   "metadata": {},
   "outputs": [
    {
     "name": "stdout",
     "output_type": "stream",
     "text": [
      " chollet_MNIST_Handwritten_Digit_Recognition.ipynb\n",
      " \u001b[0m\u001b[01;34mchollet_mnist_model\u001b[0m/\n",
      " \u001b[01;34mimages\u001b[0m/\n",
      " mnist_view_digits.ipynb\n",
      " pedestrian_walklights_model.ipynb\n",
      " pedestrian_walklights_tng.ipynb\n",
      " \u001b[01;34mpickle\u001b[0m/\n",
      " scratch.ipynb\n",
      "'trask MNIST Handwritten Digit Recognition.ipynb'\n"
     ]
    }
   ],
   "source": [
    "ls"
   ]
  },
  {
   "cell_type": "code",
   "execution_count": 10,
   "id": "53d083c7-579b-456e-9583-b723c1dba269",
   "metadata": {},
   "outputs": [
    {
     "data": {
      "text/plain": [
       "\u001b[0;31mSignature:\u001b[0m\n",
       "\u001b[0mmodel\u001b[0m\u001b[0;34m.\u001b[0m\u001b[0mpredict\u001b[0m\u001b[0;34m(\u001b[0m\u001b[0;34m\u001b[0m\n",
       "\u001b[0;34m\u001b[0m    \u001b[0mx\u001b[0m\u001b[0;34m,\u001b[0m\u001b[0;34m\u001b[0m\n",
       "\u001b[0;34m\u001b[0m    \u001b[0mbatch_size\u001b[0m\u001b[0;34m=\u001b[0m\u001b[0;32mNone\u001b[0m\u001b[0;34m,\u001b[0m\u001b[0;34m\u001b[0m\n",
       "\u001b[0;34m\u001b[0m    \u001b[0mverbose\u001b[0m\u001b[0;34m=\u001b[0m\u001b[0;34m'auto'\u001b[0m\u001b[0;34m,\u001b[0m\u001b[0;34m\u001b[0m\n",
       "\u001b[0;34m\u001b[0m    \u001b[0msteps\u001b[0m\u001b[0;34m=\u001b[0m\u001b[0;32mNone\u001b[0m\u001b[0;34m,\u001b[0m\u001b[0;34m\u001b[0m\n",
       "\u001b[0;34m\u001b[0m    \u001b[0mcallbacks\u001b[0m\u001b[0;34m=\u001b[0m\u001b[0;32mNone\u001b[0m\u001b[0;34m,\u001b[0m\u001b[0;34m\u001b[0m\n",
       "\u001b[0;34m\u001b[0m    \u001b[0mmax_queue_size\u001b[0m\u001b[0;34m=\u001b[0m\u001b[0;36m10\u001b[0m\u001b[0;34m,\u001b[0m\u001b[0;34m\u001b[0m\n",
       "\u001b[0;34m\u001b[0m    \u001b[0mworkers\u001b[0m\u001b[0;34m=\u001b[0m\u001b[0;36m1\u001b[0m\u001b[0;34m,\u001b[0m\u001b[0;34m\u001b[0m\n",
       "\u001b[0;34m\u001b[0m    \u001b[0muse_multiprocessing\u001b[0m\u001b[0;34m=\u001b[0m\u001b[0;32mFalse\u001b[0m\u001b[0;34m,\u001b[0m\u001b[0;34m\u001b[0m\n",
       "\u001b[0;34m\u001b[0m\u001b[0;34m)\u001b[0m\u001b[0;34m\u001b[0m\u001b[0;34m\u001b[0m\u001b[0m\n",
       "\u001b[0;31mDocstring:\u001b[0m\n",
       "Generates output predictions for the input samples.\n",
       "\n",
       "Computation is done in batches. This method is designed for batch\n",
       "processing of large numbers of inputs. It is not intended for use inside\n",
       "of loops that iterate over your data and process small numbers of inputs\n",
       "at a time.\n",
       "\n",
       "For small numbers of inputs that fit in one batch,\n",
       "directly use `__call__()` for faster execution, e.g.,\n",
       "`model(x)`, or `model(x, training=False)` if you have layers such as\n",
       "`tf.keras.layers.BatchNormalization` that behave differently during\n",
       "inference. You may pair the individual model call with a `tf.function`\n",
       "for additional performance inside your inner loop.\n",
       "If you need access to numpy array values instead of tensors after your\n",
       "model call, you can use `tensor.numpy()` to get the numpy array value of\n",
       "an eager tensor.\n",
       "\n",
       "Also, note the fact that test loss is not affected by\n",
       "regularization layers like noise and dropout.\n",
       "\n",
       "Note: See [this FAQ entry](\n",
       "https://keras.io/getting_started/faq/#whats-the-difference-between-model-methods-predict-and-call)\n",
       "for more details about the difference between `Model` methods\n",
       "`predict()` and `__call__()`.\n",
       "\n",
       "Args:\n",
       "    x: Input samples. It could be:\n",
       "      - A Numpy array (or array-like), or a list of arrays\n",
       "        (in case the model has multiple inputs).\n",
       "      - A TensorFlow tensor, or a list of tensors\n",
       "        (in case the model has multiple inputs).\n",
       "      - A `tf.data` dataset.\n",
       "      - A generator or `keras.utils.Sequence` instance.\n",
       "      A more detailed description of unpacking behavior for iterator\n",
       "      types (Dataset, generator, Sequence) is given in the `Unpacking\n",
       "      behavior for iterator-like inputs` section of `Model.fit`.\n",
       "    batch_size: Integer or `None`.\n",
       "        Number of samples per batch.\n",
       "        If unspecified, `batch_size` will default to 32.\n",
       "        Do not specify the `batch_size` if your data is in the\n",
       "        form of dataset, generators, or `keras.utils.Sequence` instances\n",
       "        (since they generate batches).\n",
       "    verbose: `\"auto\"`, 0, 1, or 2. Verbosity mode.\n",
       "        0 = silent, 1 = progress bar, 2 = single line.\n",
       "        `\"auto\"` becomes 1 for most cases, and to 2 when used with\n",
       "        `ParameterServerStrategy`. Note that the progress bar is not\n",
       "        particularly useful when logged to a file, so `verbose=2` is\n",
       "        recommended when not running interactively (e.g. in a production\n",
       "        environment). Defaults to 'auto'.\n",
       "    steps: Total number of steps (batches of samples)\n",
       "        before declaring the prediction round finished.\n",
       "        Ignored with the default value of `None`. If x is a `tf.data`\n",
       "        dataset and `steps` is None, `predict()` will\n",
       "        run until the input dataset is exhausted.\n",
       "    callbacks: List of `keras.callbacks.Callback` instances.\n",
       "        List of callbacks to apply during prediction.\n",
       "        See [callbacks](\n",
       "        https://www.tensorflow.org/api_docs/python/tf/keras/callbacks).\n",
       "    max_queue_size: Integer. Used for generator or\n",
       "        `keras.utils.Sequence` input only. Maximum size for the\n",
       "        generator queue. If unspecified, `max_queue_size` will default\n",
       "        to 10.\n",
       "    workers: Integer. Used for generator or `keras.utils.Sequence` input\n",
       "        only. Maximum number of processes to spin up when using\n",
       "        process-based threading. If unspecified, `workers` will default\n",
       "        to 1.\n",
       "    use_multiprocessing: Boolean. Used for generator or\n",
       "        `keras.utils.Sequence` input only. If `True`, use process-based\n",
       "        threading. If unspecified, `use_multiprocessing` will default to\n",
       "        `False`. Note that because this implementation relies on\n",
       "        multiprocessing, you should not pass non-pickleable arguments to\n",
       "        the generator as they can't be passed easily to children\n",
       "        processes.\n",
       "\n",
       "See the discussion of `Unpacking behavior for iterator-like inputs` for\n",
       "`Model.fit`. Note that Model.predict uses the same interpretation rules\n",
       "as `Model.fit` and `Model.evaluate`, so inputs must be unambiguous for\n",
       "all three methods.\n",
       "\n",
       "Returns:\n",
       "    Numpy array(s) of predictions.\n",
       "\n",
       "Raises:\n",
       "    RuntimeError: If `model.predict` is wrapped in a `tf.function`.\n",
       "    ValueError: In case of mismatch between the provided\n",
       "        input data and the model's expectations,\n",
       "        or in case a stateful model receives a number of samples\n",
       "        that is not a multiple of the batch size.\n",
       "\u001b[0;31mFile:\u001b[0m      ~/.local/lib/python3.11/site-packages/keras/src/engine/training.py\n",
       "\u001b[0;31mType:\u001b[0m      method"
      ]
     },
     "metadata": {},
     "output_type": "display_data"
    }
   ],
   "source": [
    "model"
   ]
  },
  {
   "cell_type": "code",
   "execution_count": null,
   "id": "ca76e13e-56ac-4263-8af1-5465da18ab8e",
   "metadata": {},
   "outputs": [],
   "source": []
  }
 ],
 "metadata": {
  "kernelspec": {
   "display_name": "Python 3 (ipykernel)",
   "language": "python",
   "name": "python3"
  },
  "language_info": {
   "codemirror_mode": {
    "name": "ipython",
    "version": 3
   },
   "file_extension": ".py",
   "mimetype": "text/x-python",
   "name": "python",
   "nbconvert_exporter": "python",
   "pygments_lexer": "ipython3",
   "version": "3.11.5"
  }
 },
 "nbformat": 4,
 "nbformat_minor": 5
}
