{
 "cells": [
  {
   "cell_type": "code",
   "execution_count": null,
   "id": "05d6fa12-51d9-41f8-924b-a37beb068ff0",
   "metadata": {},
   "outputs": [],
   "source": [
    "from sympy import *\n",
    "init_session()"
   ]
  },
  {
   "cell_type": "code",
   "execution_count": null,
   "id": "78c26c6d-74b9-4dc8-93bd-c518a0da41d6",
   "metadata": {},
   "outputs": [],
   "source": [
    "a, b, c, d, o, p, q, r = symbols('a b c d o p q r')"
   ]
  },
  {
   "cell_type": "code",
   "execution_count": null,
   "id": "a888471d-c678-4d03-94d1-1de8141ea9b0",
   "metadata": {},
   "outputs": [],
   "source": [
    "c_vec = Matrix([a, b, c])\n",
    "r_vec = Matrix([x, y, z]).T"
   ]
  },
  {
   "cell_type": "code",
   "execution_count": null,
   "id": "82fb7630-c178-4ee8-84ed-4023415665fa",
   "metadata": {},
   "outputs": [],
   "source": [
    "print(c_vec)\n",
    "print(r_vec)"
   ]
  },
  {
   "cell_type": "code",
   "execution_count": null,
   "id": "8fe517de-7d5a-4440-9036-7682aa4a03e7",
   "metadata": {},
   "outputs": [],
   "source": [
    "r_vec @ c_vec"
   ]
  },
  {
   "cell_type": "code",
   "execution_count": null,
   "id": "503eba88-0731-4bfd-a7b3-9284fa0dd434",
   "metadata": {},
   "outputs": [],
   "source": [
    "c_vec @ r_vec"
   ]
  },
  {
   "cell_type": "code",
   "execution_count": null,
   "id": "10407502-4e9f-4372-9f10-69c81449f80f",
   "metadata": {},
   "outputs": [],
   "source": [
    "M = Matrix([a, b, c, d]).reshape(2, 2)\n",
    "N = Matrix([o, p, q, r]).reshape(2, 2)\n",
    "M @ N"
   ]
  },
  {
   "cell_type": "code",
   "execution_count": null,
   "id": "b810475c-4438-405b-980e-69fb05efc3fc",
   "metadata": {},
   "outputs": [],
   "source": []
  }
 ],
 "metadata": {
  "kernelspec": {
   "display_name": "Python 3 (ipykernel)",
   "language": "python",
   "name": "python3"
  },
  "language_info": {
   "codemirror_mode": {
    "name": "ipython",
    "version": 3
   },
   "file_extension": ".py",
   "mimetype": "text/x-python",
   "name": "python",
   "nbconvert_exporter": "python",
   "pygments_lexer": "ipython3",
   "version": "3.11.5"
  }
 },
 "nbformat": 4,
 "nbformat_minor": 5
}
