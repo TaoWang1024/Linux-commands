{
 "cells": [
  {
   "cell_type": "code",
   "execution_count": 60,
   "id": "e54deb57-ca93-4f22-b177-583efbe99869",
   "metadata": {},
   "outputs": [],
   "source": [
    "from tensorflow import keras, argmax\n",
    "import numpy as np\n",
    "from keras.datasets import mnist\n",
    "import matplotlib.pyplot as plt"
   ]
  },
  {
   "cell_type": "code",
   "execution_count": 2,
   "id": "4646be0c-3265-4bd8-b9e2-22a1756c5b52",
   "metadata": {},
   "outputs": [],
   "source": [
    "# load trained model into session memory\n",
    "model = keras.models.load_model('chollet_mnist_model')"
   ]
  },
  {
   "cell_type": "code",
   "execution_count": 62,
   "id": "94adf4e1-747e-4ea2-83dc-47d716694d30",
   "metadata": {},
   "outputs": [],
   "source": [
    "# FOR NEW PREDICTION, RE-RUN THIS CELL FIRST TO RESET THE IMAGE SETS\n",
    "# load image set\n",
    "(train_imgs, train_lbls), (test_imgs, test_lbls) = mnist.load_data()"
   ]
  },
  {
   "cell_type": "code",
   "execution_count": 63,
   "id": "5e5e3147-8ea1-45cf-ba07-12c5980e08f0",
   "metadata": {},
   "outputs": [
    {
     "data": {
      "image/png": "[encoded data removed]",
      "text/plain": [
       "<Figure size 640x480 with 1 Axes>"
      ]
     },
     "metadata": {},
     "output_type": "display_data"
    }
   ],
   "source": [
    "# we'll use images from the test set\n",
    "idx = 6000 # index value of image we're using\n",
    "digit = test_imgs[idx]\n",
    "plt.imshow(digit, cmap=plt.cm.binary)\n",
    "plt.show()"
   ]
  },
  {
   "cell_type": "code",
   "execution_count": 64,
   "id": "f568489a-8035-4173-a930-2ac51c6c7762",
   "metadata": {},
   "outputs": [
    {
     "data": {
      "text/plain": [
       "9"
      ]
     },
     "execution_count": 64,
     "metadata": {},
     "output_type": "execute_result"
    }
   ],
   "source": [
    "# verify the label\n",
    "test_lbls[idx]"
   ]
  },
  {
   "cell_type": "code",
   "execution_count": 65,
   "id": "b5c518e3-66b5-4c6e-9258-2474b94f76b4",
   "metadata": {},
   "outputs": [],
   "source": [
    "# condition the data\n",
    "test_imgs = test_imgs.reshape((10000, 28 * 28))\n",
    "test_imgs = test_imgs.astype(\"float32\") / 255"
   ]
  },
  {
   "cell_type": "code",
   "execution_count": 66,
   "id": "add2d86d-2a85-4124-8fac-55c22836e58c",
   "metadata": {},
   "outputs": [
    {
     "data": {
      "text/plain": [
       "<tf.Tensor: shape=(1, 10), dtype=float32, numpy=\n",
       "array([[4.0789087e-07, 8.3718078e-08, 4.3005963e-07, 1.3014772e-04,\n",
       "        7.5327313e-05, 2.1940532e-05, 2.3169109e-11, 7.1794209e-03,\n",
       "        1.6024525e-06, 9.9259067e-01]], dtype=float32)>"
      ]
     },
     "execution_count": 66,
     "metadata": {},
     "output_type": "execute_result"
    }
   ],
   "source": [
    "# we pass in the image to the model as a numpy array,\n",
    "# and the model will make a prediction\n",
    "img = np.array(test_imgs[idx])\n",
    "prediction = model(img[None,:], training=False)\n",
    "prediction"
   ]
  },
  {
   "cell_type": "code",
   "execution_count": 67,
   "id": "a98dd7d9-700a-4744-a719-a72e5e3833ef",
   "metadata": {},
   "outputs": [
    {
     "data": {
      "text/plain": [
       "<tf.Tensor: shape=(1,), dtype=int64, numpy=array([9])>"
      ]
     },
     "execution_count": 67,
     "metadata": {},
     "output_type": "execute_result"
    }
   ],
   "source": [
    "# get the value closest to 1 in the numpy array of the prediction tensor\n",
    "argmax(prediction,axis=1)"
   ]
  },
  {
   "cell_type": "code",
   "execution_count": null,
   "id": "8cd373b3-09a3-4230-9375-eaea7ea07e49",
   "metadata": {},
   "outputs": [],
   "source": []
  }
 ],
 "metadata": {
  "kernelspec": {
   "display_name": "Python 3 (ipykernel)",
   "language": "python",
   "name": "python3"
  },
  "language_info": {
   "codemirror_mode": {
    "name": "ipython",
    "version": 3
   },
   "file_extension": ".py",
   "mimetype": "text/x-python",
   "name": "python",
   "nbconvert_exporter": "python",
   "pygments_lexer": "ipython3",
   "version": "3.11.5"
  }
 },
 "nbformat": 4,
 "nbformat_minor": 5
}
