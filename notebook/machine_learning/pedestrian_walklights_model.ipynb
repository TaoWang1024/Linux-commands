{
 "cells": [
  {
   "cell_type": "code",
   "execution_count": 2,
   "id": "499ff3fd-0cc6-4a06-8ae9-f27fea5f5ba3",
   "metadata": {},
   "outputs": [],
   "source": [
    "import numpy as np\n",
    "import pickle"
   ]
  },
  {
   "cell_type": "markdown",
   "id": "8b4e0539-91e4-487d-9430-1886cbf92589",
   "metadata": {},
   "source": [
    "<img src=\"images/trask_traffic_light_network_lin_alg_obj.jpg\" height=300 width=300></img>"
   ]
  },
  {
   "cell_type": "markdown",
   "id": "7f18f7b2-2fc9-41c9-94f7-94328502f77f",
   "metadata": {},
   "source": [
    "<p>traffic lights neural network laid out as linear algebra objects: matrix, vectors, and scalar.</p>\n",
    "<p>from: <i><b style='color:red;'>grokking</b> <b>Deep Learning</b></i></p>\n",
    "<p>by Andrew W. Trask</p>"
   ]
  },
  {
   "cell_type": "code",
   "execution_count": 3,
   "id": "dc0e131e-aa64-45ec-aac5-661d237c00e1",
   "metadata": {},
   "outputs": [],
   "source": [
    "def relu(x):\n",
    "    ''' Returns x iff x > 0; otherwise, returns 0\n",
    "    '''\n",
    "    return (x > 0) * x"
   ]
  },
  {
   "cell_type": "code",
   "execution_count": 4,
   "id": "57e07931-da6f-43fa-8083-c2ede7bdee58",
   "metadata": {},
   "outputs": [],
   "source": [
    "# unpickle weights_0_1, weights_1_2\n",
    "with open('pickle/weights_0_1.pickle.bin', 'rb') as in_file:\n",
    "    weights_0_1 = pickle.load(in_file)\n",
    "with open('pickle/weights_1_2.pickle.bin', 'rb') as in_file:\n",
    "    weights_1_2 = pickle.load(in_file)"
   ]
  },
  {
   "cell_type": "code",
   "execution_count": 6,
   "id": "12cb9af3-218d-4695-85c0-f12582cafecd",
   "metadata": {},
   "outputs": [
    {
     "name": "stdout",
     "output_type": "stream",
     "text": [
      "0\n"
     ]
    }
   ],
   "source": [
    "layer_0 = [1, 1, 1] # enter your input\n",
    "layer_1 = relu(np.dot(layer_0, weights_0_1)) \n",
    "layer_2 = np.dot(layer_1, weights_1_2)\n",
    "print(int(layer_2[0]))"
   ]
  },
  {
   "cell_type": "code",
   "execution_count": null,
   "id": "ca64901c-7004-433f-91d6-aa33751ca8c7",
   "metadata": {},
   "outputs": [],
   "source": [
    "# friendly reminder\n",
    "streetlights = np.array([1, 0, 1, 0, 1, 1, 0, 0, 1, 1, 1, 1]).reshape(4, 3)\n",
    "print(streetlights)\n",
    "walk_v_stop = np.array([1, 1, 0, 0]).T\n",
    "print(walk_v_stop)"
   ]
  }
 ],
 "metadata": {
  "kernelspec": {
   "display_name": "Python 3 (ipykernel)",
   "language": "python",
   "name": "python3"
  },
  "language_info": {
   "codemirror_mode": {
    "name": "ipython",
    "version": 3
   },
   "file_extension": ".py",
   "mimetype": "text/x-python",
   "name": "python",
   "nbconvert_exporter": "python",
   "pygments_lexer": "ipython3",
   "version": "3.11.5"
  }
 },
 "nbformat": 4,
 "nbformat_minor": 5
}
