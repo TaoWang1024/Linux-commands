{
 "cells": [
  {
   "cell_type": "code",
   "execution_count": null,
   "id": "499ff3fd-0cc6-4a06-8ae9-f27fea5f5ba3",
   "metadata": {},
   "outputs": [],
   "source": [
    "import numpy as np\n",
    "import pickle"
   ]
  },
  {
   "cell_type": "code",
   "execution_count": null,
   "id": "cae637ed-b929-4a12-9c89-9d0ea857dca1",
   "metadata": {},
   "outputs": [],
   "source": [
    "def relu(x):\n",
    "    ''' Returns x iff x > 0; otherwise, returns 0\n",
    "    '''\n",
    "    return (x > 0) * x"
   ]
  },
  {
   "cell_type": "code",
   "execution_count": null,
   "id": "57e07931-da6f-43fa-8083-c2ede7bdee58",
   "metadata": {},
   "outputs": [],
   "source": [
    "# unpickle weights_0_1, weights_1_2\n",
    "with open('pickle/weights_0_1.pickle.bin', 'rb') as in_file:\n",
    "    weights_0_1 = pickle.load(in_file)\n",
    "with open('pickle/weights_1_2.pickle.bin', 'rb') as in_file:\n",
    "    weights_1_2 = pickle.load(in_file)"
   ]
  },
  {
   "cell_type": "code",
   "execution_count": null,
   "id": "12cb9af3-218d-4695-85c0-f12582cafecd",
   "metadata": {},
   "outputs": [],
   "source": [
    "layer_0 = [1, 0, 1] # enter your input\n",
    "layer_1 = relu(np.dot(layer_0, weights_0_1))\n",
    "layer_2 = np.dot(layer_1, weights_1_2)\n",
    "print(int(layer_2[0]))"
   ]
  },
  {
   "cell_type": "code",
   "execution_count": null,
   "id": "ca64901c-7004-433f-91d6-aa33751ca8c7",
   "metadata": {},
   "outputs": [],
   "source": [
    "# friendly reminder\n",
    "streetlights = np.array([1, 0, 1, 0, 1, 1, 0, 0, 1, 1, 1, 1]).reshape(4, 3)\n",
    "print(streetlights)\n",
    "walk_v_stop = np.array([1, 1, 0, 0]).T\n",
    "print(walk_v_stop)"
   ]
  }
 ],
 "metadata": {
  "kernelspec": {
   "display_name": "Python 3 (ipykernel)",
   "language": "python",
   "name": "python3"
  },
  "language_info": {
   "codemirror_mode": {
    "name": "ipython",
    "version": 3
   },
   "file_extension": ".py",
   "mimetype": "text/x-python",
   "name": "python",
   "nbconvert_exporter": "python",
   "pygments_lexer": "ipython3",
   "version": "3.11.5"
  }
 },
 "nbformat": 4,
 "nbformat_minor": 5
}
