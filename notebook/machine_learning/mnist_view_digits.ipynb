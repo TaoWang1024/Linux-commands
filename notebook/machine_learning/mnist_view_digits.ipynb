{
 "cells": [
  {
   "cell_type": "code",
   "execution_count": null,
   "id": "a516a92d-b873-46c5-8f01-5573fe999352",
   "metadata": {},
   "outputs": [],
   "source": [
    "''' Given an ndarray from train or test imgs,\n",
    "    render handwritten digit using matplotlib.\n",
    "    Show corresponding int in train or test lbls\n",
    "'''\n",
    "from keras.datasets import mnist\n",
    "import matplotlib.pyplot as plt"
   ]
  },
  {
   "cell_type": "code",
   "execution_count": null,
   "id": "760447c0-1dcb-41b9-b642-d685988c2920",
   "metadata": {},
   "outputs": [],
   "source": [
    "(train_imgs, train_lbls), (test_imgs, test_lbls) = mnist.load_data()"
   ]
  },
  {
   "cell_type": "code",
   "execution_count": null,
   "id": "78f91fdf-316c-4add-b148-474d23cb2dcc",
   "metadata": {},
   "outputs": [],
   "source": [
    "''' set digit as specific ndarray and show.\n",
    "'''\n",
    "digit = train_imgs[4]\n",
    "plt.imshow(digit, cmap=plt.cm.binary)\n",
    "plt.show()"
   ]
  },
  {
   "cell_type": "code",
   "execution_count": null,
   "id": "e8593fb2-3152-4e9a-a0e2-69a71031af18",
   "metadata": {},
   "outputs": [],
   "source": [
    "# corresponding label (digit)\n",
    "train_lbls[4]"
   ]
  },
  {
   "cell_type": "code",
   "execution_count": null,
   "id": "d7c8bf50-0e57-47ce-8dac-b1a0af5bf4e1",
   "metadata": {},
   "outputs": [],
   "source": [
    "digit.shape"
   ]
  },
  {
   "cell_type": "code",
   "execution_count": null,
   "id": "b415fc65-1fec-4274-82d0-e644e3b149be",
   "metadata": {},
   "outputs": [],
   "source": [
    "len(digit)"
   ]
  },
  {
   "cell_type": "code",
   "execution_count": null,
   "id": "34599660-760e-45aa-83fa-12496e8380f3",
   "metadata": {},
   "outputs": [],
   "source": []
  }
 ],
 "metadata": {
  "kernelspec": {
   "display_name": "Python 3 (ipykernel)",
   "language": "python",
   "name": "python3"
  },
  "language_info": {
   "codemirror_mode": {
    "name": "ipython",
    "version": 3
   },
   "file_extension": ".py",
   "mimetype": "text/x-python",
   "name": "python",
   "nbconvert_exporter": "python",
   "pygments_lexer": "ipython3",
   "version": "3.11.5"
  }
 },
 "nbformat": 4,
 "nbformat_minor": 5
}
