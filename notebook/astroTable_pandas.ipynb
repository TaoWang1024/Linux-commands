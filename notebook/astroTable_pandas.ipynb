{
 "cells": [
  {
   "cell_type": "markdown",
   "id": "b55ff1db",
   "metadata": {},
   "source": [
    "implementing the conversion from polar coordinates to rectangular coordinates in the star catalog using pandas"
   ]
  },
  {
   "cell_type": "markdown",
   "id": "a2b7b3e7",
   "metadata": {},
   "source": [
    "1) initialization"
   ]
  },
  {
   "cell_type": "code",
   "execution_count": null,
   "id": "fab4e0d2",
   "metadata": {},
   "outputs": [],
   "source": [
    "import pandas as pd\n",
    "import numpy as np\n",
    "astroTable = pd.read_csv('/home/user/datafile/hygdata_v3.csv', index_col='id')"
   ]
  },
  {
   "cell_type": "code",
   "execution_count": null,
   "id": "d1e6c0c4",
   "metadata": {},
   "outputs": [],
   "source": [
    "astroTable # view the dataframe"
   ]
  },
  {
   "cell_type": "code",
   "execution_count": null,
   "id": "6bec4841",
   "metadata": {},
   "outputs": [],
   "source": [
    "polarCoor, rectCoor = pd.DataFrame(), pd.DataFrame() # create 2 dataframes to implement the solution"
   ]
  },
  {
   "cell_type": "markdown",
   "id": "536f4789",
   "metadata": {},
   "source": [
    "2. calculate"
   ]
  },
  {
   "cell_type": "code",
   "execution_count": null,
   "id": "40b83f18",
   "metadata": {},
   "outputs": [],
   "source": [
    "''' note that pandas makes use of column labels, \n",
    "    which is more intuitive to researchers working with datasets than column indices\n",
    "    note also that we populate the empty polarCoor dataframe with the results of our vectorized operations.\n",
    "'''\n",
    "polarCoor['ra'] = np.deg2rad(15 * astroTable['ra'])\n",
    "polarCoor['dec'] = np.deg2rad(astroTable['dec'])\n",
    "polarCoor['r'] = astroTable['dist']"
   ]
  },
  {
   "cell_type": "code",
   "execution_count": null,
   "id": "b400fa27",
   "metadata": {},
   "outputs": [],
   "source": [
    "polarCoor # view the dataframe"
   ]
  },
  {
   "cell_type": "markdown",
   "id": "6fd6b4c2",
   "metadata": {},
   "source": [
    "converting the polar coordinates to rectangulare coordinates"
   ]
  },
  {
   "cell_type": "code",
   "execution_count": null,
   "id": "f407af12",
   "metadata": {},
   "outputs": [],
   "source": [
    "rectCoor['x'] = np.cos(polarCoor['ra']) * np.cos(polarCoor['dec']) * polarCoor['r']\n",
    "rectCoor['y'] = np.sin(polarCoor['ra']) * polarCoor['r']\n",
    "rectCoor['z'] = np.cos(polarCoor['ra']) * np.sin(polarCoor['dec']) * polarCoor['r']"
   ]
  },
  {
   "cell_type": "code",
   "execution_count": null,
   "id": "46d3f010",
   "metadata": {},
   "outputs": [],
   "source": [
    "rectCoor # view the dataframe. note that the vectors are column vectors"
   ]
  },
  {
   "cell_type": "markdown",
   "id": "e1d4d12b",
   "metadata": {},
   "source": [
    "3. write out results, save the star catalog dataframe in a pickled file"
   ]
  },
  {
   "cell_type": "code",
   "execution_count": null,
   "id": "6d4ced01",
   "metadata": {},
   "outputs": [],
   "source": [
    "astroTable.to_pickle('/home/user/pickle/astroTable_df.bin')\n",
    "# we can specify as a named argument whether we want pandas\n",
    "# to write out the index column. the default is to do so.\n",
    "rectCoor.to_csv('/home/user/datafile/rectCoor.csv')"
   ]
  }
 ],
 "metadata": {
  "kernelspec": {
   "display_name": "Python 3 (ipykernel)",
   "language": "python",
   "name": "python3"
  },
  "language_info": {
   "codemirror_mode": {
    "name": "ipython",
    "version": 3
   },
   "file_extension": ".py",
   "mimetype": "text/x-python",
   "name": "python",
   "nbconvert_exporter": "python",
   "pygments_lexer": "ipython3",
   "version": "3.11.2"
  }
 },
 "nbformat": 4,
 "nbformat_minor": 5
}
