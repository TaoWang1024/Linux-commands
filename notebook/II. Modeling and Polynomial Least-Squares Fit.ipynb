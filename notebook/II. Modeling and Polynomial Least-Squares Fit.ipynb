{
 "cells": [
  {
   "cell_type": "markdown",
   "id": "fd478c07",
   "metadata": {},
   "source": [
    "# Modeling and Polynomial Least-Squares Fit"
   ]
  },
  {
   "cell_type": "markdown",
   "id": "21a4c12e",
   "metadata": {},
   "source": [
    "## adapted from Rorres and Anton, <i>Applications of Linear Algebra, 3e</i> , 1984. pp 201-4."
   ]
  },
  {
   "cell_type": "markdown",
   "id": "e2db455d",
   "metadata": {},
   "source": [
    "<div style=\"border:2px solid black;\">\n",
    "<p></p>\n",
    "\n",
    "$\\textit{ Let us attempt to fit a polynomial of fixed degree}$ m\n",
    "<p></p>\n",
    "<center>\n",
    "<i>y = $a_0 + a_1x + ... + a_mx^{m}$ </i>\n",
    "</center>\n",
    "\n",
    "<p></p>\n",
    "\n",
    "$\\textit{ to n points ($x_1$, $y_1$), ($x_2$, $y_2$), ..., ($x_n$, $y_n$).}$\n",
    "\n",
    "<p></p>\n",
    "\n",
    "$\\textit{ Substituting these }$ n $\\textit{values of }$ x $\\textit{and}$ y $\\textit{into}$\n",
    "\n",
    "<p></p>\n",
    "<center>\n",
    "<i>y = $a_0 + a_1x + ... + a_mx^{m}$ </i>\n",
    "</center>\n",
    "\n",
    "$\\textit{ yields the }$ n $\\textit{equations}$\n",
    "\n",
    "<center>\n",
    "$\\begin{bmatrix} y_1\\\\y_2\\\\...\\\\y_n \\end{bmatrix}$ = \n",
    "$\\begin{bmatrix} 1&x_1&x_1^{2}&...&x_1^{m} \\\\ 1&x_2&x_2^{2}&...&x_2^{m} \\\\ ... \\\\ 1&x_n&x_n^{2}&...&x_n^{m} \\end{bmatrix}$\n",
    "$\\begin{bmatrix} a_0\\\\a_1\\\\...\\\\a_m \\end{bmatrix}$, \n",
    "</center>\n",
    "\n",
    "$\\textit{ or, more simply, }$\n",
    "\n",
    "<p></p>\n",
    "<center>\n",
    "<b>y</b> = <i>M</i> <b>v</b> ,\n",
    "</center>\n",
    "\n",
    "<p></p>\n",
    "$\\textit{ where}$\n",
    "\n",
    "<center>\n",
    "<b>y</b> = $\\begin{bmatrix} y_1\\\\y_2\\\\...\\\\y_n \\end{bmatrix}$ ,\n",
    "<i>M</i> = $\\begin{bmatrix} 1&x_1&x_1^{2}&...&x_1^{m} \\\\ 1&x_2&x_2^{2}&...&x_2^{m} \\\\ ... \\\\ 1&x_n&x_n^{2}&...&x_n^{m} \\end{bmatrix}$ , \n",
    "<b>v</b> = $\\begin{bmatrix} a_0\\\\a_1\\\\...\\\\a_m \\end{bmatrix}$ . \n",
    "</center>\n",
    "<p></p>\n",
    "\n",
    "$\\textit{ Exactly as before, it can be shown that the least squares solution for}$ <b>v</b> $\\textit{is given by}$\n",
    "<p></p>\n",
    "\n",
    "<center>\n",
    "$\\textbf{v} \\textit{= $(M^{T}M)^-1 M^{T}$} \\textbf{y}$\n",
    "</center>\n",
    "<p></p>\n",
    "\n",
    "$\\textit{ which determines the coefficients of the polynomial.}$\n",
    "<p></p>\n",
    "</div>"
   ]
  },
  {
   "cell_type": "markdown",
   "id": "c0bb3e5e",
   "metadata": {},
   "source": [
    "<p>EXAMPLE. From Theorem II Proposition II in Chapter III of Galileo's <i>The Two Sciences</i>, one can derive the fundamental modern equation that yields the vertical displacement for falling bodies: </p>\n",
    "<p></p>\n",
    "<center>\n",
    "$\\textit{s = $s_0$ + $v_0t$ + $\\frac{1}{2}gt^{2}$}$\n",
    "</center>\n",
    "<p>where</p>\n",
    "<p>$s$ = vertical displacement downward relative to some point body occupies at time t = 0;</p>\n",
    "<p>$s_0$ = initial displacement at time t = 0;</p>\n",
    "<p>$v_0$ = initial velocity at time t = 0;</p>\n",
    "<p>$g$ = acceleration from gravity</p>\n",
    "<p></p>\n",
    "<p>In a college physics lab, students drop weights with unknown initial displacements and velocity; and in tenths of a second, lab hardware records the vertical displacements (s) of the weights.\n",
    " One student finds that at times t = .1, .2, .3, .4, and .5 seconds, her weight has fallen s = -0.18, 0.31, 1.03, 2.48, and 3.73 feet, respectively, from the height she let it go.\n",
    " Find the initial displacement and initial velocity of the weight, as well as an approximate value of <i>g</i> from the data.</p>"
   ]
  },
  {
   "cell_type": "markdown",
   "id": "9857a656",
   "metadata": {},
   "source": [
    "## sympy approach"
   ]
  },
  {
   "cell_type": "code",
   "execution_count": 77,
   "id": "6984083d",
   "metadata": {},
   "outputs": [
    {
     "name": "stdout",
     "output_type": "stream",
     "text": [
      "IPython console for SymPy 1.8 (Python 3.9.6-64-bit) (ground types: gmpy)\n",
      "\n",
      "These commands were executed:\n",
      ">>> from __future__ import division\n",
      ">>> from sympy import *\n",
      ">>> x, y, z, t = symbols('x y z t')\n",
      ">>> k, m, n = symbols('k m n', integer=True)\n",
      ">>> f, g, h = symbols('f g h', cls=Function)\n",
      ">>> init_printing()\n",
      "\n",
      "Documentation can be found at https://docs.sympy.org/1.8/\n",
      "\n"
     ]
    }
   ],
   "source": [
    "from sympy import init_session\n",
    "init_session()"
   ]
  },
  {
   "cell_type": "code",
   "execution_count": 78,
   "id": "158e873b",
   "metadata": {},
   "outputs": [
    {
     "name": "stderr",
     "output_type": "stream",
     "text": [
      "/home/user/miniconda/lib/python3.9/site-packages/IPython/lib/latextools.py:126: MatplotlibDeprecationWarning: \n",
      "The to_png function was deprecated in Matplotlib 3.4 and will be removed two minor releases later. Use mathtext.math_to_image instead.\n",
      "  mt.to_png(f, s, fontsize=12, dpi=dpi, color=color)\n",
      "/home/user/miniconda/lib/python3.9/site-packages/IPython/lib/latextools.py:126: MatplotlibDeprecationWarning: \n",
      "The to_rgba function was deprecated in Matplotlib 3.4 and will be removed two minor releases later. Use mathtext.math_to_image instead.\n",
      "  mt.to_png(f, s, fontsize=12, dpi=dpi, color=color)\n",
      "/home/user/miniconda/lib/python3.9/site-packages/IPython/lib/latextools.py:126: MatplotlibDeprecationWarning: \n",
      "The to_mask function was deprecated in Matplotlib 3.4 and will be removed two minor releases later. Use mathtext.math_to_image instead.\n",
      "  mt.to_png(f, s, fontsize=12, dpi=dpi, color=color)\n",
      "/home/user/miniconda/lib/python3.9/site-packages/IPython/lib/latextools.py:126: MatplotlibDeprecationWarning: \n",
      "The MathtextBackendBitmap class was deprecated in Matplotlib 3.4 and will be removed two minor releases later. Use mathtext.math_to_image instead.\n",
      "  mt.to_png(f, s, fontsize=12, dpi=dpi, color=color)\n"
     ]
    },
    {
     "data": {
      "text/latex": [
       "$\\displaystyle \\left[\\begin{matrix}1 & 0.1 & 0.01\\\\1 & 0.2 & 0.04\\\\1 & 0.3 & 0.09\\\\1 & 0.4 & 0.16\\\\1 & 0.5 & 0.25\\end{matrix}\\right]$"
      ],
      "text/plain": [
       "⎡1  0.1  0.01⎤\n",
       "⎢            ⎥\n",
       "⎢1  0.2  0.04⎥\n",
       "⎢            ⎥\n",
       "⎢1  0.3  0.09⎥\n",
       "⎢            ⎥\n",
       "⎢1  0.4  0.16⎥\n",
       "⎢            ⎥\n",
       "⎣1  0.5  0.25⎦"
      ]
     },
     "execution_count": 78,
     "metadata": {},
     "output_type": "execute_result"
    }
   ],
   "source": [
    "M = Matrix([1, .1, .01, 1, .2, .04, 1, .3, .09, 1, .4, .16, 1, .5, .25]).reshape(5, 3)\n",
    "M"
   ]
  },
  {
   "cell_type": "code",
   "execution_count": 79,
   "id": "7361be3d",
   "metadata": {},
   "outputs": [
    {
     "data": {
      "text/latex": [
       "$\\displaystyle \\left[\\begin{matrix}5 & 1.5 & 0.55\\\\1.5 & 0.55 & 0.225\\\\0.55 & 0.225 & 0.0979\\end{matrix}\\right]$"
      ],
      "text/plain": [
       "⎡ 5     1.5    0.55 ⎤\n",
       "⎢                   ⎥\n",
       "⎢1.5   0.55   0.225 ⎥\n",
       "⎢                   ⎥\n",
       "⎣0.55  0.225  0.0979⎦"
      ]
     },
     "execution_count": 79,
     "metadata": {},
     "output_type": "execute_result"
    }
   ],
   "source": [
    "A = M.transpose() * M\n",
    "A"
   ]
  },
  {
   "cell_type": "code",
   "execution_count": 80,
   "id": "85164de3",
   "metadata": {},
   "outputs": [
    {
     "data": {
      "text/latex": [
       "$\\displaystyle \\left[\\begin{matrix}4.59999999999998 & -32.9999999999998 & 49.9999999999997\\\\-32.9999999999998 & 267.142857142856 & -428.571428571426\\\\49.9999999999997 & -428.571428571426 & 714.285714285711\\end{matrix}\\right]$"
      ],
      "text/plain": [
       "⎡4.59999999999998   -32.9999999999998  49.9999999999997 ⎤\n",
       "⎢                                                       ⎥\n",
       "⎢-32.9999999999998  267.142857142856   -428.571428571426⎥\n",
       "⎢                                                       ⎥\n",
       "⎣49.9999999999997   -428.571428571426  714.285714285711 ⎦"
      ]
     },
     "execution_count": 80,
     "metadata": {},
     "output_type": "execute_result"
    }
   ],
   "source": [
    "A.inv()"
   ]
  },
  {
   "cell_type": "code",
   "execution_count": 81,
   "id": "3299abb7",
   "metadata": {},
   "outputs": [
    {
     "data": {
      "text/latex": [
       "$\\displaystyle \\left[\\begin{matrix}4.6 & -33.0 & 50.0\\\\-33.0 & 267.14 & -428.57\\\\50.0 & -428.57 & 714.29\\end{matrix}\\right]$"
      ],
      "text/plain": [
       "⎡ 4.6    -33.0    50.0  ⎤\n",
       "⎢                       ⎥\n",
       "⎢-33.0  267.14   -428.57⎥\n",
       "⎢                       ⎥\n",
       "⎣50.0   -428.57  714.29 ⎦"
      ]
     },
     "execution_count": 81,
     "metadata": {},
     "output_type": "execute_result"
    }
   ],
   "source": [
    "# we want to round all floats. we can do this using lambdas to determine which values are floats,\n",
    "# then round those that are\n",
    "expr = A.inv()\n",
    "from sympy.core.rules import Transform\n",
    "expr.xreplace(Transform(lambda x: x.round(2), lambda x: isinstance(x, Float)))"
   ]
  },
  {
   "cell_type": "code",
   "execution_count": 103,
   "id": "ef86c441",
   "metadata": {},
   "outputs": [
    {
     "data": {
      "text/latex": [
       "$\\displaystyle \\left[\\begin{matrix}0.0\\\\-0.01\\\\4.93\\end{matrix}\\right]$"
      ],
      "text/plain": [
       "⎡ 0.0  ⎤\n",
       "⎢      ⎥\n",
       "⎢-0.e-2⎥\n",
       "⎢      ⎥\n",
       "⎣ 4.93 ⎦"
      ]
     },
     "execution_count": 103,
     "metadata": {},
     "output_type": "execute_result"
    }
   ],
   "source": [
    "# we also want to round the final values in our output column vector\n",
    "expr = A.inv() * M.transpose() * Matrix([.05, .20, .44, .79, 1.23])\n",
    "from sympy.core.rules import Transform\n",
    "expr.xreplace(Transform(lambda x: x.round(2), lambda x: isinstance(x, Float)))"
   ]
  },
  {
   "cell_type": "markdown",
   "id": "05b477b5",
   "metadata": {},
   "source": [
    "## numpy approach"
   ]
  },
  {
   "cell_type": "code",
   "execution_count": 105,
   "id": "016f41ec",
   "metadata": {},
   "outputs": [],
   "source": [
    "import numpy as np"
   ]
  },
  {
   "cell_type": "code",
   "execution_count": 106,
   "id": "17aeb094",
   "metadata": {},
   "outputs": [
    {
     "data": {
      "text/plain": [
       "array([[1.  , 0.1 , 0.01],\n",
       "       [1.  , 0.2 , 0.04],\n",
       "       [1.  , 0.3 , 0.09],\n",
       "       [1.  , 0.4 , 0.16],\n",
       "       [1.  , 0.5 , 0.25]])"
      ]
     },
     "execution_count": 106,
     "metadata": {},
     "output_type": "execute_result"
    }
   ],
   "source": [
    "M = np.array([1, .1, .01, 1, .2, .04, 1, .3, .09, 1, .4, .16, 1, .5, .25]).reshape(5, 3)\n",
    "M"
   ]
  },
  {
   "cell_type": "code",
   "execution_count": 107,
   "id": "3e45d50c",
   "metadata": {},
   "outputs": [
    {
     "data": {
      "text/plain": [
       "array([[5.    , 1.5   , 0.55  ],\n",
       "       [1.5   , 0.55  , 0.225 ],\n",
       "       [0.55  , 0.225 , 0.0979]])"
      ]
     },
     "execution_count": 107,
     "metadata": {},
     "output_type": "execute_result"
    }
   ],
   "source": [
    "A = np.dot(M.T, M)\n",
    "A"
   ]
  },
  {
   "cell_type": "code",
   "execution_count": 108,
   "id": "3177b010",
   "metadata": {},
   "outputs": [
    {
     "data": {
      "text/plain": [
       "array([[   4.6       ,  -33.        ,   50.        ],\n",
       "       [ -33.        ,  267.14285714, -428.57142857],\n",
       "       [  50.        , -428.57142857,  714.28571429]])"
      ]
     },
     "execution_count": 108,
     "metadata": {},
     "output_type": "execute_result"
    }
   ],
   "source": [
    "np.linalg.inv(A)"
   ]
  },
  {
   "cell_type": "code",
   "execution_count": 109,
   "id": "fee54e62",
   "metadata": {},
   "outputs": [
    {
     "data": {
      "text/plain": [
       "array([ 2.00000000e-03, -7.14285714e-03,  4.92857143e+00])"
      ]
     },
     "execution_count": 109,
     "metadata": {},
     "output_type": "execute_result"
    }
   ],
   "source": [
    "np.dot(np.dot(np.linalg.inv(A), M.T), np.array([.05, .20, .44, .79, 1.23]))"
   ]
  },
  {
   "cell_type": "markdown",
   "id": "f22ee006",
   "metadata": {},
   "source": [
    "# scipy approach"
   ]
  },
  {
   "cell_type": "code",
   "execution_count": 110,
   "id": "088a7949",
   "metadata": {},
   "outputs": [],
   "source": [
    "from scipy import optimize"
   ]
  },
  {
   "cell_type": "code",
   "execution_count": 112,
   "id": "1c9e7bbf",
   "metadata": {},
   "outputs": [],
   "source": [
    "x = [.1, .2, .3, .4, .5]\n",
    "y = [.05, .20, .44, .79, 1.23] # observed data\n",
    "def f_(x, s0, v0, g): # we put the x-array first\n",
    "    return s0 + v0*x + (1/2)*g*x**2\n"
   ]
  },
  {
   "cell_type": "code",
   "execution_count": 113,
   "id": "23a42a51",
   "metadata": {},
   "outputs": [],
   "source": [
    "popt, pcov = optimize.curve_fit(f_, x, y) # we need a general curve-fitting function"
   ]
  },
  {
   "cell_type": "code",
   "execution_count": 114,
   "id": "121d4eda",
   "metadata": {},
   "outputs": [
    {
     "data": {
      "text/plain": [
       "array([ 1.99999265e-03, -7.14279878e-03,  9.85714267e+00])"
      ]
     },
     "execution_count": 114,
     "metadata": {},
     "output_type": "execute_result"
    }
   ],
   "source": [
    "popt # we read the optimal parameters in the order of the function's parameters (above), as: s0, v0, and g"
   ]
  },
  {
   "cell_type": "code",
   "execution_count": 115,
   "id": "08cd11f0",
   "metadata": {},
   "outputs": [
    {
     "data": {
      "text/plain": [
       "array([[ 5.25715644e-05, -3.77144373e-04,  1.14286465e-03],\n",
       "       [-3.77144373e-04,  3.05307695e-03, -9.79599014e-03],\n",
       "       [ 1.14286465e-03, -9.79599014e-03,  3.26533596e-02]])"
      ]
     },
     "execution_count": 115,
     "metadata": {},
     "output_type": "execute_result"
    }
   ],
   "source": [
    "pcov # estimated covariance of popt."
   ]
  },
  {
   "cell_type": "markdown",
   "id": "f9357a9f",
   "metadata": {},
   "source": [
    "## matplotlib plot"
   ]
  },
  {
   "cell_type": "code",
   "execution_count": 116,
   "id": "471e8810",
   "metadata": {},
   "outputs": [],
   "source": [
    "%matplotlib inline\n",
    "import matplotlib.pyplot as plt"
   ]
  },
  {
   "cell_type": "code",
   "execution_count": 117,
   "id": "49c191df",
   "metadata": {},
   "outputs": [],
   "source": [
    "x = np.array([.1, .2, .3, .4, .5])"
   ]
  },
  {
   "cell_type": "code",
   "execution_count": 118,
   "id": "cb0b8e15",
   "metadata": {},
   "outputs": [
    {
     "data": {
      "image/png": "[encoded data removed]",
      "text/plain": [
       "<Figure size 432x288 with 1 Axes>"
      ]
     },
     "metadata": {
      "needs_background": "light"
     },
     "output_type": "display_data"
    }
   ],
   "source": [
    "s_0, v_0, g = 0., 0.0, 9.8\n",
    "y = s_0 + v_0*x + (1/2)*g*x**2\n",
    "plt.plot(x, y)\n",
    "y = [.05, .19, .45, .79, 1.22]\n",
    "plt.scatter(x, y)\n",
    "#plt.gca().set_aspect('equal')\n",
    "plt.grid(True)\n",
    "plt.show()"
   ]
  },
  {
   "cell_type": "code",
   "execution_count": null,
   "id": "e1fdcceb",
   "metadata": {},
   "outputs": [],
   "source": []
  }
 ],
 "metadata": {
  "kernelspec": {
   "display_name": "Python 3 (ipykernel)",
   "language": "python",
   "name": "python3"
  },
  "language_info": {
   "codemirror_mode": {
    "name": "ipython",
    "version": 3
   },
   "file_extension": ".py",
   "mimetype": "text/x-python",
   "name": "python",
   "nbconvert_exporter": "python",
   "pygments_lexer": "ipython3",
   "version": "3.9.6"
  }
 },
 "nbformat": 4,
 "nbformat_minor": 5
}
