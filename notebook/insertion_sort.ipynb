{
 "cells": [
  {
   "cell_type": "markdown",
   "metadata": {},
   "source": [
    "# sorting: insertion sort"
   ]
  },
  {
   "cell_type": "raw",
   "metadata": {},
   "source": [
    "there are several well-known sorting algorithms, and they are generally taught least-efficient first because the least efficient is the easiest to understand and implement. if you're sorting an unsorted list, insertion sort suffers from the same worst-case performance as bubblesort; but if you've held a hand of cards, you've likely used insertion sort to rearrange the cards in your hand. and when insertion sort is used to add items to an already-sorted list, its amortized cost is O(n/2)..."
   ]
  },
  {
   "cell_type": "markdown",
   "metadata": {},
   "source": [
    "## insertion sort"
   ]
  },
  {
   "cell_type": "markdown",
   "metadata": {},
   "source": [
    "<b>\n",
    "<p>'the insertion sort algorithm repeatedly expands a sorted subtable A[0 .. i-1] by comparing A[i] with each item A[i-1], A[i-2], ... as each of these items is passed over, it is moved one position to the right in the table, thus opening a \"hole\" into which A[i] ... can be dropped at the appropriate moment'</p>\n",
    "<p>-- p.382, lewis and denenberg, 'data structures and their algorithms', 1991</p>\n",
    "</b>"
   ]
  },
  {
   "cell_type": "code",
   "execution_count": null,
   "metadata": {},
   "outputs": [],
   "source": [
    "from IPython.display import IFrame\n",
    "IFrame('http://en.wikipedia.org/wiki/Insertion_sort', width=950, height=750)"
   ]
  },
  {
   "cell_type": "markdown",
   "metadata": {},
   "source": [
    "<b><p>'Our intellectual powers are rather geared to master static relations and that our powers to visualize processes evolving in time are relatively poorly developed. For that reason we should do (as wise programmers aware of our limitations) our utmost to shorten the conceptual gap between the static program and the dynamic process, to make the correspondence between the program (spread out in text space) and the process (spread out in time) as trivial as possible'</p>\n",
    "<p> -- edsger dijkstra, <i>a case against the GOTO statement</i>, 1968</p></b>\n",
    "<p></p>\n",
    "<p>with that in mind, let's look at dynamic demonstrations of insertion sort</p>"
   ]
  },
  {
   "cell_type": "markdown",
   "metadata": {},
   "source": [
    "<b>here's a demonstration of insertion sort done by cards: </b>"
   ]
  },
  {
   "cell_type": "code",
   "execution_count": null,
   "metadata": {},
   "outputs": [],
   "source": [
    "from IPython.display import IFrame\n",
    "# Youtube\n",
    "IFrame(\"https://www.youtube.com/embed/c4BRHC7kTaQ\", width=950, height=750)"
   ]
  },
  {
   "cell_type": "code",
   "execution_count": null,
   "metadata": {},
   "outputs": [],
   "source": [
    "from IPython.display import IFrame\n",
    "# Youtube\n",
    "IFrame(\"https://www.youtube.com/embed/Fr0SmtN0IJM\", width=950, height=750)"
   ]
  },
  {
   "cell_type": "markdown",
   "metadata": {},
   "source": [
    "<p><b>more vivid, more entertaining, but just as accurate, is this demonstration of insertion sort done through hungarian (\"csángó\") folk dance:</p>"
   ]
  },
  {
   "cell_type": "code",
   "execution_count": 9,
   "metadata": {},
   "outputs": [
    {
     "data": {
      "text/html": [
       "\n",
       "        <iframe\n",
       "            width=\"950\"\n",
       "            height=\"750\"\n",
       "            src=\"https://www.youtube.com/embed/ROalU379l3U\"\n",
       "            frameborder=\"0\"\n",
       "            allowfullscreen\n",
       "            \n",
       "        ></iframe>\n",
       "        "
      ],
      "text/plain": [
       "<IPython.lib.display.IFrame at 0x7fe243b73590>"
      ]
     },
     "execution_count": 9,
     "metadata": {},
     "output_type": "execute_result"
    }
   ],
   "source": [
    "from IPython.display import IFrame\n",
    "# Youtube\n",
    "IFrame(\"https://www.youtube.com/embed/ROalU379l3U\", width=950, height=750)"
   ]
  },
  {
   "cell_type": "markdown",
   "metadata": {},
   "source": [
    "<b>pseudo-code</b> from <i>http://en.wikipedia.org/wiki/Insertion_sort</i>"
   ]
  },
  {
   "cell_type": "markdown",
   "metadata": {},
   "source": [
    "<p><b>for</b> j ← 1 <b>to</b> length(A)</p>\n",
    "<p>&nbsp;&nbsp;&nbsp;&nbsp;&nbsp;k ← j</p>\n",
    "<p>&nbsp;&nbsp;&nbsp;&nbsp;&nbsp;<b>while</b> k > 0 <b>and</b> A[k-1] > A[k]</p>\n",
    "<p>&nbsp;&nbsp;&nbsp;&nbsp;&nbsp;&nbsp;&nbsp;&nbsp;&nbsp;&nbsp;<b>swap</b> A[k] and A[k-1]\n",
    "<p>&nbsp;&nbsp;&nbsp;&nbsp;&nbsp;&nbsp;&nbsp;&nbsp;&nbsp;&nbsp;k ← k - 1"
   ]
  },
  {
   "cell_type": "markdown",
   "metadata": {},
   "source": [
    "let's code the <b>python</b> implementation of the pseudo-code above"
   ]
  },
  {
   "cell_type": "code",
   "execution_count": null,
   "metadata": {},
   "outputs": [],
   "source": [
    "A = []\n",
    "\n",
    "# j ← 1 to length(A)\n",
    "\n",
    "\n",
    "   #k ← j\n",
    "\n",
    "\n",
    "   #while k > 0 and A[k-1] > A[k]\n",
    "\n",
    "      #swap A[k] and A[k-1]\n",
    "\n",
    "      #k ← k - 1\n",
    "\n",
    "\n",
    "#print(A)        \n",
    "print(A)"
   ]
  }
 ],
 "metadata": {
  "kernelspec": {
   "display_name": "Python 3 (ipykernel)",
   "language": "python",
   "name": "python3"
  },
  "language_info": {
   "codemirror_mode": {
    "name": "ipython",
    "version": 3
   },
   "file_extension": ".py",
   "mimetype": "text/x-python",
   "name": "python",
   "nbconvert_exporter": "python",
   "pygments_lexer": "ipython3",
   "version": "3.11.1"
  }
 },
 "nbformat": 4,
 "nbformat_minor": 1
}
