{
 "cells": [
  {
   "cell_type": "code",
   "execution_count": 1,
   "metadata": {},
   "outputs": [],
   "source": [
    "import pandas as pd\n",
    "import re"
   ]
  },
  {
   "cell_type": "code",
   "execution_count": 3,
   "metadata": {},
   "outputs": [],
   "source": [
    "df = pd.read_csv('../datafile/jincheng_corals', sep=',')"
   ]
  },
  {
   "cell_type": "code",
   "execution_count": 10,
   "metadata": {},
   "outputs": [
    {
     "data": {
      "text/html": [
       "<div>\n",
       "<style scoped>\n",
       "    .dataframe tbody tr th:only-of-type {\n",
       "        vertical-align: middle;\n",
       "    }\n",
       "\n",
       "    .dataframe tbody tr th {\n",
       "        vertical-align: top;\n",
       "    }\n",
       "\n",
       "    .dataframe thead th {\n",
       "        text-align: right;\n",
       "    }\n",
       "</style>\n",
       "<table border=\"1\" class=\"dataframe\">\n",
       "  <thead>\n",
       "    <tr style=\"text-align: right;\">\n",
       "      <th></th>\n",
       "      <th>sample</th>\n",
       "      <th>spp</th>\n",
       "      <th>island</th>\n",
       "      <th>site</th>\n",
       "      <th>Fam78_CA</th>\n",
       "      <th>Fam78_CA.1</th>\n",
       "      <th>Fam78_CA.2</th>\n",
       "      <th>Fam78_CA.3</th>\n",
       "    </tr>\n",
       "  </thead>\n",
       "  <tbody>\n",
       "    <tr>\n",
       "      <th>0</th>\n",
       "      <td>19</td>\n",
       "      <td>A. hyacinthus</td>\n",
       "      <td>Pohnpei</td>\n",
       "      <td>south reef (Roj island)</td>\n",
       "      <td>170</td>\n",
       "      <td>172</td>\n",
       "      <td>174</td>\n",
       "      <td>0</td>\n",
       "    </tr>\n",
       "    <tr>\n",
       "      <th>1</th>\n",
       "      <td>23</td>\n",
       "      <td>A. hyacinthus</td>\n",
       "      <td>Pohnpei</td>\n",
       "      <td>south reef (Roj island)</td>\n",
       "      <td>172</td>\n",
       "      <td>174</td>\n",
       "      <td>0</td>\n",
       "      <td>0</td>\n",
       "    </tr>\n",
       "    <tr>\n",
       "      <th>2</th>\n",
       "      <td>24</td>\n",
       "      <td>A. hyacinthus</td>\n",
       "      <td>Pohnpei</td>\n",
       "      <td>south reef (Roj island)</td>\n",
       "      <td>170</td>\n",
       "      <td>176</td>\n",
       "      <td>0</td>\n",
       "      <td>0</td>\n",
       "    </tr>\n",
       "    <tr>\n",
       "      <th>3</th>\n",
       "      <td>26</td>\n",
       "      <td>A. hyacinthus</td>\n",
       "      <td>Pohnpei</td>\n",
       "      <td>south reef (Roj island)</td>\n",
       "      <td>172</td>\n",
       "      <td>174</td>\n",
       "      <td>0</td>\n",
       "      <td>0</td>\n",
       "    </tr>\n",
       "    <tr>\n",
       "      <th>4</th>\n",
       "      <td>27</td>\n",
       "      <td>A. hyacinthus</td>\n",
       "      <td>Pohnpei</td>\n",
       "      <td>south reef (Roj island)</td>\n",
       "      <td>156</td>\n",
       "      <td>176</td>\n",
       "      <td>0</td>\n",
       "      <td>0</td>\n",
       "    </tr>\n",
       "    <tr>\n",
       "      <th>5</th>\n",
       "      <td>30</td>\n",
       "      <td>A. hyacinthus</td>\n",
       "      <td>Pohnpei</td>\n",
       "      <td>south reef (Roj island)</td>\n",
       "      <td>170</td>\n",
       "      <td>176</td>\n",
       "      <td>0</td>\n",
       "      <td>0</td>\n",
       "    </tr>\n",
       "    <tr>\n",
       "      <th>6</th>\n",
       "      <td>31</td>\n",
       "      <td>A. hyacinthus</td>\n",
       "      <td>Pohnpei</td>\n",
       "      <td>south reef (Roj island)</td>\n",
       "      <td>172</td>\n",
       "      <td>174</td>\n",
       "      <td>0</td>\n",
       "      <td>0</td>\n",
       "    </tr>\n",
       "    <tr>\n",
       "      <th>7</th>\n",
       "      <td>34</td>\n",
       "      <td>A. hyacinthus</td>\n",
       "      <td>Pohnpei</td>\n",
       "      <td>south reef (Roj island)</td>\n",
       "      <td>170</td>\n",
       "      <td>176</td>\n",
       "      <td>0</td>\n",
       "      <td>0</td>\n",
       "    </tr>\n",
       "  </tbody>\n",
       "</table>\n",
       "</div>"
      ],
      "text/plain": [
       "   sample             spp    island                      site   Fam78_CA  \\\n",
       "0      19   A. hyacinthus   Pohnpei   south reef (Roj island)        170   \n",
       "1      23   A. hyacinthus   Pohnpei   south reef (Roj island)        172   \n",
       "2      24   A. hyacinthus   Pohnpei   south reef (Roj island)        170   \n",
       "3      26   A. hyacinthus   Pohnpei   south reef (Roj island)        172   \n",
       "4      27   A. hyacinthus   Pohnpei   south reef (Roj island)        156   \n",
       "5      30   A. hyacinthus   Pohnpei   south reef (Roj island)        170   \n",
       "6      31   A. hyacinthus   Pohnpei   south reef (Roj island)        172   \n",
       "7      34   A. hyacinthus   Pohnpei   south reef (Roj island)        170   \n",
       "\n",
       "    Fam78_CA.1   Fam78_CA.2   Fam78_CA.3  \n",
       "0          172          174            0  \n",
       "1          174            0            0  \n",
       "2          176            0            0  \n",
       "3          174            0            0  \n",
       "4          176            0            0  \n",
       "5          176            0            0  \n",
       "6          174            0            0  \n",
       "7          176            0            0  "
      ]
     },
     "execution_count": 10,
     "metadata": {},
     "output_type": "execute_result"
    }
   ],
   "source": [
    "df"
   ]
  },
  {
   "cell_type": "code",
   "execution_count": 4,
   "metadata": {},
   "outputs": [],
   "source": [
    "siteSet = set()\n",
    "coralDict = dict()"
   ]
  },
  {
   "cell_type": "code",
   "execution_count": 13,
   "metadata": {},
   "outputs": [],
   "source": [
    "for column in list(df.columns):\n",
    "    if re.match('^ Fam', column):\n",
    "        for index, row in df.iterrows():\n",
    "            sample = row['sample']\n",
    "            site = row[column]\n",
    "            if site != 0:\n",
    "                siteSet.add(site)\n",
    "                try:\n",
    "                    coralDict[site].append(sample)\n",
    "                except KeyError:\n",
    "                    coralDict[site] = [sample]\n",
    "        df.drop(columns = column, inplace = True)"
   ]
  },
  {
   "cell_type": "code",
   "execution_count": 14,
   "metadata": {},
   "outputs": [
    {
     "data": {
      "text/plain": [
       "{156, 170, 172, 174, 176}"
      ]
     },
     "execution_count": 14,
     "metadata": {},
     "output_type": "execute_result"
    }
   ],
   "source": [
    "siteSet"
   ]
  },
  {
   "cell_type": "code",
   "execution_count": 15,
   "metadata": {},
   "outputs": [
    {
     "data": {
      "text/plain": [
       "{170: [19, 24, 30, 34],\n",
       " 172: [23, 26, 31, 19],\n",
       " 156: [27],\n",
       " 174: [23, 26, 31, 19],\n",
       " 176: [24, 27, 30, 34]}"
      ]
     },
     "execution_count": 15,
     "metadata": {},
     "output_type": "execute_result"
    }
   ],
   "source": [
    "coralDict"
   ]
  },
  {
   "cell_type": "code",
   "execution_count": 16,
   "metadata": {},
   "outputs": [],
   "source": [
    "siteList = list(siteSet)"
   ]
  },
  {
   "cell_type": "code",
   "execution_count": 17,
   "metadata": {},
   "outputs": [],
   "source": [
    "siteList.sort()"
   ]
  },
  {
   "cell_type": "code",
   "execution_count": 18,
   "metadata": {},
   "outputs": [
    {
     "data": {
      "text/plain": [
       "{170: [19, 24, 30, 34],\n",
       " 172: [23, 26, 31, 19],\n",
       " 156: [27],\n",
       " 174: [23, 26, 31, 19],\n",
       " 176: [24, 27, 30, 34]}"
      ]
     },
     "execution_count": 18,
     "metadata": {},
     "output_type": "execute_result"
    }
   ],
   "source": [
    "coralDict"
   ]
  },
  {
   "cell_type": "code",
   "execution_count": 21,
   "metadata": {},
   "outputs": [],
   "source": [
    "for site in siteList:\n",
    "    df[site] = 0\n",
    "    df.loc[df['sample'].isin(coralDict[site]), site] = site"
   ]
  },
  {
   "cell_type": "code",
   "execution_count": 22,
   "metadata": {},
   "outputs": [
    {
     "data": {
      "text/html": [
       "<div>\n",
       "<style scoped>\n",
       "    .dataframe tbody tr th:only-of-type {\n",
       "        vertical-align: middle;\n",
       "    }\n",
       "\n",
       "    .dataframe tbody tr th {\n",
       "        vertical-align: top;\n",
       "    }\n",
       "\n",
       "    .dataframe thead th {\n",
       "        text-align: right;\n",
       "    }\n",
       "</style>\n",
       "<table border=\"1\" class=\"dataframe\">\n",
       "  <thead>\n",
       "    <tr style=\"text-align: right;\">\n",
       "      <th></th>\n",
       "      <th>sample</th>\n",
       "      <th>spp</th>\n",
       "      <th>island</th>\n",
       "      <th>site</th>\n",
       "      <th>156</th>\n",
       "      <th>170</th>\n",
       "      <th>172</th>\n",
       "      <th>174</th>\n",
       "      <th>176</th>\n",
       "    </tr>\n",
       "  </thead>\n",
       "  <tbody>\n",
       "    <tr>\n",
       "      <th>0</th>\n",
       "      <td>19</td>\n",
       "      <td>A. hyacinthus</td>\n",
       "      <td>Pohnpei</td>\n",
       "      <td>south reef (Roj island)</td>\n",
       "      <td>0</td>\n",
       "      <td>170</td>\n",
       "      <td>172</td>\n",
       "      <td>174</td>\n",
       "      <td>0</td>\n",
       "    </tr>\n",
       "    <tr>\n",
       "      <th>1</th>\n",
       "      <td>23</td>\n",
       "      <td>A. hyacinthus</td>\n",
       "      <td>Pohnpei</td>\n",
       "      <td>south reef (Roj island)</td>\n",
       "      <td>0</td>\n",
       "      <td>0</td>\n",
       "      <td>172</td>\n",
       "      <td>174</td>\n",
       "      <td>0</td>\n",
       "    </tr>\n",
       "    <tr>\n",
       "      <th>2</th>\n",
       "      <td>24</td>\n",
       "      <td>A. hyacinthus</td>\n",
       "      <td>Pohnpei</td>\n",
       "      <td>south reef (Roj island)</td>\n",
       "      <td>0</td>\n",
       "      <td>170</td>\n",
       "      <td>0</td>\n",
       "      <td>0</td>\n",
       "      <td>176</td>\n",
       "    </tr>\n",
       "    <tr>\n",
       "      <th>3</th>\n",
       "      <td>26</td>\n",
       "      <td>A. hyacinthus</td>\n",
       "      <td>Pohnpei</td>\n",
       "      <td>south reef (Roj island)</td>\n",
       "      <td>0</td>\n",
       "      <td>0</td>\n",
       "      <td>172</td>\n",
       "      <td>174</td>\n",
       "      <td>0</td>\n",
       "    </tr>\n",
       "    <tr>\n",
       "      <th>4</th>\n",
       "      <td>27</td>\n",
       "      <td>A. hyacinthus</td>\n",
       "      <td>Pohnpei</td>\n",
       "      <td>south reef (Roj island)</td>\n",
       "      <td>156</td>\n",
       "      <td>0</td>\n",
       "      <td>0</td>\n",
       "      <td>0</td>\n",
       "      <td>176</td>\n",
       "    </tr>\n",
       "    <tr>\n",
       "      <th>5</th>\n",
       "      <td>30</td>\n",
       "      <td>A. hyacinthus</td>\n",
       "      <td>Pohnpei</td>\n",
       "      <td>south reef (Roj island)</td>\n",
       "      <td>0</td>\n",
       "      <td>170</td>\n",
       "      <td>0</td>\n",
       "      <td>0</td>\n",
       "      <td>176</td>\n",
       "    </tr>\n",
       "    <tr>\n",
       "      <th>6</th>\n",
       "      <td>31</td>\n",
       "      <td>A. hyacinthus</td>\n",
       "      <td>Pohnpei</td>\n",
       "      <td>south reef (Roj island)</td>\n",
       "      <td>0</td>\n",
       "      <td>0</td>\n",
       "      <td>172</td>\n",
       "      <td>174</td>\n",
       "      <td>0</td>\n",
       "    </tr>\n",
       "    <tr>\n",
       "      <th>7</th>\n",
       "      <td>34</td>\n",
       "      <td>A. hyacinthus</td>\n",
       "      <td>Pohnpei</td>\n",
       "      <td>south reef (Roj island)</td>\n",
       "      <td>0</td>\n",
       "      <td>170</td>\n",
       "      <td>0</td>\n",
       "      <td>0</td>\n",
       "      <td>176</td>\n",
       "    </tr>\n",
       "  </tbody>\n",
       "</table>\n",
       "</div>"
      ],
      "text/plain": [
       "   sample             spp    island                      site  156  170  172  \\\n",
       "0      19   A. hyacinthus   Pohnpei   south reef (Roj island)    0  170  172   \n",
       "1      23   A. hyacinthus   Pohnpei   south reef (Roj island)    0    0  172   \n",
       "2      24   A. hyacinthus   Pohnpei   south reef (Roj island)    0  170    0   \n",
       "3      26   A. hyacinthus   Pohnpei   south reef (Roj island)    0    0  172   \n",
       "4      27   A. hyacinthus   Pohnpei   south reef (Roj island)  156    0    0   \n",
       "5      30   A. hyacinthus   Pohnpei   south reef (Roj island)    0  170    0   \n",
       "6      31   A. hyacinthus   Pohnpei   south reef (Roj island)    0    0  172   \n",
       "7      34   A. hyacinthus   Pohnpei   south reef (Roj island)    0  170    0   \n",
       "\n",
       "   174  176  \n",
       "0  174    0  \n",
       "1  174    0  \n",
       "2    0  176  \n",
       "3  174    0  \n",
       "4    0  176  \n",
       "5    0  176  \n",
       "6  174    0  \n",
       "7    0  176  "
      ]
     },
     "execution_count": 22,
     "metadata": {},
     "output_type": "execute_result"
    }
   ],
   "source": [
    "df"
   ]
  },
  {
   "cell_type": "code",
   "execution_count": 23,
   "metadata": {},
   "outputs": [],
   "source": [
    "df.to_csv('../datafile/jincheng_output.csv', index = False)"
   ]
  },
  {
   "cell_type": "code",
   "execution_count": null,
   "metadata": {},
   "outputs": [],
   "source": []
  }
 ],
 "metadata": {
  "kernelspec": {
   "display_name": "Python 3 (ipykernel)",
   "language": "python",
   "name": "python3"
  },
  "language_info": {
   "codemirror_mode": {
    "name": "ipython",
    "version": 3
   },
   "file_extension": ".py",
   "mimetype": "text/x-python",
   "name": "python",
   "nbconvert_exporter": "python",
   "pygments_lexer": "ipython3",
   "version": "3.11.0"
  }
 },
 "nbformat": 4,
 "nbformat_minor": 2
}
