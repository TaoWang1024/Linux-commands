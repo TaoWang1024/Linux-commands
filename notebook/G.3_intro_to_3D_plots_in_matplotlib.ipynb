{
 "cells": [
  {
   "cell_type": "markdown",
   "id": "6e0e592f",
   "metadata": {},
   "source": [
    "## the minimum to create a 3D plot"
   ]
  },
  {
   "cell_type": "code",
   "execution_count": 1,
   "id": "11f32f36",
   "metadata": {},
   "outputs": [],
   "source": [
    "%matplotlib qt\n",
    "from mpl_toolkits import mplot3d\n",
    "\n",
    "import matplotlib.pyplot as plt\n",
    "\n",
    "fig = plt.figure()\n",
    "ax = plt.axes(projection=\"3d\")\n",
    "\n",
    "plt.show()"
   ]
  },
  {
   "cell_type": "markdown",
   "id": "5e87a2a5",
   "metadata": {},
   "source": [
    "## simple rotatable 3D plot"
   ]
  },
  {
   "cell_type": "code",
   "execution_count": 2,
   "id": "82f806f7",
   "metadata": {},
   "outputs": [],
   "source": [
    "%matplotlib qt\n",
    "import matplotlib.pyplot as plt\n",
    "from mpl_toolkits.mplot3d import Axes3D\n",
    "import numpy as np\n",
    "\n",
    "# generating the x, y point values\n",
    "x = np.arange(-5,5,0.1)\n",
    "y = np.sin(x)\n",
    "\n",
    "# setting the plot size\n",
    "fig = plt.figure(figsize=(10,10))\n",
    "\n",
    "\n",
    "plt.axes(projection='3d')\n",
    "ax = fig.gca() #get current axes\n",
    "ax.plot(x, y,'bo', zs=0, zdir='y')\n",
    "\n",
    "# labeling the axes\n",
    "ax.set_xlabel('X',labelpad=10,fontsize='large')\n",
    "ax.set_ylabel('Y',labelpad=10,fontsize='large')\n",
    "ax.set_zlabel('Z',labelpad=10,fontsize='large')\n",
    "\n",
    "fig.show()"
   ]
  },
  {
   "cell_type": "markdown",
   "id": "cab4d0ea",
   "metadata": {},
   "source": [
    "## simple combination of 3D curve & scatterplot"
   ]
  },
  {
   "cell_type": "code",
   "execution_count": 3,
   "id": "567b9f70",
   "metadata": {},
   "outputs": [],
   "source": [
    "fig = plt.figure()\n",
    "ax = plt.axes(projection=\"3d\")\n",
    "\n",
    "# create the 3D curve\n",
    "z_line = np.linspace(0, 15, 1000)\n",
    "x_line = np.cos(z_line)\n",
    "y_line = np.sin(z_line)\n",
    "ax.plot3D(x_line, y_line, z_line, 'gray')\n",
    "\n",
    "# create the 3D points & render them in scatterplot\n",
    "z_points = 15 * np.random.random(100)\n",
    "x_points = np.cos(z_points) + 0.1 * np.random.randn(100)\n",
    "y_points = np.sin(z_points) + 0.1 * np.random.randn(100)\n",
    "ax.scatter3D(x_points, y_points, z_points, c=z_points, cmap='hsv');\n",
    "\n",
    "plt.show()"
   ]
  },
  {
   "cell_type": "markdown",
   "id": "b07fbb11",
   "metadata": {},
   "source": [
    "## simple 3D surface plot"
   ]
  },
  {
   "cell_type": "code",
   "execution_count": 4,
   "id": "c3b73fa2",
   "metadata": {},
   "outputs": [],
   "source": [
    "# first, generate the points that will make up the surface\n",
    "\n",
    "fig = plt.figure()\n",
    "ax = plt.axes(projection=\"3d\")\n",
    "def z_function(x, y):\n",
    "    return np.sin(np.sqrt(x ** 2 + y ** 2))\n",
    "\n",
    "x = np.linspace(-6, 6, 30)\n",
    "y = np.linspace(-6, 6, 30)\n",
    "\n",
    "X, Y = np.meshgrid(x, y)\n",
    "Z = z_function(X, Y)\n",
    "\n",
    "# second, plot a wireframe\n",
    "\n",
    "fig = plt.figure()\n",
    "ax = plt.axes(projection=\"3d\")\n",
    "ax.plot_wireframe(X, Y, Z, color='green')\n",
    "ax.set_xlabel('x')\n",
    "ax.set_ylabel('y')\n",
    "ax.set_zlabel('z')\n",
    "\n",
    "plt.show()"
   ]
  },
  {
   "cell_type": "code",
   "execution_count": 5,
   "id": "d68ee47e",
   "metadata": {},
   "outputs": [
    {
     "data": {
      "text/plain": [
       "<mpl_toolkits.mplot3d.art3d.Poly3DCollection at 0x7f60c4369610>"
      ]
     },
     "execution_count": 5,
     "metadata": {},
     "output_type": "execute_result"
    }
   ],
   "source": [
    "# third, generate the surface over the wireframe\n",
    "\n",
    "ax = plt.axes(projection='3d')\n",
    "ax.plot_surface(X, Y, Z, rstride=1, cstride=1,\n",
    "                cmap='winter', edgecolor='none')"
   ]
  },
  {
   "cell_type": "code",
   "execution_count": null,
   "id": "76b50796",
   "metadata": {},
   "outputs": [],
   "source": [
    "credits:\n",
    "    1st cell: https://matplotlib.org/stable/tutorials/toolkits/mplot3d.html\n",
    "    remaining cells: https://towardsdatascience.com/an-easy-introduction-to-3d-plotting-with-matplotlib-801561999725"
   ]
  }
 ],
 "metadata": {
  "kernelspec": {
   "display_name": "Python 3 (ipykernel)",
   "language": "python",
   "name": "python3"
  },
  "language_info": {
   "codemirror_mode": {
    "name": "ipython",
    "version": 3
   },
   "file_extension": ".py",
   "mimetype": "text/x-python",
   "name": "python",
   "nbconvert_exporter": "python",
   "pygments_lexer": "ipython3",
   "version": "3.9.6"
  }
 },
 "nbformat": 4,
 "nbformat_minor": 5
}
