{
 "cells": [
  {
   "cell_type": "markdown",
   "metadata": {},
   "source": [
    "# SciPy approach to solving stoichiometry problems.\n",
    "\n",
    "## Examples taken from:\n",
    "## <p style=\"font-style: italic;\">Chemical Stoichiometry Using MATLAB</p>\n"
   ]
  },
  {
   "cell_type": "code",
   "execution_count": 1,
   "metadata": {},
   "outputs": [
    {
     "name": "stdout",
     "output_type": "stream",
     "text": [
      "IPython console for SymPy 1.8 (Python 3.9.4-64-bit) (ground types: gmpy)\n",
      "\n",
      "These commands were executed:\n",
      ">>> from __future__ import division\n",
      ">>> from sympy import *\n",
      ">>> x, y, z, t = symbols('x y z t')\n",
      ">>> k, m, n = symbols('k m n', integer=True)\n",
      ">>> f, g, h = symbols('f g h', cls=Function)\n",
      ">>> init_printing()\n",
      "\n",
      "Documentation can be found at https://docs.sympy.org/1.8/\n",
      "\n"
     ]
    }
   ],
   "source": [
    "from sympy import init_session\n",
    "init_session()\n",
    "import numpy as np\n",
    "from scipy.linalg import solve"
   ]
  },
  {
   "cell_type": "markdown",
   "metadata": {},
   "source": [
    "Balance:\n",
    "    \n",
    "$CH_{4} + O_{2} → CO_{2} + H_{2}O$"
   ]
  },
  {
   "cell_type": "markdown",
   "metadata": {},
   "source": [
    "First, we mark up the chemical equation:\n",
    "\n",
    "$x_{1} CH_{4} + x_{2} O_{2} → x_{3} CO_{2} + x_{4} H_{2}O$"
   ]
  },
  {
   "cell_type": "markdown",
   "metadata": {},
   "source": [
    "Second, we set up a system of linear equations in which the x's make up the columns and elements the rows.\n",
    "\n",
    "<table align=\"left\">\n",
    "<tr>\n",
    "<td>Carbon (C):</td><td>$1 ⋅ x_{1} + 0 ⋅ x_{2} = 1 ⋅ x_{3} + 0 ⋅ x_{4}$</td>\n",
    "</tr><tr>    \n",
    "<td>Hydrogen (H):</td><td>$4 ⋅ x_{1} + 0 ⋅ x_{2} = 0 ⋅ x_{3} + 2 ⋅ x_{4}$</td>\n",
    "</tr><tr>    \n",
    "<td>Oxygen (O):</td><td>$0 ⋅ x_{1} + 2 ⋅ x_{2} = 2 ⋅ x_{3} + 1 ⋅ x_{4}$</td>\n",
    "</tr>\n",
    "</table>"
   ]
  },
  {
   "cell_type": "markdown",
   "metadata": {},
   "source": [
    "Third, algebraically we rearrange terms so that the RHS for each equation is zero.\n",
    "\n",
    "<table align=\"left\">\n",
    "<tr>\n",
    "<td>Carbon (C):</td><td>$1 ⋅ x_{1} + 0 ⋅ x_{2}  – 1 ⋅ x_{3} + 0 ⋅ x_{4} = 0$</td>\n",
    "</tr><tr>    \n",
    "<td>Hydrogen (H):</td><td>$4 ⋅ x_{1} + 0 ⋅ x_{2} + 0 ⋅ x_{3} – 2 ⋅ x_{4} = 0$</td>\n",
    "</tr><tr>    \n",
    "<td>Oxygen (O):</td><td>$0 ⋅ x_{1} + 2 ⋅ x_{2} – 2 ⋅ x_{3} – 1 ⋅ x_{4} = 0$</td>\n",
    "</tr>\n",
    "</table>\n",
    "\n",
    "\n",
    "\n",
    "\n",
    "\n"
   ]
  },
  {
   "cell_type": "markdown",
   "metadata": {},
   "source": [
    "To create four equations in four unknowns, we set\n",
    "\n",
    "$x_{4} = 1$"
   ]
  },
  {
   "cell_type": "markdown",
   "metadata": {},
   "source": [
    "$\\textbf{Ax} = \\textbf{b}$, where:"
   ]
  },
  {
   "cell_type": "markdown",
   "metadata": {},
   "source": [
    "$\\begin{align}\n",
    "\\textbf{A} = \\begin{bmatrix}\n",
    "1 & 0 & -1 & 0\\\\\n",
    "4 & 0 & 0 & -2\\\\\n",
    "0 & 2 & -2 & -1\\\\\n",
    "0 & 0 & 0 & 1\n",
    "\\end{bmatrix},  \n",
    "\\textbf{x} = \\begin{bmatrix}\n",
    "x_{1}\\\\x_{2}\\\\x_{3}\\\\x_{4}\n",
    "\\end{bmatrix},  \n",
    "\\textbf{b} = \\begin{bmatrix}\n",
    "0\\\\0\\\\0\\\\1\n",
    "\\end{bmatrix}\n",
    "\\end{align}$"
   ]
  },
  {
   "cell_type": "code",
   "execution_count": 15,
   "metadata": {},
   "outputs": [],
   "source": [
    "# A sympy solution\n",
    "x1, x2, x3, x4 = symbols('x1 x2 x3 x4')\n",
    "A = Matrix([[1, 0, -1, 0],\\\n",
    "            [4, 0, 0, -2],\\\n",
    "            [0, 2, -2, -1],\\\n",
    "            [0, 0, 0, 1]])\n",
    "x = (x1, x2, x3, x4) # this is a tuple because of what the linsolve function accepts for input\n",
    "b = Matrix([0, 0, 0, 1])"
   ]
  },
  {
   "cell_type": "code",
   "execution_count": 16,
   "metadata": {},
   "outputs": [],
   "source": [
    "system = A, b"
   ]
  },
  {
   "cell_type": "code",
   "execution_count": 17,
   "metadata": {},
   "outputs": [
    {
     "data": {
      "image/png": "[encoded data removed]",
      "text/latex": [
       "$\\displaystyle \\left\\{\\left( \\frac{1}{2}, \\  1, \\  \\frac{1}{2}, \\  1\\right)\\right\\}$"
      ],
      "text/plain": [
       "{(1/2, 1, 1/2, 1)}"
      ]
     },
     "execution_count": 17,
     "metadata": {},
     "output_type": "execute_result"
    }
   ],
   "source": [
    "linsolve(system, x)"
   ]
  },
  {
   "cell_type": "markdown",
   "metadata": {},
   "source": [
    "$CH_{4} + 2O_{2} → CO_{2} + 2H_{2}O$"
   ]
  },
  {
   "cell_type": "code",
   "execution_count": 14,
   "metadata": {},
   "outputs": [],
   "source": [
    "# A numpy solution\n",
    "A = np.array([[1, 0, -1, 0],\\\n",
    "              [4, 0, 0, -2],\\\n",
    "              [0, 2, -2, -1],\\\n",
    "              [0, 0, 0, 1]])\n",
    "b = np.array([0, 0, 0, 1])\n",
    "x = solve(A, b) # this is the solver from scipy.linalg"
   ]
  },
  {
   "cell_type": "code",
   "execution_count": 28,
   "metadata": {},
   "outputs": [
    {
     "data": {
      "text/plain": [
       "array([0.5, 1. , 0.5, 1. ])"
      ]
     },
     "execution_count": 28,
     "metadata": {},
     "output_type": "execute_result"
    }
   ],
   "source": [
    "x"
   ]
  },
  {
   "cell_type": "markdown",
   "metadata": {},
   "source": [
    "$\\textbf{Conservation of Mass and Charge}$\n",
    "\n",
    "Balance:\n",
    "    \n",
    "$Cr_{2}O_{7}^{2–} + Fe^{2+} + H^{+} → Cr^{3+} + Fe^{3+} + H_{2}O$"
   ]
  },
  {
   "cell_type": "markdown",
   "metadata": {},
   "source": [
    "First, we mark up the chemical equation:\n",
    "\n",
    "$x_{1} Cr_{2}O_{7}^{2–} + x_{2} Fe^{2+} + x_{3} H^{+} → x_{4} Cr^{3+} + x_{5} Fe^{3+} + x_{6} H_{2}O$"
   ]
  },
  {
   "cell_type": "markdown",
   "metadata": {},
   "source": [
    "Second, we set up a system of linear equations in which the x's make up the columns, and elements and charge the rows.\n",
    "\n",
    "<table align=\"left\">\n",
    "<tr>\n",
    "<td>Chromium (Cr):</td><td>$2 ⋅ x_{1} + 0 ⋅ x_{2} + 0 ⋅ x_{3} = 1 ⋅ x_{4} + 0 ⋅ x_{5} + 0 ⋅ x_{6}$</td>\n",
    "</tr><tr>\n",
    "<td>Oxygen (O):</td><td>$7 ⋅ x_{1} + 0 ⋅ x_{2} + 0 ⋅ x_{3} = 0 ⋅ x_{4} + 0 ⋅ x_{5} + 1 ⋅ x_{6}$</td>\n",
    "</tr><tr>\n",
    "<td>Iron (Fe):</td><td>$0 ⋅ x_{1} + 1 ⋅ x_{2} + 0 ⋅ x_{3} = 0 ⋅ x_{4} + 1 ⋅ x_{5} + 0 ⋅ x_{6}$</td>\n",
    "</tr><tr>\n",
    "<td>Hydrogen (H):</td><td>$0 ⋅ x_{1} + 0 ⋅ x_{2} + 1 ⋅ x_{3} = 0 ⋅ x_{4} + 0 ⋅ x_{5} + 2 ⋅ x_{6}$</td>\n",
    "</tr><tr>\n",
    "<td>Charge (+):</td><td>$-2 ⋅ x_{1} + 2 ⋅ x_{2} + 1 ⋅ x_{3} = 3 ⋅ x_{4} + 3 ⋅ x_{5} + 0 ⋅ x_{6}$</td>\n",
    "</tr>\n",
    "</table>"
   ]
  },
  {
   "cell_type": "markdown",
   "metadata": {},
   "source": [
    "Third, algebraically we rearrange terms so that the RHS for each equation is zero.\n",
    "\n",
    "An auxiliary equation setting the value of one coefficient, $x_{6}$, yields six equations in six unknowns:\n",
    "\n",
    "<table align=\"left\">\n",
    "<tr>\n",
    "<td>Chromium (Cr):</td><td>$2 ⋅ x_{1} + 0 ⋅ x_{2} + 0 ⋅ x_{3} - 1 ⋅ x_{4} + 0 ⋅ x_{5} + 0 ⋅ x_{6} = 0$</td>\n",
    "</tr><tr>\n",
    "<td>Oxygen (O):</td><td>$7 ⋅ x_{1} + 0 ⋅ x_{2} + 0 ⋅ x_{3} + 0 ⋅ x_{4} + 0 ⋅ x_{5} - 1 ⋅ x_{6} = 0$</td>\n",
    "</tr><tr>\n",
    "<td>Iron (Fe):</td><td>$0 ⋅ x_{1} + 1 ⋅ x_{2} + 0 ⋅ x_{3} + 0 ⋅ x_{4} - 1 ⋅ x_{5} + 0 ⋅ x_{6} = 0$</td>\n",
    "</tr><tr>\n",
    "<td>Hydrogen (H):</td><td>$0 ⋅ x_{1} + 0 ⋅ x_{2} + 1 ⋅ x_{3} + 0 ⋅ x_{4} + 0 ⋅ x_{5} - 2 ⋅ x_{6} = 0$</td>\n",
    "</tr><tr>\n",
    "<td>Charge (+):</td><td>$-2 ⋅ x_{1} + 2 ⋅ x_{2} + 1 ⋅ x_{3} - 3 ⋅ x_{4} - 3 ⋅ x_{5} + 0 ⋅ x_{6} = 0$</td>\n",
    "</tr><tr>\n",
    "<td>       (*):</td><td>$0 ⋅ x_{1} + 0 ⋅ x_{2} + 0 ⋅ x_{3} + 0 ⋅ x_{4} + 0 ⋅ x_{5} + 1 ⋅ x_{6} = 1$</td>\n",
    "</tr>\n",
    "</table>"
   ]
  },
  {
   "cell_type": "markdown",
   "metadata": {},
   "source": [
    "$\\textbf{Ax} = \\textbf{b}$, where:"
   ]
  },
  {
   "cell_type": "markdown",
   "metadata": {},
   "source": [
    "$\\begin{align}\n",
    "\\textbf{A} = \\begin{bmatrix}\n",
    "2 & 0 & 0 & -1 & 0 & 0\\\\\n",
    "7 & 0 & 0 &  0 & 0 & -1\\\\\n",
    "0 & 1 & 0 & 0 & -1 & 0\\\\\n",
    "0 & 0 & 1 & 0 & 0 & -2\\\\\n",
    "-2 & 2 & 1 & -3 & -3 & 0\\\\\n",
    "0 & 0 & 0 & 0 & 0 & 1\n",
    "\\end{bmatrix},  \n",
    "\\textbf{x} = \\begin{bmatrix}\n",
    "x_{1}\\\\x_{2}\\\\x_{3}\\\\x_{4}\\\\x_{5}\\\\x_{6}\n",
    "\\end{bmatrix},  \n",
    "\\textbf{b} = \\begin{bmatrix}\n",
    "0\\\\0\\\\0\\\\0\\\\0\\\\1\n",
    "\\end{bmatrix}\n",
    "\\end{align}$"
   ]
  },
  {
   "cell_type": "code",
   "execution_count": 10,
   "metadata": {},
   "outputs": [],
   "source": [
    "# A sympy solution\n",
    "x1, x2, x3, x4, x5, x6 = symbols('x1 x2 x3 x4 x5 x6')\n",
    "A = Matrix([[2, 0, 0, -1, 0, 0],\\\n",
    "            [7, 0, 0, 0, 0, -1],\\\n",
    "            [0, 1, 0, 0, -1, 0],\\\n",
    "            [0, 0, 1, 0, 0, -2],\\\n",
    "            [-2, 2, 1, -3, -3, 0],\\\n",
    "            [0, 0, 0, 0, 0, 1]])\n",
    "x = (x1, x2, x3, x4, x5, x6) # this is a tuple because of what the linsolve function accepts for input\n",
    "b = Matrix([0, 0, 0, 0, 0, 1])"
   ]
  },
  {
   "cell_type": "code",
   "execution_count": 6,
   "metadata": {},
   "outputs": [],
   "source": [
    "system = A, b"
   ]
  },
  {
   "cell_type": "code",
   "execution_count": 7,
   "metadata": {},
   "outputs": [
    {
     "data": {
      "image/png": "[encoded data removed]",
      "text/latex": [
       "$\\displaystyle \\left\\{\\left( \\frac{1}{7}, \\  \\frac{6}{7}, \\  2, \\  \\frac{2}{7}, \\  \\frac{6}{7}, \\  1\\right)\\right\\}$"
      ],
      "text/plain": [
       "{(1/7, 6/7, 2, 2/7, 6/7, 1)}"
      ]
     },
     "execution_count": 7,
     "metadata": {},
     "output_type": "execute_result"
    }
   ],
   "source": [
    "linsolve(system, x)"
   ]
  },
  {
   "cell_type": "markdown",
   "metadata": {},
   "source": [
    "$Cr_{2}O_{7}^{2–} + 6 Fe^{2+} + 14 H^{+} → 2 Cr^{3+} + 6 Fe^{3+} + 7 H_{2}O$"
   ]
  },
  {
   "cell_type": "code",
   "execution_count": 11,
   "metadata": {},
   "outputs": [],
   "source": [
    "# A numpy solution\n",
    "A = np.array([[2, 0, 0, -1, 0, 0],\\\n",
    "            [7, 0, 0, 0, 0, -1],\\\n",
    "            [0, 1, 0, 0, -1, 0],\\\n",
    "            [0, 0, 1, 0, 0, -2],\\\n",
    "            [-2, 2, 1, -3, -3, 0],\\\n",
    "            [0, 0, 0, 0, 0, 1]])\n",
    "b = np.array([0, 0, 0, 0, 0, 1])\n",
    "x = solve(A, b) # this is the solver from scipy.linalg"
   ]
  },
  {
   "cell_type": "code",
   "execution_count": 12,
   "metadata": {},
   "outputs": [
    {
     "data": {
      "text/plain": [
       "array([0.14285714, 0.85714286, 2.        , 0.28571429, 0.85714286,\n",
       "       1.        ])"
      ]
     },
     "execution_count": 12,
     "metadata": {},
     "output_type": "execute_result"
    }
   ],
   "source": [
    "x"
   ]
  },
  {
   "cell_type": "code",
   "execution_count": null,
   "metadata": {},
   "outputs": [],
   "source": []
  }
 ],
 "metadata": {
  "kernelspec": {
   "display_name": "Python 3",
   "language": "python",
   "name": "python3"
  },
  "language_info": {
   "codemirror_mode": {
    "name": "ipython",
    "version": 3
   },
   "file_extension": ".py",
   "mimetype": "text/x-python",
   "name": "python",
   "nbconvert_exporter": "python",
   "pygments_lexer": "ipython3",
   "version": "3.9.4"
  }
 },
 "nbformat": 4,
 "nbformat_minor": 4
}
