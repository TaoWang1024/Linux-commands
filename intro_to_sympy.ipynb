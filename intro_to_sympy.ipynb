{
 "cells": [
  {
   "cell_type": "markdown",
   "metadata": {},
   "source": [
    "# SymPy"
   ]
  },
  {
   "cell_type": "code",
   "execution_count": 2,
   "metadata": {},
   "outputs": [
    {
     "name": "stdout",
     "output_type": "stream",
     "text": [
      "IPython console for SymPy 1.3 (Python 3.7.3-64-bit) (ground types: gmpy)\n",
      "\n",
      "These commands were executed:\n",
      ">>> from __future__ import division\n",
      ">>> from sympy import *\n",
      ">>> x, y, z, t = symbols('x y z t')\n",
      ">>> k, m, n = symbols('k m n', integer=True)\n",
      ">>> f, g, h = symbols('f g h', cls=Function)\n",
      ">>> init_printing()\n",
      "\n",
      "Documentation can be found at http://docs.sympy.org/1.3/\n",
      "\n"
     ]
    }
   ],
   "source": [
    "# initialize \n",
    "# to initialize displaying webpages within the notebook\n",
    "from IPython.display import IFrame\n",
    "# to initialize sympy from ipython:\n",
    "from sympy import init_session\n",
    "init_session()\n",
    "# to initialize sympy from the bash shell:\n",
    "# isympy"
   ]
  },
  {
   "cell_type": "code",
   "execution_count": 5,
   "metadata": {},
   "outputs": [],
   "source": [
    "# according to sympy documentation, sympy included the python library mpmath for arbitrary-precision math.\n",
    "# if you need arbitrary-precision math or if you are running older sympy scripts that invoke mpmath via sympy.mpmath,\n",
    "# you need to import mpmath directly:\n",
    "# http://mpmath.org/"
   ]
  },
  {
   "cell_type": "code",
   "execution_count": 3,
   "metadata": {},
   "outputs": [
    {
     "data": {
      "text/html": [
       "\n",
       "        <iframe\n",
       "            width=\"100%\"\n",
       "            height=\"500\"\n",
       "            src=\"https://www.sympy.org/en/index.html\"\n",
       "            frameborder=\"0\"\n",
       "            allowfullscreen\n",
       "        ></iframe>\n",
       "        "
      ],
      "text/plain": [
       "<IPython.lib.display.IFrame at 0x7f6754109e48>"
      ]
     },
     "execution_count": 3,
     "metadata": {},
     "output_type": "execute_result"
    }
   ],
   "source": [
    "IFrame('https://www.sympy.org/en/index.html', width='100%', height=500) "
   ]
  },
  {
   "cell_type": "code",
   "execution_count": 30,
   "metadata": {},
   "outputs": [
    {
     "data": {
      "text/html": [
       "\n",
       "        <iframe\n",
       "            width=\"100%\"\n",
       "            height=\"500\"\n",
       "            src=\"https://docs.sympy.org/latest/modules/core.html\"\n",
       "            frameborder=\"0\"\n",
       "            allowfullscreen\n",
       "        ></iframe>\n",
       "        "
      ],
      "text/plain": [
       "<IPython.lib.display.IFrame at 0x7f67247bb208>"
      ]
     },
     "execution_count": 30,
     "metadata": {},
     "output_type": "execute_result"
    }
   ],
   "source": [
    "# a word about the sympy live shell at sympy.org...\n",
    "IFrame('https://docs.sympy.org/latest/modules/core.html', width='100%', height=500) "
   ]
  },
  {
   "cell_type": "code",
   "execution_count": 6,
   "metadata": {},
   "outputs": [
    {
     "name": "stdout",
     "output_type": "stream",
     "text": [
      "Variable                         Type                      Data/Info\n",
      "--------------------------------------------------------------------\n",
      "Abs                              FunctionClass             Abs\n",
      "AccumBounds                      ManagedProperties         <class 'sympy.calculus.util.AccumulationBounds'>\n",
      "Add                              ManagedProperties         <class 'sympy.core.add.Add'>\n",
      "Adjoint                          ManagedProperties         <class 'sympy.matrices.ex<...>essions.adjoint.Adjoint'>\n",
      "AlgebraicField                   type                      <class 'sympy.polys.domai<...>aicfield.AlgebraicField'>\n",
      "AlgebraicNumber                  ManagedProperties         <class 'sympy.core.numbers.AlgebraicNumber'>\n",
      "And                              FunctionClass             And\n",
      "AppliedPredicate                 ManagedProperties         <class 'sympy.assumptions<...>assume.AppliedPredicate'>\n",
      "Array                            ManagedProperties         <class 'sympy.tensor.arra<...>ImmutableDenseNDimArray'>\n",
      "AssumptionsContext               type                      <class 'sympy.assumptions<...>sume.AssumptionsContext'>\n",
      "Atom                             ManagedProperties         <class 'sympy.core.basic.Atom'>\n",
      "AtomicExpr                       ManagedProperties         <class 'sympy.core.expr.AtomicExpr'>\n",
      "BasePolynomialError              type                      <class 'sympy.polys.polye<...>ors.BasePolynomialError'>\n",
      "Basic                            ManagedProperties         <class 'sympy.core.basic.Basic'>\n",
      "BlockDiagMatrix                  ManagedProperties         <class 'sympy.matrices.ex<...>kmatrix.BlockDiagMatrix'>\n",
      "BlockMatrix                      ManagedProperties         <class 'sympy.matrices.ex<...>blockmatrix.BlockMatrix'>\n",
      "C                                ClassRegistry             <sympy.deprecated.class_r<...>object at 0x7f6745f33e20>\n",
      "CC                               ComplexField              CC\n",
      "CRootOf                          ManagedProperties         <class 'sympy.polys.rootoftools.ComplexRootOf'>\n",
      "Catalan                          Catalan                   Catalan\n",
      "Chi                              FunctionClass             Chi\n",
      "Ci                               FunctionClass             Ci\n",
      "Circle                           ManagedProperties         <class 'sympy.geometry.ellipse.Circle'>\n",
      "ClassRegistry                    type                      <class 'sympy.deprecated.<...>_registry.ClassRegistry'>\n",
      "CoercionFailed                   type                      <class 'sympy.polys.polyerrors.CoercionFailed'>\n",
      "Complement                       ManagedProperties         <class 'sympy.sets.sets.Complement'>\n",
      "ComplexField                     type                      <class 'sympy.polys.domai<...>mplexfield.ComplexField'>\n",
      "ComplexRegion                    ManagedProperties         <class 'sympy.sets.fancysets.ComplexRegion'>\n",
      "ComplexRootOf                    ManagedProperties         <class 'sympy.polys.rootoftools.ComplexRootOf'>\n",
      "Complexes                        Complexes                 S.Complexes\n",
      "ComputationFailed                type                      <class 'sympy.polys.polye<...>rrors.ComputationFailed'>\n",
      "ConditionSet                     ManagedProperties         <class 'sympy.sets.conditionset.ConditionSet'>\n",
      "Contains                         FunctionClass             Contains\n",
      "CosineTransform                  FunctionClass             CosineTransform\n",
      "Curve                            ManagedProperties         <class 'sympy.geometry.curve.Curve'>\n",
      "DeferredVector                   ManagedProperties         <class 'sympy.matrices.matrices.DeferredVector'>\n",
      "DenseNDimArray                   type                      <class 'sympy.tensor.arra<...>im_array.DenseNDimArray'>\n",
      "Derivative                       ManagedProperties         <class 'sympy.core.function.Derivative'>\n",
      "Determinant                      ManagedProperties         <class 'sympy.matrices.ex<...>determinant.Determinant'>\n",
      "DiagonalMatrix                   ManagedProperties         <class 'sympy.matrices.ex<...>diagonal.DiagonalMatrix'>\n",
      "DiagonalOf                       ManagedProperties         <class 'sympy.matrices.ex<...>ons.diagonal.DiagonalOf'>\n",
      "Dict                             ManagedProperties         <class 'sympy.core.containers.Dict'>\n",
      "DiracDelta                       FunctionClass             DiracDelta\n",
      "Domain                           type                      <class 'sympy.polys.domains.domain.Domain'>\n",
      "DomainError                      type                      <class 'sympy.polys.polyerrors.DomainError'>\n",
      "DotProduct                       ManagedProperties         <class 'sympy.matrices.ex<...>s.dotproduct.DotProduct'>\n",
      "Dummy                            ManagedProperties         <class 'sympy.core.symbol.Dummy'>\n",
      "E                                Exp1                      E\n",
      "E1                               function                  <function E1 at 0x7f6745b58488>\n",
      "EPath                            type                      <class 'sympy.simplify.epathtools.EPath'>\n",
      "EX                               ExpressionDomain          EX\n",
      "Ei                               FunctionClass             Ei\n",
      "Eijk                             function                  <function Eijk at 0x7f6745a372f0>\n",
      "Ellipse                          ManagedProperties         <class 'sympy.geometry.ellipse.Ellipse'>\n",
      "EmptySequence                    Singleton                 <class 'sympy.series.sequences.EmptySequence'>\n",
      "EmptySet                         Singleton                 <class 'sympy.sets.sets.EmptySet'>\n",
      "Eq                               ManagedProperties         <class 'sympy.core.relational.Equality'>\n",
      "Equality                         ManagedProperties         <class 'sympy.core.relational.Equality'>\n",
      "Equivalent                       FunctionClass             Equivalent\n",
      "EulerGamma                       EulerGamma                EulerGamma\n",
      "EvaluationFailed                 type                      <class 'sympy.polys.polyerrors.EvaluationFailed'>\n",
      "ExactQuotientFailed              type                      <class 'sympy.polys.polye<...>ors.ExactQuotientFailed'>\n",
      "Expr                             ManagedProperties         <class 'sympy.core.expr.Expr'>\n",
      "ExpressionDomain                 type                      <class 'sympy.polys.domai<...>domain.ExpressionDomain'>\n",
      "ExtraneousFactors                type                      <class 'sympy.polys.polye<...>rrors.ExtraneousFactors'>\n",
      "FF                               type                      <class 'sympy.polys.domai<...>tefield.GMPYFiniteField'>\n",
      "FF_gmpy                          type                      <class 'sympy.polys.domai<...>tefield.GMPYFiniteField'>\n",
      "FF_python                        type                      <class 'sympy.polys.domai<...>field.PythonFiniteField'>\n",
      "FU                               dict                      n=24\n",
      "FallingFactorial                 FunctionClass             FallingFactorial\n",
      "FiniteField                      type                      <class 'sympy.polys.domai<...>finitefield.FiniteField'>\n",
      "FiniteSet                        ManagedProperties         <class 'sympy.sets.sets.FiniteSet'>\n",
      "FlagError                        type                      <class 'sympy.polys.polyerrors.FlagError'>\n",
      "Float                            ManagedProperties         <class 'sympy.core.numbers.Float'>\n",
      "FourierTransform                 FunctionClass             FourierTransform\n",
      "FractionField                    type                      <class 'sympy.polys.domai<...>tionfield.FractionField'>\n",
      "Function                         FunctionClass             Function\n",
      "FunctionClass                    type                      <class 'sympy.core.function.FunctionClass'>\n",
      "FunctionMatrix                   ManagedProperties         <class 'sympy.matrices.ex<...>ncmatrix.FunctionMatrix'>\n",
      "GF                               type                      <class 'sympy.polys.domai<...>tefield.GMPYFiniteField'>\n",
      "GMPYFiniteField                  type                      <class 'sympy.polys.domai<...>tefield.GMPYFiniteField'>\n",
      "GMPYIntegerRing                  type                      <class 'sympy.polys.domai<...>gerring.GMPYIntegerRing'>\n",
      "GMPYRationalField                type                      <class 'sympy.polys.domai<...>field.GMPYRationalField'>\n",
      "Ge                               ManagedProperties         <class 'sympy.core.relational.GreaterThan'>\n",
      "GeneratorsError                  type                      <class 'sympy.polys.polyerrors.GeneratorsError'>\n",
      "GeneratorsNeeded                 type                      <class 'sympy.polys.polyerrors.GeneratorsNeeded'>\n",
      "GeometryError                    type                      <class 'sympy.geometry.exceptions.GeometryError'>\n",
      "GoldenRatio                      GoldenRatio               GoldenRatio\n",
      "GramSchmidt                      function                  <function GramSchmidt at 0x7f6745758d90>\n",
      "GreaterThan                      ManagedProperties         <class 'sympy.core.relational.GreaterThan'>\n",
      "GroebnerBasis                    ManagedProperties         <class 'sympy.polys.polytools.GroebnerBasis'>\n",
      "Gt                               ManagedProperties         <class 'sympy.core.relational.StrictGreaterThan'>\n",
      "HadamardProduct                  ManagedProperties         <class 'sympy.matrices.ex<...>adamard.HadamardProduct'>\n",
      "HankelTransform                  FunctionClass             HankelTransform\n",
      "Heaviside                        FunctionClass             Heaviside\n",
      "HeuristicGCDFailed               type                      <class 'sympy.polys.polye<...>rors.HeuristicGCDFailed'>\n",
      "HomomorphismFailed               type                      <class 'sympy.polys.polye<...>rors.HomomorphismFailed'>\n",
      "I                                ImaginaryUnit             I\n",
      "IFrame                           type                      <class 'IPython.lib.display.IFrame'>\n",
      "ITE                              FunctionClass             ITE\n",
      "Id                               IdentityFunction          Lambda(_x, _x)\n",
      "Identity                         ManagedProperties         <class 'sympy.matrices.ex<...>ssions.matexpr.Identity'>\n",
      "Idx                              ManagedProperties         <class 'sympy.tensor.indexed.Idx'>\n",
      "ImageSet                         ManagedProperties         <class 'sympy.sets.fancysets.ImageSet'>\n",
      "ImmutableDenseMatrix             ManagedProperties         <class 'sympy.matrices.im<...>le.ImmutableDenseMatrix'>\n",
      "ImmutableDenseNDimArray          ManagedProperties         <class 'sympy.tensor.arra<...>ImmutableDenseNDimArray'>\n",
      "ImmutableMatrix                  ManagedProperties         <class 'sympy.matrices.im<...>le.ImmutableDenseMatrix'>\n",
      "ImmutableSparseMatrix            ManagedProperties         <class 'sympy.matrices.im<...>e.ImmutableSparseMatrix'>\n",
      "ImmutableSparseNDimArray         ManagedProperties         <class 'sympy.tensor.arra<...>mmutableSparseNDimArray'>\n",
      "Implies                          FunctionClass             Implies\n",
      "Indexed                          ManagedProperties         <class 'sympy.tensor.indexed.Indexed'>\n",
      "IndexedBase                      ManagedProperties         <class 'sympy.tensor.indexed.IndexedBase'>\n",
      "Integer                          ManagedProperties         <class 'sympy.core.numbers.Integer'>\n",
      "IntegerRing                      type                      <class 'sympy.polys.domai<...>integerring.IntegerRing'>\n",
      "Integers                         Integers                  Integers\n",
      "Integral                         ManagedProperties         <class 'sympy.integrals.integrals.Integral'>\n",
      "Intersection                     ManagedProperties         <class 'sympy.sets.sets.Intersection'>\n",
      "Interval                         ManagedProperties         <class 'sympy.sets.sets.Interval'>\n",
      "Inverse                          ManagedProperties         <class 'sympy.matrices.ex<...>essions.inverse.Inverse'>\n",
      "InverseCosineTransform           FunctionClass             InverseCosineTransform\n",
      "InverseFourierTransform          FunctionClass             InverseFourierTransform\n",
      "InverseHankelTransform           FunctionClass             InverseHankelTransform\n",
      "InverseLaplaceTransform          FunctionClass             InverseLaplaceTransform\n",
      "InverseMellinTransform           FunctionClass             InverseMellinTransform\n",
      "InverseSineTransform             FunctionClass             InverseSineTransform\n",
      "IsomorphismFailed                type                      <class 'sympy.polys.polye<...>rrors.IsomorphismFailed'>\n",
      "KroneckerDelta                   FunctionClass             KroneckerDelta\n",
      "KroneckerProduct                 ManagedProperties         <class 'sympy.matrices.ex<...>necker.KroneckerProduct'>\n",
      "LC                               function                  <function LC at 0x7f6745ba9d08>\n",
      "LM                               function                  <function LM at 0x7f6745ba9d90>\n",
      "LT                               function                  <function LT at 0x7f6745ba9e18>\n",
      "Lambda                           ManagedProperties         <class 'sympy.core.function.Lambda'>\n",
      "LambertW                         FunctionClass             LambertW\n",
      "LaplaceTransform                 FunctionClass             LaplaceTransform\n",
      "Le                               ManagedProperties         <class 'sympy.core.relational.LessThan'>\n",
      "LessThan                         ManagedProperties         <class 'sympy.core.relational.LessThan'>\n",
      "LeviCivita                       FunctionClass             LeviCivita\n",
      "Li                               FunctionClass             Li\n",
      "Limit                            ManagedProperties         <class 'sympy.series.limits.Limit'>\n",
      "Line                             ManagedProperties         <class 'sympy.geometry.line.Line'>\n",
      "Line2D                           ManagedProperties         <class 'sympy.geometry.line.Line2D'>\n",
      "Line3D                           ManagedProperties         <class 'sympy.geometry.line.Line3D'>\n",
      "Lt                               ManagedProperties         <class 'sympy.core.relational.StrictLessThan'>\n",
      "MatAdd                           ManagedProperties         <class 'sympy.matrices.ex<...>pressions.matadd.MatAdd'>\n",
      "MatMul                           ManagedProperties         <class 'sympy.matrices.ex<...>pressions.matmul.MatMul'>\n",
      "MatPow                           ManagedProperties         <class 'sympy.matrices.ex<...>pressions.matpow.MatPow'>\n",
      "Matrix                           type                      <class 'sympy.matrices.dense.MutableDenseMatrix'>\n",
      "MatrixBase                       type                      <class 'sympy.matrices.matrices.MatrixBase'>\n",
      "MatrixExpr                       ManagedProperties         <class 'sympy.matrices.ex<...>ions.matexpr.MatrixExpr'>\n",
      "MatrixSlice                      ManagedProperties         <class 'sympy.matrices.ex<...>sions.slice.MatrixSlice'>\n",
      "MatrixSymbol                     ManagedProperties         <class 'sympy.matrices.ex<...>ns.matexpr.MatrixSymbol'>\n",
      "Max                              FunctionClass             Max\n",
      "MellinTransform                  FunctionClass             MellinTransform\n",
      "Min                              FunctionClass             Min\n",
      "Mod                              FunctionClass             Mod\n",
      "Monomial                         type                      <class 'sympy.polys.monomials.Monomial'>\n",
      "Mul                              ManagedProperties         <class 'sympy.core.mul.Mul'>\n",
      "MultivariatePolynomialError      type                      <class 'sympy.polys.polye<...>ivariatePolynomialError'>\n",
      "MutableDenseMatrix               type                      <class 'sympy.matrices.dense.MutableDenseMatrix'>\n",
      "MutableDenseNDimArray            type                      <class 'sympy.tensor.arra<...>y.MutableDenseNDimArray'>\n",
      "MutableMatrix                    type                      <class 'sympy.matrices.dense.MutableDenseMatrix'>\n",
      "MutableSparseMatrix              type                      <class 'sympy.matrices.sp<...>rse.MutableSparseMatrix'>\n",
      "MutableSparseNDimArray           type                      <class 'sympy.tensor.arra<...>.MutableSparseNDimArray'>\n",
      "N                                function                  <function N at 0x7f67461688c8>\n",
      "NDimArray                        type                      <class 'sympy.tensor.array.ndim_array.NDimArray'>\n",
      "Nand                             FunctionClass             Nand\n",
      "Naturals                         Naturals                  Naturals\n",
      "Naturals0                        Naturals0                 Naturals0\n",
      "Ne                               ManagedProperties         <class 'sympy.core.relational.Unequality'>\n",
      "NonSquareMatrixError             type                      <class 'sympy.matrices.co<...>on.NonSquareMatrixError'>\n",
      "Nor                              FunctionClass             Nor\n",
      "Not                              FunctionClass             Not\n",
      "NotAlgebraic                     type                      <class 'sympy.polys.polyerrors.NotAlgebraic'>\n",
      "NotInvertible                    type                      <class 'sympy.polys.polyerrors.NotInvertible'>\n",
      "NotReversible                    type                      <class 'sympy.polys.polyerrors.NotReversible'>\n",
      "Number                           ManagedProperties         <class 'sympy.core.numbers.Number'>\n",
      "NumberSymbol                     ManagedProperties         <class 'sympy.core.numbers.NumberSymbol'>\n",
      "O                                ManagedProperties         <class 'sympy.series.order.Order'>\n",
      "OmegaPower                       ManagedProperties         <class 'sympy.sets.ordinals.OmegaPower'>\n",
      "OperationNotSupported            type                      <class 'sympy.polys.polye<...>s.OperationNotSupported'>\n",
      "OptionError                      type                      <class 'sympy.polys.polyerrors.OptionError'>\n",
      "Options                          type                      <class 'sympy.polys.polyoptions.Options'>\n",
      "Or                               FunctionClass             Or\n",
      "Order                            ManagedProperties         <class 'sympy.series.order.Order'>\n",
      "Ordinal                          ManagedProperties         <class 'sympy.sets.ordinals.Ordinal'>\n",
      "POSform                          function                  <function POSform at 0x7f674602e9d8>\n",
      "Parabola                         ManagedProperties         <class 'sympy.geometry.parabola.Parabola'>\n",
      "Piecewise                        FunctionClass             Piecewise\n",
      "Plane                            ManagedProperties         <class 'sympy.geometry.plane.Plane'>\n",
      "Point                            ManagedProperties         <class 'sympy.geometry.point.Point'>\n",
      "Point2D                          ManagedProperties         <class 'sympy.geometry.point.Point2D'>\n",
      "Point3D                          ManagedProperties         <class 'sympy.geometry.point.Point3D'>\n",
      "PoleError                        type                      <class 'sympy.core.function.PoleError'>\n",
      "PolificationFailed               type                      <class 'sympy.polys.polye<...>rors.PolificationFailed'>\n",
      "Poly                             ManagedProperties         <class 'sympy.polys.polytools.Poly'>\n",
      "Polygon                          ManagedProperties         <class 'sympy.geometry.polygon.Polygon'>\n",
      "PolynomialDivisionFailed         type                      <class 'sympy.polys.polye<...>olynomialDivisionFailed'>\n",
      "PolynomialError                  type                      <class 'sympy.polys.polyerrors.PolynomialError'>\n",
      "PolynomialRing                   type                      <class 'sympy.polys.domai<...>mialring.PolynomialRing'>\n",
      "Pow                              ManagedProperties         <class 'sympy.core.power.Pow'>\n",
      "PrecisionExhausted               type                      <class 'sympy.core.evalf.PrecisionExhausted'>\n",
      "Predicate                        ManagedProperties         <class 'sympy.assumptions.assume.Predicate'>\n",
      "Product                          ManagedProperties         <class 'sympy.concrete.products.Product'>\n",
      "ProductSet                       ManagedProperties         <class 'sympy.sets.sets.ProductSet'>\n",
      "PurePoly                         ManagedProperties         <class 'sympy.polys.polytools.PurePoly'>\n",
      "PythonFiniteField                type                      <class 'sympy.polys.domai<...>field.PythonFiniteField'>\n",
      "PythonIntegerRing                type                      <class 'sympy.polys.domai<...>rring.PythonIntegerRing'>\n",
      "PythonRationalField              type                      <class 'sympy.polys.domai<...>eld.PythonRationalField'>\n",
      "Q                                AssumptionKeys            <sympy.assumptions.ask.As<...>object at 0x7f6745fe7ba8>\n",
      "QQ                               GMPYRationalField         QQ\n",
      "QQ_gmpy                          type                      <class 'sympy.polys.domai<...>field.GMPYRationalField'>\n",
      "QQ_python                        type                      <class 'sympy.polys.domai<...>eld.PythonRationalField'>\n",
      "Quaternion                       ManagedProperties         <class 'sympy.algebras.quaternion.Quaternion'>\n",
      "RR                               RealField                 RR\n",
      "Range                            ManagedProperties         <class 'sympy.sets.fancysets.Range'>\n",
      "Rational                         ManagedProperties         <class 'sympy.core.numbers.Rational'>\n",
      "RationalField                    type                      <class 'sympy.polys.domai<...>onalfield.RationalField'>\n",
      "Ray                              ManagedProperties         <class 'sympy.geometry.line.Ray'>\n",
      "Ray2D                            ManagedProperties         <class 'sympy.geometry.line.Ray2D'>\n",
      "Ray3D                            ManagedProperties         <class 'sympy.geometry.line.Ray3D'>\n",
      "RealField                        type                      <class 'sympy.polys.domains.realfield.RealField'>\n",
      "RealNumber                       ManagedProperties         <class 'sympy.core.numbers.Float'>\n",
      "Reals                            Reals                     Reals\n",
      "RefinementFailed                 type                      <class 'sympy.polys.polyerrors.RefinementFailed'>\n",
      "RegularPolygon                   ManagedProperties         <class 'sympy.geometry.polygon.RegularPolygon'>\n",
      "Rel                              ManagedProperties         <class 'sympy.core.relational.Relational'>\n",
      "RisingFactorial                  FunctionClass             RisingFactorial\n",
      "RootOf                           ManagedProperties         <class 'sympy.polys.rootoftools.RootOf'>\n",
      "RootSum                          ManagedProperties         <class 'sympy.polys.rootoftools.RootSum'>\n",
      "S                                SingletonRegistry         S\n",
      "SOPform                          function                  <function SOPform at 0x7f674602e950>\n",
      "SYMPY_DEBUG                      bool                      False\n",
      "Segment                          ManagedProperties         <class 'sympy.geometry.line.Segment'>\n",
      "Segment2D                        ManagedProperties         <class 'sympy.geometry.line.Segment2D'>\n",
      "Segment3D                        ManagedProperties         <class 'sympy.geometry.line.Segment3D'>\n",
      "SeqAdd                           ManagedProperties         <class 'sympy.series.sequences.SeqAdd'>\n",
      "SeqFormula                       ManagedProperties         <class 'sympy.series.sequences.SeqFormula'>\n",
      "SeqMul                           ManagedProperties         <class 'sympy.series.sequences.SeqMul'>\n",
      "SeqPer                           ManagedProperties         <class 'sympy.series.sequences.SeqPer'>\n",
      "Set                              ManagedProperties         <class 'sympy.sets.sets.Set'>\n",
      "ShapeError                       type                      <class 'sympy.matrices.common.ShapeError'>\n",
      "Shi                              FunctionClass             Shi\n",
      "Si                               FunctionClass             Si\n",
      "Sieve                            type                      <class 'sympy.ntheory.generate.Sieve'>\n",
      "SineTransform                    FunctionClass             SineTransform\n",
      "SingularityFunction              FunctionClass             SingularityFunction\n",
      "SparseMatrix                     type                      <class 'sympy.matrices.sp<...>rse.MutableSparseMatrix'>\n",
      "SparseNDimArray                  type                      <class 'sympy.tensor.arra<...>m_array.SparseNDimArray'>\n",
      "StrPrinter                       type                      <class 'sympy.printing.str.StrPrinter'>\n",
      "StrictGreaterThan                ManagedProperties         <class 'sympy.core.relational.StrictGreaterThan'>\n",
      "StrictLessThan                   ManagedProperties         <class 'sympy.core.relational.StrictLessThan'>\n",
      "Subs                             ManagedProperties         <class 'sympy.core.function.Subs'>\n",
      "Sum                              ManagedProperties         <class 'sympy.concrete.summations.Sum'>\n",
      "Symbol                           ManagedProperties         <class 'sympy.core.symbol.Symbol'>\n",
      "SymmetricDifference              ManagedProperties         <class 'sympy.sets.sets.SymmetricDifference'>\n",
      "SympifyError                     type                      <class 'sympy.core.sympify.SympifyError'>\n",
      "TableForm                        type                      <class 'sympy.printing.tableform.TableForm'>\n",
      "Trace                            ManagedProperties         <class 'sympy.matrices.expressions.trace.Trace'>\n",
      "Transpose                        ManagedProperties         <class 'sympy.matrices.ex<...>ons.transpose.Transpose'>\n",
      "Triangle                         ManagedProperties         <class 'sympy.geometry.polygon.Triangle'>\n",
      "TribonacciConstant               TribonacciConstant        TribonacciConstant\n",
      "Tuple                            ManagedProperties         <class 'sympy.core.containers.Tuple'>\n",
      "Unequality                       ManagedProperties         <class 'sympy.core.relational.Unequality'>\n",
      "UnevaluatedExpr                  ManagedProperties         <class 'sympy.core.expr.UnevaluatedExpr'>\n",
      "UnificationFailed                type                      <class 'sympy.polys.polye<...>rrors.UnificationFailed'>\n",
      "Union                            ManagedProperties         <class 'sympy.sets.sets.Union'>\n",
      "UnivariatePolynomialError        type                      <class 'sympy.polys.polye<...>ivariatePolynomialError'>\n",
      "UniversalSet                     UniversalSet              UniversalSet()\n",
      "Wild                             ManagedProperties         <class 'sympy.core.symbol.Wild'>\n",
      "WildFunction                     FunctionClass             WildFunction\n",
      "Xor                              FunctionClass             Xor\n",
      "Ynm                              FunctionClass             Ynm\n",
      "Ynm_c                            function                  <function Ynm_c at 0x7f67459fe6a8>\n",
      "ZZ                               GMPYIntegerRing           ZZ\n",
      "ZZ_gmpy                          type                      <class 'sympy.polys.domai<...>gerring.GMPYIntegerRing'>\n",
      "ZZ_python                        type                      <class 'sympy.polys.domai<...>rring.PythonIntegerRing'>\n",
      "ZeroMatrix                       ManagedProperties         <class 'sympy.matrices.ex<...>ions.matexpr.ZeroMatrix'>\n",
      "Znm                              FunctionClass             Znm\n",
      "acos                             FunctionClass             acos\n",
      "acosh                            FunctionClass             acosh\n",
      "acot                             FunctionClass             acot\n",
      "acoth                            FunctionClass             acoth\n",
      "acsc                             FunctionClass             acsc\n",
      "acsch                            FunctionClass             acsch\n",
      "add                              module                    <module 'sympy.core.add' <...>kages/sympy/core/add.py'>\n",
      "adjoint                          FunctionClass             adjoint\n",
      "airyai                           FunctionClass             airyai\n",
      "airyaiprime                      FunctionClass             airyaiprime\n",
      "airybi                           FunctionClass             airybi\n",
      "airybiprime                      FunctionClass             airybiprime\n",
      "algebras                         module                    <module 'sympy.algebras' <...>py/algebras/__init__.py'>\n",
      "apart                            function                  <function apart at 0x7f67457dcb70>\n",
      "apart_list                       function                  <function apart_list at 0x7f674574cd90>\n",
      "appellf1                         FunctionClass             appellf1\n",
      "apply_finite_diff                function                  <function apply_finite_diff at 0x7f67455ba488>\n",
      "are_similar                      function                  <function are_similar at 0x7f674551b6a8>\n",
      "arg                              FunctionClass             arg\n",
      "array                            module                    <module 'sympy.tensor.arr<...>ensor/array/__init__.py'>\n",
      "as_finite_diff                   function                  <function _as_finite_diff at 0x7f67455ba6a8>\n",
      "asec                             FunctionClass             asec\n",
      "asech                            FunctionClass             asech\n",
      "asin                             FunctionClass             asin\n",
      "asinh                            FunctionClass             asinh\n",
      "ask                              function                  <function ask at 0x7f6745ff87b8>\n",
      "ask_generated                    module                    <module 'sympy.assumption<...>ptions/ask_generated.py'>\n",
      "assemble_partfrac_list           function                  <function assemble_partfr<...>c_list at 0x7f674574cea0>\n",
      "assoc_laguerre                   FunctionClass             assoc_laguerre\n",
      "assoc_legendre                   FunctionClass             assoc_legendre\n",
      "assume                           module                    <module 'sympy.assumption<...>y/assumptions/assume.py'>\n",
      "assuming                         function                  <function assuming at 0x7f6745fdaf28>\n",
      "assumptions                      module                    <module 'sympy.assumption<...>assumptions/__init__.py'>\n",
      "atan                             FunctionClass             atan\n",
      "atan2                            FunctionClass             atan2\n",
      "atanh                            FunctionClass             atanh\n",
      "basic                            module                    <module 'sympy.core.basic<...>ges/sympy/core/basic.py'>\n",
      "bell                             FunctionClass             bell\n",
      "bernoulli                        FunctionClass             bernoulli\n",
      "besseli                          FunctionClass             besseli\n",
      "besselj                          FunctionClass             besselj\n",
      "besselk                          FunctionClass             besselk\n",
      "besselsimp                       function                  <function besselsimp at 0x7f67458f5f28>\n",
      "bessely                          FunctionClass             bessely\n",
      "beta                             FunctionClass             beta\n",
      "binomial                         FunctionClass             binomial\n",
      "binomial_coefficients            function                  <function binomial_coeffi<...>cients at 0x7f6745ec5950>\n",
      "binomial_coefficients_list       function                  <function binomial_coeffi<...>s_list at 0x7f6745ec59d8>\n",
      "bivariate                        module                    <module 'sympy.solvers.bi<...>py/solvers/bivariate.py'>\n",
      "block_collapse                   function                  <function block_collapse at 0x7f674576a6a8>\n",
      "blockcut                         function                  <function blockcut at 0x7f674573b0d0>\n",
      "bool_map                         function                  <function bool_map at 0x7f674602ebf8>\n",
      "boolalg                          module                    <module 'sympy.logic.bool<...>/sympy/logic/boolalg.py'>\n",
      "bottom_up                        function                  <function bottom_up at 0x7f67458f5ea0>\n",
      "bspline_basis                    function                  <function bspline_basis at 0x7f67459dcb70>\n",
      "bspline_basis_set                function                  <function bspline_basis_set at 0x7f67459ddc80>\n",
      "cache                            module                    <module 'sympy.core.cache<...>ges/sympy/core/cache.py'>\n",
      "cacheit                          function                  <function __cacheit.<loca<...>rapper at 0x7f6746295048>\n",
      "calculus                         module                    <module 'sympy.calculus' <...>py/calculus/__init__.py'>\n",
      "cancel                           function                  <function cancel at 0x7f6745baea60>\n",
      "capture                          function                  <function capture at 0x7f674623bbf8>\n",
      "cartes                           type                      <class 'itertools.product'>\n",
      "casoratian                       function                  <function casoratian at 0x7f6745758b70>\n",
      "catalan                          FunctionClass             catalan\n",
      "cbrt                             function                  <function cbrt at 0x7f6745b93d08>\n",
      "ccode                            function                  <function ccode at 0x7f6745cc0bf8>\n",
      "ceiling                          FunctionClass             ceiling\n",
      "centroid                         function                  <function centroid at 0x7f674551b730>\n",
      "chebyshevt                       FunctionClass             chebyshevt\n",
      "chebyshevt_poly                  function                  <function chebyshevt_poly at 0x7f67459dc158>\n",
      "chebyshevt_root                  FunctionClass             chebyshevt_root\n",
      "chebyshevu                       FunctionClass             chebyshevu\n",
      "chebyshevu_poly                  function                  <function chebyshevu_poly at 0x7f67459dc268>\n",
      "chebyshevu_root                  FunctionClass             chebyshevu_root\n",
      "check_assumptions                function                  <function check_assumptions at 0x7f6745630840>\n",
      "checkodesol                      function                  <function checkodesol at 0x7f67455b6f28>\n",
      "checkpdesol                      function                  <function checkpdesol at 0x7f67455b6158>\n",
      "checksol                         function                  <function checksol at 0x7f6745630730>\n",
      "class_registry                   module                    <module 'sympy.deprecated<...>cated/class_registry.py'>\n",
      "classify_ode                     function                  <function classify_ode at 0x7f67455b6840>\n",
      "classify_pde                     function                  <function classify_pde at 0x7f67455b60d0>\n",
      "closest_points                   function                  <function closest_points at 0x7f674551b7b8>\n",
      "codegen                          module                    <module 'sympy.codegen' f<...>mpy/codegen/__init__.py'>\n",
      "cofactors                        function                  <function cofactors at 0x7f6745bad6a8>\n",
      "collect                          function                  <function collect at 0x7f6745988a60>\n",
      "collect_const                    function                  <function collect_const at 0x7f674594b730>\n",
      "combinatorial                    module                    <module 'sympy.functions.<...>mbinatorial/__init__.py'>\n",
      "combsimp                         function                  <function combsimp at 0x7f67458f5400>\n",
      "common                           module                    <module 'sympy.matrices.c<...>ympy/matrices/common.py'>\n",
      "comp                             function                  <function comp at 0x7f674611d2f0>\n",
      "compatibility                    module                    <module 'sympy.core.compa<...>y/core/compatibility.py'>\n",
      "compose                          function                  <function compose at 0x7f6745badbf8>\n",
      "composite                        function                  <function composite at 0x7f6745ea2048>\n",
      "compositepi                      function                  <function compositepi at 0x7f6745ea20d0>\n",
      "concrete                         module                    <module 'sympy.concrete' <...>py/concrete/__init__.py'>\n",
      "conditionset                     module                    <module 'sympy.sets.condi<...>py/sets/conditionset.py'>\n",
      "conjugate                        FunctionClass             conjugate\n",
      "construct_domain                 function                  <function construct_domain at 0x7f6745b9eb70>\n",
      "containers                       module                    <module 'sympy.core.conta<...>ympy/core/containers.py'>\n",
      "contains                         module                    <module 'sympy.sets.conta<...>/sympy/sets/contains.py'>\n",
      "content                          function                  <function content at 0x7f6745badae8>\n",
      "continued_fraction               module                    <module 'sympy.ntheory.co<...>y/continued_fraction.py'>\n",
      "continued_fraction_convergents   function                  <function continued_fract<...>rgents at 0x7f6745ec5e18>\n",
      "continued_fraction_iterator      function                  <function continued_fract<...>erator at 0x7f6745ec5d90>\n",
      "continued_fraction_periodic      function                  <function continued_fract<...>riodic at 0x7f6745ec5bf8>\n",
      "continued_fraction_reduce        function                  <function continued_fract<...>reduce at 0x7f6745ec5d08>\n",
      "convex_hull                      function                  <function convex_hull at 0x7f674551b840>\n",
      "convolution                      function                  <function convolution at 0x7f67455be8c8>\n",
      "convolutions                     module                    <module 'sympy.discrete.c<...>iscrete/convolutions.py'>\n",
      "core                             module                    <module 'sympy.core.core'<...>ages/sympy/core/core.py'>\n",
      "coreerrors                       module                    <module 'sympy.core.coree<...>ympy/core/coreerrors.py'>\n",
      "cos                              FunctionClass             cos\n",
      "cosh                             FunctionClass             cosh\n",
      "cosine_transform                 function                  <function cosine_transform at 0x7f6745628c80>\n",
      "cot                              FunctionClass             cot\n",
      "coth                             FunctionClass             coth\n",
      "count_ops                        function                  <function count_ops at 0x7f6746072c80>\n",
      "count_roots                      function                  <function count_roots at 0x7f6745bae7b8>\n",
      "covering_product                 function                  <function covering_product at 0x7f67455beb70>\n",
      "csc                              FunctionClass             csc\n",
      "csch                             FunctionClass             csch\n",
      "cse                              function                  <function cse at 0x7f674589a620>\n",
      "cse_main                         module                    <module 'sympy.simplify.c<...>py/simplify/cse_main.py'>\n",
      "cse_opts                         module                    <module 'sympy.simplify.c<...>py/simplify/cse_opts.py'>\n",
      "curve                            module                    <module 'sympy.geometry.c<...>sympy/geometry/curve.py'>\n",
      "cxxcode                          function                  <function cxxcode at 0x7f6745c6d0d0>\n",
      "cycle_length                     function                  <function cycle_length at 0x7f6745ea1f28>\n",
      "cyclotomic_poly                  function                  <function cyclotomic_poly at 0x7f6745baf8c8>\n",
      "decompogen                       function                  <function decompogen at 0x7f67455ba048>\n",
      "decompose                        function                  <function decompose at 0x7f6745badc80>\n",
      "decorator                        module                    <module 'sympy.utilities.<...>/utilities/decorator.py'>\n",
      "decorators                       module                    <module 'sympy.core.decor<...>ympy/core/decorators.py'>\n",
      "default_sort_key                 function                  <function default_sort_key at 0x7f6746518400>\n",
      "deg                              function                  <function deg at 0x7f674554ad08>\n",
      "degree                           function                  <function degree at 0x7f6745ba9b70>\n",
      "degree_list                      function                  <function degree_list at 0x7f6745ba9c80>\n",
      "denom                            function                  <function denom at 0x7f674594b9d8>\n",
      "dense                            module                    <module 'sympy.matrices.d<...>sympy/matrices/dense.py'>\n",
      "deprecated                       module                    <module 'sympy.deprecated<...>/deprecated/__init__.py'>\n",
      "derive_by_array                  function                  <function derive_by_array at 0x7f6745818a60>\n",
      "det                              function                  <function det at 0x7f67457767b8>\n",
      "det_quick                        function                  <function det_quick at 0x7f6745630e18>\n",
      "deutils                          module                    <module 'sympy.solvers.de<...>ympy/solvers/deutils.py'>\n",
      "diag                             function                  <function diag at 0x7f6745758d08>\n",
      "dict_merge                       function                  <function dict_merge at 0x7f674623bd90>\n",
      "diff                             function                  <function diff at 0x7f67460631e0>\n",
      "difference_delta                 function                  <function difference_delta at 0x7f6745832b70>\n",
      "differentiate_finite             function                  <function differentiate_finite at 0x7f67455ba620>\n",
      "digamma                          function                  <function digamma at 0x7f6745a5e2f0>\n",
      "diophantine                      function                  <function diophantine at 0x7f67455f5ea0>\n",
      "dirichlet_eta                    FunctionClass             dirichlet_eta\n",
      "discrete                         module                    <module 'sympy.discrete' <...>py/discrete/__init__.py'>\n",
      "discrete_log                     function                  <function discrete_log at 0x7f6745ec5730>\n",
      "discriminant                     function                  <function discriminant at 0x7f6745bad620>\n",
      "div                              function                  <function div at 0x7f6745bad1e0>\n",
      "division                         _Feature                  _Feature((2, 2, 0, 'alpha<...> 0, 0, 'alpha', 0), 8192)\n",
      "divisor_count                    function                  <function divisor_count at 0x7f6745ea2ae8>\n",
      "divisor_sigma                    FunctionClass             divisor_sigma\n",
      "divisors                         function                  <function divisors at 0x7f6745ea2a60>\n",
      "doctest                          function                  <function doctest at 0x7f6746161a60>\n",
      "dotprint                         function                  <function dotprint at 0x7f6745bda1e0>\n",
      "dsolve                           function                  <function dsolve at 0x7f67455b66a8>\n",
      "egyptian_fraction                function                  <function egyptian_fraction at 0x7f6745ec5ea0>\n",
      "elementary                       module                    <module 'sympy.functions.<...>/elementary/__init__.py'>\n",
      "ellipse                          module                    <module 'sympy.geometry.e<...>mpy/geometry/ellipse.py'>\n",
      "elliptic_e                       FunctionClass             elliptic_e\n",
      "elliptic_f                       FunctionClass             elliptic_f\n",
      "elliptic_k                       FunctionClass             elliptic_k\n",
      "elliptic_pi                      FunctionClass             elliptic_pi\n",
      "entity                           module                    <module 'sympy.geometry.e<...>ympy/geometry/entity.py'>\n",
      "enumerative                      module                    <module 'sympy.utilities.<...>tilities/enumerative.py'>\n",
      "epath                            function                  <function epath at 0x7f674589a7b8>\n",
      "epathtools                       module                    <module 'sympy.simplify.e<...>/simplify/epathtools.py'>\n",
      "erf                              FunctionClass             erf\n",
      "erf2                             FunctionClass             erf2\n",
      "erf2inv                          FunctionClass             erf2inv\n",
      "erfc                             FunctionClass             erfc\n",
      "erfcinv                          FunctionClass             erfcinv\n",
      "erfi                             FunctionClass             erfi\n",
      "erfinv                           FunctionClass             erfinv\n",
      "euler                            FunctionClass             euler\n",
      "euler_equations                  function                  <function euler_equations at 0x7f67456e47b8>\n",
      "evalf                            module                    <module 'sympy.core.evalf<...>ges/sympy/core/evalf.py'>\n",
      "evaluate                         function                  <function evaluate at 0x7f6746295158>\n",
      "exceptions                       module                    <module 'sympy.utilities.<...>utilities/exceptions.py'>\n",
      "exp                              FunctionClass             exp\n",
      "exp_polar                        FunctionClass             exp_polar\n",
      "expand                           function                  <function expand at 0x7f6746072730>\n",
      "expand_complex                   function                  <function expand_complex at 0x7f6746072ae8>\n",
      "expand_func                      function                  <function expand_func at 0x7f67460729d8>\n",
      "expand_log                       function                  <function expand_log at 0x7f6746072950>\n",
      "expand_mul                       function                  <function expand_mul at 0x7f6746072840>\n",
      "expand_multinomial               function                  <function expand_multinomial at 0x7f67460728c8>\n",
      "expand_power_base                function                  <function expand_power_base at 0x7f6746072b70>\n",
      "expand_power_exp                 function                  <function expand_power_exp at 0x7f6746072bf8>\n",
      "expand_trig                      function                  <function expand_trig at 0x7f6746072a60>\n",
      "expint                           FunctionClass             expint\n",
      "expr                             module                    <module 'sympy.core.expr'<...>ages/sympy/core/expr.py'>\n",
      "expr_with_intlimits              module                    <module 'sympy.concrete.e<...>/expr_with_intlimits.py'>\n",
      "expr_with_limits                 module                    <module 'sympy.concrete.e<...>ete/expr_with_limits.py'>\n",
      "expressions                      module                    <module 'sympy.matrices.e<...>expressions/__init__.py'>\n",
      "exprtools                        module                    <module 'sympy.core.exprt<...>sympy/core/exprtools.py'>\n",
      "exptrigsimp                      function                  <function exptrigsimp at 0x7f67458ef0d0>\n",
      "exquo                            function                  <function exquo at 0x7f6745bad378>\n",
      "external                         module                    <module 'sympy.external' <...>py/external/__init__.py'>\n",
      "eye                              function                  <function eye at 0x7f6745758c80>\n",
      "f                                UndefinedFunction         f\n",
      "factor                           function                  <function factor at 0x7f6745bae620>\n",
      "factor_                          module                    <module 'sympy.ntheory.fa<...>ympy/ntheory/factor_.py'>\n",
      "factor_list                      function                  <function factor_list at 0x7f6745bae598>\n",
      "factor_nc                        function                  <function factor_nc at 0x7f67460488c8>\n",
      "factor_terms                     function                  <function factor_terms at 0x7f67460487b8>\n",
      "factorial                        FunctionClass             factorial\n",
      "factorial2                       FunctionClass             factorial2\n",
      "factorint                        function                  <function factorint at 0x7f6745ea2840>\n",
      "factorrat                        function                  <function factorrat at 0x7f6745ea28c8>\n",
      "facts                            module                    <module 'sympy.core.facts<...>ges/sympy/core/facts.py'>\n",
      "failing_assumptions              function                  <function failing_assumptions at 0x7f67456307b8>\n",
      "false                            BooleanFalse              False\n",
      "fancysets                        module                    <module 'sympy.sets.fancy<...>sympy/sets/fancysets.py'>\n",
      "farthest_points                  function                  <function farthest_points at 0x7f674551b8c8>\n",
      "fcode                            function                  <function fcode at 0x7f6745d82400>\n",
      "ff                               FunctionClass             FallingFactorial\n",
      "fft                              function                  <function fft at 0x7f67455be2f0>\n",
      "fibonacci                        FunctionClass             fibonacci\n",
      "field                            function                  <function field at 0x7f674574cf28>\n",
      "field_isomorphism                function                  <function field_isomorphism at 0x7f67457dc7b8>\n",
      "filldedent                       function                  <function filldedent at 0x7f6746239ea0>\n",
      "finite_diff_weights              function                  <function finite_diff_weights at 0x7f67455ba400>\n",
      "flatten                          function                  <function flatten at 0x7f6746287378>\n",
      "floor                            FunctionClass             floor\n",
      "fourier_series                   function                  <function fourier_series at 0x7f6745826bf8>\n",
      "fourier_transform                function                  <function fourier_transform at 0x7f6745624f28>\n",
      "fps                              function                  <function fps at 0x7f674583e840>\n",
      "frac                             FunctionClass             frac\n",
      "fraction                         function                  <function fraction at 0x7f674594b8c8>\n",
      "fresnelc                         FunctionClass             fresnelc\n",
      "fresnels                         FunctionClass             fresnels\n",
      "fu                               function                  <function fu at 0x7f6745911488>\n",
      "function                         module                    <module 'sympy.core.funct<...>/sympy/core/function.py'>\n",
      "functions                        module                    <module 'sympy.functions'<...>y/functions/__init__.py'>\n",
      "fwht                             function                  <function fwht at 0x7f67455be620>\n",
      "g                                UndefinedFunction         g\n",
      "gamma                            FunctionClass             gamma\n",
      "gammasimp                        function                  <function gammasimp at 0x7f67458f5158>\n",
      "gcd                              function                  <function gcd at 0x7f6745bad7b8>\n",
      "gcd_list                         function                  <function gcd_list at 0x7f6745bad730>\n",
      "gcd_terms                        function                  <function gcd_terms at 0x7f6746048730>\n",
      "gcdex                            function                  <function gcdex at 0x7f6745bad400>\n",
      "gegenbauer                       FunctionClass             gegenbauer\n",
      "generate                         module                    <module 'sympy.ntheory.ge<...>mpy/ntheory/generate.py'>\n",
      "genocchi                         FunctionClass             genocchi\n",
      "geometry                         module                    <module 'sympy.geometry' <...>py/geometry/__init__.py'>\n",
      "get_contraction_structure        function                  <function get_contraction<...>ucture at 0x7f6745878d90>\n",
      "get_indices                      function                  <function get_indices at 0x7f6745878d08>\n",
      "gff                              function                  <function gff at 0x7f6745bade18>\n",
      "gff_list                         function                  <function gff_list at 0x7f6745badd90>\n",
      "glsl_code                        function                  <function glsl_code at 0x7f6745c64158>\n",
      "gosper                           module                    <module 'sympy.concrete.g<...>ympy/concrete/gosper.py'>\n",
      "grevlex                          ReversedGradedLexOrder    grevlex\n",
      "grlex                            GradedLexOrder            grlex\n",
      "groebner                         function                  <function groebner at 0x7f6745baeb70>\n",
      "ground_roots                     function                  <function ground_roots at 0x7f6745bae950>\n",
      "group                            function                  <function group at 0x7f674623b730>\n",
      "gruntz                           function                  <function gruntz at 0x7f6745858c80>\n",
      "h                                UndefinedFunction         h\n",
      "hadamard_product                 function                  <function hadamard_product at 0x7f674573b158>\n",
      "half_gcdex                       function                  <function half_gcdex at 0x7f6745ba9ea0>\n",
      "hankel1                          FunctionClass             hankel1\n",
      "hankel2                          FunctionClass             hankel2\n",
      "hankel_transform                 function                  <function hankel_transform at 0x7f6745628f28>\n",
      "harmonic                         FunctionClass             harmonic\n",
      "has_dups                         function                  <function has_dups at 0x7f67462396a8>\n",
      "has_variety                      function                  <function has_variety at 0x7f6746239730>\n",
      "hermite                          FunctionClass             hermite\n",
      "hermite_poly                     function                  <function hermite_poly at 0x7f67459dc378>\n",
      "hessian                          function                  <function hessian at 0x7f6745758e18>\n",
      "hn1                              FunctionClass             hn1\n",
      "hn2                              FunctionClass             hn2\n",
      "homogeneous_order                function                  <function homogeneous_order at 0x7f67455b3620>\n",
      "horner                           function                  <function horner at 0x7f674596a510>\n",
      "hyper                            FunctionClass             hyper\n",
      "hyperexpand                      function                  <function hyperexpand at 0x7f6745849488>\n",
      "hypersimilar                     function                  <function hypersimilar at 0x7f67458f57b8>\n",
      "hypersimp                        function                  <function hypersimp at 0x7f67458f5730>\n",
      "idiff                            function                  <function idiff at 0x7f674551b950>\n",
      "ifft                             function                  <function ifft at 0x7f67455be378>\n",
      "ifwht                            function                  <function ifwht at 0x7f67455be6a8>\n",
      "igcd                             function                  <function igcd at 0x7f67460ecf28>\n",
      "igrevlex                         InverseOrder              igrevlex\n",
      "igrlex                           InverseOrder              igrlex\n",
      "ilcm                             function                  <function ilcm at 0x7f67460eb0d0>\n",
      "ilex                             InverseOrder              ilex\n",
      "im                               FunctionClass             im\n",
      "imageset                         function                  <function imageset at 0x7f6745cbdea0>\n",
      "immutable                        module                    <module 'sympy.matrices.i<...>y/matrices/immutable.py'>\n",
      "index_methods                    module                    <module 'sympy.tensor.ind<...>tensor/index_methods.py'>\n",
      "indexed                          module                    <module 'sympy.tensor.ind<...>sympy/tensor/indexed.py'>\n",
      "inequalities                     module                    <module 'sympy.solvers.in<...>solvers/inequalities.py'>\n",
      "inference                        module                    <module 'sympy.logic.infe<...>ympy/logic/inference.py'>\n",
      "init_printing                    function                  <function init_printing at 0x7f67455142f0>\n",
      "init_session                     function                  <function init_session at 0x7f67455147b8>\n",
      "integer_log                      function                  <function integer_log at 0x7f674603b0d0>\n",
      "integer_nthroot                  function                  <function integer_nthroot at 0x7f6746072d90>\n",
      "integrals                        module                    <module 'sympy.integrals.<...>/integrals/integrals.py'>\n",
      "integrate                        function                  <function integrate at 0x7f6745709378>\n",
      "interactive                      module                    <module 'sympy.interactiv<...>interactive/__init__.py'>\n",
      "interactive_traversal            function                  <function interactive_tra<...>versal at 0x7f674623b8c8>\n",
      "interpolate                      function                  <function interpolate at 0x7f674596a598>\n",
      "interpolating_poly               function                  <function interpolating_poly at 0x7f6745a046a8>\n",
      "interpolating_spline             function                  <function interpolating_spline at 0x7f67459ddbf8>\n",
      "intersecting_product             function                  <function intersecting_product at 0x7f67455bebf8>\n",
      "intersection                     function                  <function intersection at 0x7f674551b9d8>\n",
      "intervals                        function                  <function intervals at 0x7f6745bae6a8>\n",
      "intt                             function                  <function intt at 0x7f67455be510>\n",
      "inv_quick                        function                  <function inv_quick at 0x7f6745630ea0>\n",
      "inverse_cosine_transform         function                  <function inverse_cosine_<...>nsform at 0x7f6745628e18>\n",
      "inverse_fourier_transform        function                  <function inverse_fourier<...>nsform at 0x7f6745628488>\n",
      "inverse_hankel_transform         function                  <function inverse_hankel_<...>nsform at 0x7f6745630378>\n",
      "inverse_laplace_transform        function                  <function inverse_laplace<...>nsform at 0x7f6745624b70>\n",
      "inverse_mellin_transform         function                  <function inverse_mellin_<...>nsform at 0x7f6745624378>\n",
      "inverse_mobius_transform         function                  <function inverse_mobius_<...>nsform at 0x7f67455be840>\n",
      "inverse_sine_transform           function                  <function inverse_sine_tr<...>nsform at 0x7f6745628ae8>\n",
      "invert                           function                  <function invert at 0x7f6745bad488>\n",
      "is_decreasing                    function                  <function is_decreasing at 0x7f67455ba1e0>\n",
      "is_increasing                    function                  <function is_increasing at 0x7f67456e4b70>\n",
      "is_monotonic                     function                  <function is_monotonic at 0x7f67455ba2f0>\n",
      "is_nthpow_residue                function                  <function is_nthpow_residue at 0x7f6745eaef28>\n",
      "is_primitive_root                function                  <function is_primitive_root at 0x7f6745eaeae8>\n",
      "is_quad_residue                  function                  <function is_quad_residue at 0x7f6745eaeea0>\n",
      "is_strictly_decreasing           function                  <function is_strictly_dec<...>easing at 0x7f67455ba268>\n",
      "is_strictly_increasing           function                  <function is_strictly_inc<...>easing at 0x7f67455ba158>\n",
      "is_zero_dimensional              function                  <function is_zero_dimensional at 0x7f6745baebf8>\n",
      "isolate                          function                  <function isolate at 0x7f67457dc8c8>\n",
      "isprime                          function                  <function isprime at 0x7f6745ea1400>\n",
      "iterables                        module                    <module 'sympy.utilities.<...>/utilities/iterables.py'>\n",
      "itermonomials                    function                  <function itermonomials at 0x7f6745f23d90>\n",
      "jacobi                           FunctionClass             jacobi\n",
      "jacobi_normalized                function                  <function jacobi_normalized at 0x7f6745a37d08>\n",
      "jacobi_poly                      function                  <function jacobi_poly at 0x7f6745a45ea0>\n",
      "jacobi_symbol                    function                  <function jacobi_symbol at 0x7f6745ec5400>\n",
      "jn                               FunctionClass             jn\n",
      "jn_zeros                         function                  <function jn_zeros at 0x7f67459fa730>\n",
      "jordan_cell                      function                  <function jordan_cell at 0x7f6745758ea0>\n",
      "jscode                           function                  <function jscode at 0x7f6745c24950>\n",
      "julia_code                       function                  <function julia_code at 0x7f6745c2a598>\n",
      "k                                Symbol                    k\n",
      "kronecker_product                function                  <function kronecker_product at 0x7f674573f158>\n",
      "laguerre                         FunctionClass             laguerre\n",
      "laguerre_poly                    function                  <function laguerre_poly at 0x7f67459dc598>\n",
      "lambdify                         function                  <function lambdify at 0x7f674623ef28>\n",
      "laplace_transform                function                  <function laplace_transform at 0x7f67456248c8>\n",
      "latex                            function                  <function latex at 0x7f6745d72158>\n",
      "lcm                              function                  <function lcm at 0x7f6745bad8c8>\n",
      "lcm_list                         function                  <function lcm_list at 0x7f6745bad840>\n",
      "legendre                         FunctionClass             legendre\n",
      "legendre_poly                    function                  <function legendre_poly at 0x7f67459dc488>\n",
      "legendre_symbol                  function                  <function legendre_symbol at 0x7f6745ec5378>\n",
      "lerchphi                         FunctionClass             lerchphi\n",
      "lex                              LexOrder                  lex\n",
      "li                               FunctionClass             li\n",
      "limit                            function                  <function limit at 0x7f67458a72f0>\n",
      "limit_seq                        function                  <function limit_seq at 0x7f674583fa60>\n",
      "line                             module                    <module 'sympy.geometry.l<...>/sympy/geometry/line.py'>\n",
      "line_integrate                   function                  <function line_integrate at 0x7f6745687840>\n",
      "linear_eq_to_matrix              function                  <function linear_eq_to_matrix at 0x7f67455f5620>\n",
      "linsolve                         function                  <function linsolve at 0x7f67455f56a8>\n",
      "list2numpy                       function                  <function list2numpy at 0x7f67457580d0>\n",
      "ln                               FunctionClass             log\n",
      "log                              FunctionClass             log\n",
      "logcombine                       function                  <function logcombine at 0x7f67458f5d08>\n",
      "loggamma                         FunctionClass             loggamma\n",
      "logic                            module                    <module 'sympy.core.logic<...>ges/sympy/core/logic.py'>\n",
      "lowergamma                       FunctionClass             lowergamma\n",
      "lucas                            FunctionClass             lucas\n",
      "m                                Symbol                    m\n",
      "magic                            module                    <module 'sympy.utilities.<...>ympy/utilities/magic.py'>\n",
      "manualintegrate                  module                    <module 'sympy.integrals.<...>rals/manualintegrate.py'>\n",
      "mathematica_code                 function                  <function mathematica_code at 0x7f6745c3d840>\n",
      "mathieuc                         FunctionClass             mathieuc\n",
      "mathieucprime                    FunctionClass             mathieucprime\n",
      "mathieus                         FunctionClass             mathieus\n",
      "mathieusprime                    FunctionClass             mathieusprime\n",
      "mathml                           function                  <function mathml at 0x7f6745d72268>\n",
      "matrices                         module                    <module 'sympy.matrices.m<...>py/matrices/matrices.py'>\n",
      "matrix2numpy                     function                  <function matrix2numpy at 0x7f6745758950>\n",
      "matrix_multiply_elementwise      function                  <function matrix_multiply<...>ntwise at 0x7f6745758f28>\n",
      "matrix_symbols                   function                  <function matrix_symbols at 0x7f674576aa60>\n",
      "meijerg                          FunctionClass             meijerg\n",
      "meijerint                        module                    <module 'sympy.integrals.<...>/integrals/meijerint.py'>\n",
      "mellin_transform                 function                  <function mellin_transform at 0x7f6745624048>\n",
      "memoization                      module                    <module 'sympy.utilities.<...>tilities/memoization.py'>\n",
      "memoize_property                 function                  <function memoize_property at 0x7f674623ee18>\n",
      "minimal_polynomial               function                  <function minimal_polynomial at 0x7f67457dc400>\n",
      "minpoly                          function                  <function minimal_polynomial at 0x7f67457dc400>\n",
      "misc                             module                    <module 'sympy.utilities.<...>sympy/utilities/misc.py'>\n",
      "mobius                           FunctionClass             mobius\n",
      "mobius_transform                 function                  <function mobius_transform at 0x7f67455be7b8>\n",
      "mod                              module                    <module 'sympy.core.mod' <...>kages/sympy/core/mod.py'>\n",
      "mod_inverse                      function                  <function mod_inverse at 0x7f67460eb1e0>\n",
      "monic                            function                  <function monic at 0x7f6745bada60>\n",
      "mul                              module                    <module 'sympy.core.mul' <...>kages/sympy/core/mul.py'>\n",
      "multidimensional                 module                    <module 'sympy.core.multi<...>ore/multidimensional.py'>\n",
      "multinomial                      module                    <module 'sympy.ntheory.mu<...>/ntheory/multinomial.py'>\n",
      "multinomial_coefficients         function                  <function multinomial_coe<...>cients at 0x7f6745ec5ae8>\n",
      "multipledispatch                 module                    <module 'sympy.multipledi<...>pledispatch/__init__.py'>\n",
      "multiplicity                     function                  <function multiplicity at 0x7f6745ea2488>\n",
      "n                                Symbol                    n\n",
      "n_order                          function                  <function n_order at 0x7f6745eae400>\n",
      "nan                              NaN                       nan\n",
      "nextprime                        function                  <function nextprime at 0x7f6745ea1c80>\n",
      "nfloat                           function                  <function nfloat at 0x7f6746072d08>\n",
      "nonlinsolve                      function                  <function nonlinsolve at 0x7f67455f5a60>\n",
      "not_empty_in                     function                  <function not_empty_in at 0x7f67455df2f0>\n",
      "npartitions                      function                  <function npartitions at 0x7f6745ec58c8>\n",
      "nroots                           function                  <function nroots at 0x7f6745bae8c8>\n",
      "nsimplify                        function                  <function nsimplify at 0x7f67458fb0d0>\n",
      "nsolve                           function                  <function nsolve at 0x7f67456321e0>\n",
      "nth_power_roots_poly             function                  <function nth_power_roots_poly at 0x7f6745bae9d8>\n",
      "ntheory                          module                    <module 'sympy.ntheory' f<...>mpy/ntheory/__init__.py'>\n",
      "nthroot_mod                      function                  <function nthroot_mod at 0x7f6745ec5268>\n",
      "ntt                              function                  <function ntt at 0x7f67455be488>\n",
      "numbered_symbols                 function                  <function numbered_symbols at 0x7f674623bb70>\n",
      "numbers                          module                    <module 'sympy.core.numbe<...>s/sympy/core/numbers.py'>\n",
      "numer                            function                  <function numer at 0x7f674594b950>\n",
      "octave_code                      function                  <function octave_code at 0x7f6745c3dea0>\n",
      "ode                              module                    <module 'sympy.solvers.od<...>es/sympy/solvers/ode.py'>\n",
      "ode_order                        function                  <function ode_order at 0x7f67455fce18>\n",
      "ones                             function                  <function ones at 0x7f6745759048>\n",
      "oo                               Infinity                  oo\n",
      "operations                       module                    <module 'sympy.core.opera<...>ympy/core/operations.py'>\n",
      "ord0                             OrdinalZero               ord0\n",
      "ordered                          function                  <function ordered at 0x7f6746518510>\n",
      "ordinals                         module                    <module 'sympy.sets.ordin<...>/sympy/sets/ordinals.py'>\n",
      "pager_print                      function                  <function pager_print at 0x7f6745db2378>\n",
      "parabola                         module                    <module 'sympy.geometry.p<...>py/geometry/parabola.py'>\n",
      "parallel_poly_from_expr          function                  <function parallel_poly_f<...>m_expr at 0x7f6745ba99d8>\n",
      "parsing                          module                    <module 'sympy.parsing' f<...>mpy/parsing/__init__.py'>\n",
      "partition                        FunctionClass             partition\n",
      "partitions_                      module                    <module 'sympy.ntheory.pa<...>/ntheory/partitions_.py'>\n",
      "pde                              module                    <module 'sympy.solvers.pd<...>es/sympy/solvers/pde.py'>\n",
      "pde_separate                     function                  <function pde_separate at 0x7f67455b6400>\n",
      "pde_separate_add                 function                  <function pde_separate_add at 0x7f67455b6488>\n",
      "pde_separate_mul                 function                  <function pde_separate_mul at 0x7f67455b6510>\n",
      "pdiv                             function                  <function pdiv at 0x7f6745ba9f28>\n",
      "pdsolve                          function                  <function pdsolve at 0x7f67455fcc80>\n",
      "perfect_power                    function                  <function perfect_power at 0x7f6745ea2510>\n",
      "periodic_argument                FunctionClass             periodic_argument\n",
      "periodicity                      function                  <function periodicity at 0x7f67455df378>\n",
      "permutedims                      function                  <function permutedims at 0x7f6745818ae8>\n",
      "pexquo                           function                  <function pexquo at 0x7f6745bad158>\n",
      "pi                               Pi                        pi\n",
      "piecewise_fold                   function                  <function piecewise_fold at 0x7f6745b168c8>\n",
      "plane                            module                    <module 'sympy.geometry.p<...>sympy/geometry/plane.py'>\n",
      "plot                             function                  <function plot at 0x7f67455007b8>\n",
      "plot_backends                    dict                      n=3\n",
      "plot_implicit                    function                  <function plot_implicit at 0x7f674550fe18>\n",
      "plotting                         module                    <module 'sympy.plotting' <...>py/plotting/__init__.py'>\n",
      "point                            module                    <module 'sympy.geometry.p<...>sympy/geometry/point.py'>\n",
      "polar_lift                       FunctionClass             polar_lift\n",
      "polarify                         function                  <function polarify at 0x7f6745abdae8>\n",
      "pollard_pm1                      function                  <function pollard_pm1 at 0x7f6745ea2620>\n",
      "pollard_rho                      function                  <function pollard_rho at 0x7f6745ea2598>\n",
      "poly                             function                  <function poly at 0x7f6745baec80>\n",
      "poly_from_expr                   function                  <function poly_from_expr at 0x7f674600e048>\n",
      "polygamma                        FunctionClass             polygamma\n",
      "polygon                          module                    <module 'sympy.geometry.p<...>mpy/geometry/polygon.py'>\n",
      "polylog                          FunctionClass             polylog\n",
      "polys                            module                    <module 'sympy.polys' fro<...>sympy/polys/__init__.py'>\n",
      "polysys                          module                    <module 'sympy.solvers.po<...>ympy/solvers/polysys.py'>\n",
      "posify                           function                  <function posify at 0x7f67458f56a8>\n",
      "postfixes                        function                  <function postfixes at 0x7f6746239048>\n",
      "postorder_traversal              function                  <function postorder_traversal at 0x7f674623b840>\n",
      "powdenest                        function                  <function powdenest at 0x7f67458efd90>\n",
      "power                            module                    <module 'sympy.core.power<...>ges/sympy/core/power.py'>\n",
      "powsimp                          function                  <function powsimp at 0x7f67458efc80>\n",
      "pprint                           function                  <function pretty_print at 0x7f6745db22f0>\n",
      "pprint_try_use_unicode           function                  <function pretty_try_use_<...>nicode at 0x7f6745e07b70>\n",
      "pprint_use_unicode               function                  <function pretty_use_unicode at 0x7f6745e07ae8>\n",
      "pquo                             function                  <function pquo at 0x7f6745bad0d0>\n",
      "prefixes                         function                  <function prefixes at 0x7f674623bf28>\n",
      "prem                             function                  <function prem at 0x7f6745bad048>\n",
      "preorder_traversal               type                      <class 'sympy.core.basic.preorder_traversal'>\n",
      "pretty                           function                  <function pretty at 0x7f6745e286a8>\n",
      "pretty_print                     function                  <function pretty_print at 0x7f6745db22f0>\n",
      "preview                          function                  <function preview at 0x7f6745bd8400>\n",
      "prevprime                        function                  <function prevprime at 0x7f6745ea1d08>\n",
      "prime                            function                  <function prime at 0x7f6745ea1598>\n",
      "primefactors                     function                  <function primefactors at 0x7f6745ea2950>\n",
      "primenu                          FunctionClass             primenu\n",
      "primeomega                       FunctionClass             primeomega\n",
      "primepi                          function                  <function primepi at 0x7f6745ea1bf8>\n",
      "primerange                       function                  <function primerange at 0x7f6745ea1d90>\n",
      "primetest                        module                    <module 'sympy.ntheory.pr<...>py/ntheory/primetest.py'>\n",
      "primitive                        function                  <function primitive at 0x7f6745badb70>\n",
      "primitive_element                function                  <function primitive_element at 0x7f67457dc598>\n",
      "primitive_root                   function                  <function primitive_root at 0x7f6745eaea60>\n",
      "primorial                        function                  <function primorial at 0x7f6745ea1ea0>\n",
      "principal_branch                 FunctionClass             principal_branch\n",
      "print_ccode                      function                  <function print_ccode at 0x7f6745c640d0>\n",
      "print_fcode                      function                  <function print_fcode at 0x7f6745c1f840>\n",
      "print_glsl                       function                  <function print_glsl at 0x7f6745c64e18>\n",
      "print_gtk                        function                  <function print_gtk at 0x7f6745bd82f0>\n",
      "print_jscode                     function                  <function print_jscode at 0x7f6745c2a510>\n",
      "print_latex                      function                  <function print_latex at 0x7f6745d721e0>\n",
      "print_mathml                     function                  <function print_mathml at 0x7f6745d82378>\n",
      "print_python                     function                  <function print_python at 0x7f6745d8dd90>\n",
      "print_rcode                      function                  <function print_rcode at 0x7f6745c248c8>\n",
      "print_tree                       function                  <function print_tree at 0x7f6745bd8620>\n",
      "printing                         module                    <module 'sympy.printing' <...>py/printing/__init__.py'>\n",
      "prod                             function                  <function prod at 0x7f6746191d90>\n",
      "product                          function                  <function product at 0x7f674574e268>\n",
      "products                         module                    <module 'sympy.concrete.p<...>py/concrete/products.py'>\n",
      "public                           function                  <function public at 0x7f674623ed90>\n",
      "pycode                           function                  <function pycode at 0x7f6745d4f730>\n",
      "python                           function                  <function python at 0x7f6745d82488>\n",
      "quadratic_residues               function                  <function quadratic_residues at 0x7f6745ec52f0>\n",
      "quo                              function                  <function quo at 0x7f6745bad2f0>\n",
      "rad                              function                  <function rad at 0x7f67455321e0>\n",
      "radsimp                          function                  <function radsimp at 0x7f674594b7b8>\n",
      "randMatrix                       function                  <function randMatrix at 0x7f67457590d0>\n",
      "random_poly                      function                  <function random_poly at 0x7f6745baf9d8>\n",
      "randprime                        function                  <function randprime at 0x7f6745ea1e18>\n",
      "rational_interpolate             function                  <function rational_interpolate at 0x7f674596a620>\n",
      "ratsimp                          function                  <function ratsimp at 0x7f6745858d08>\n",
      "ratsimpmodprime                  function                  <function ratsimpmodprime at 0x7f6745858d90>\n",
      "rcode                            function                  <function rcode at 0x7f6745c1f8c8>\n",
      "rcollect                         function                  <function rcollect at 0x7f674594b620>\n",
      "re                               FunctionClass             re\n",
      "real_root                        function                  <function real_root at 0x7f6745b93e18>\n",
      "real_roots                       function                  <function real_roots at 0x7f6745bae840>\n",
      "recurr                           module                    <module 'sympy.solvers.re<...>sympy/solvers/recurr.py'>\n",
      "reduce_abs_inequalities          function                  <function reduce_abs_ineq<...>lities at 0x7f674561c9d8>\n",
      "reduce_abs_inequality            function                  <function reduce_abs_ineq<...>uality at 0x7f674561c950>\n",
      "reduce_inequalities              function                  <function reduce_inequalities at 0x7f674561cc80>\n",
      "reduced                          function                  <function reduced at 0x7f6745baeae8>\n",
      "reduced_totient                  FunctionClass             reduced_totient\n",
      "refine                           function                  <function refine at 0x7f6745fe40d0>\n",
      "refine_root                      function                  <function refine_root at 0x7f6745bae730>\n",
      "register_handler                 function                  <function register_handler at 0x7f6745ff88c8>\n",
      "relational                       module                    <module 'sympy.core.relat<...>ympy/core/relational.py'>\n",
      "release                          module                    <module 'sympy.release' f<...>ckages/sympy/release.py'>\n",
      "rem                              function                  <function rem at 0x7f6745bad268>\n",
      "remove_handler                   function                  <function remove_handler at 0x7f6745ff8950>\n",
      "reshape                          function                  <function reshape at 0x7f674623b6a8>\n",
      "residue                          function                  <function residue at 0x7f6745859268>\n",
      "residue_ntheory                  module                    <module 'sympy.ntheory.re<...>eory/residue_ntheory.py'>\n",
      "resultant                        function                  <function resultant at 0x7f6745bad598>\n",
      "rf                               FunctionClass             RisingFactorial\n",
      "ring                             function                  <function ring at 0x7f6745a04ae8>\n",
      "root                             function                  <function root at 0x7f6745b93d90>\n",
      "rootof                           function                  <function rootof at 0x7f6745849e18>\n",
      "roots                            function                  <function roots at 0x7f6745849a60>\n",
      "rot_axis1                        function                  <function rot_axis1 at 0x7f6745758ae8>\n",
      "rot_axis2                        function                  <function rot_axis2 at 0x7f6745758a60>\n",
      "rot_axis3                        function                  <function rot_axis3 at 0x7f67457589d8>\n",
      "rsolve                           function                  <function rsolve at 0x7f67455f7ea0>\n",
      "rsolve_hyper                     function                  <function rsolve_hyper at 0x7f67455f7e18>\n",
      "rsolve_poly                      function                  <function rsolve_poly at 0x7f67455f7c80>\n",
      "rsolve_ratio                     function                  <function rsolve_ratio at 0x7f67455f7d90>\n",
      "rules                            module                    <module 'sympy.core.rules<...>ges/sympy/core/rules.py'>\n",
      "runtests                         module                    <module 'sympy.utilities.<...>y/utilities/runtests.py'>\n",
      "rust_code                        function                  <function rust_code at 0x7f6745c4c0d0>\n",
      "satisfiable                      function                  <function satisfiable at 0x7f674602ed90>\n",
      "sec                              FunctionClass             sec\n",
      "sech                             FunctionClass             sech\n",
      "separatevars                     function                  <function separatevars at 0x7f6745988730>\n",
      "sequence                         function                  <function sequence at 0x7f67458591e0>\n",
      "series                           function                  <function series at 0x7f6745858ea0>\n",
      "seterr                           function                  <function seterr at 0x7f67460ecd08>\n",
      "sets                             module                    <module 'sympy.sets.sets'<...>ages/sympy/sets/sets.py'>\n",
      "sfield                           function                  <function sfield at 0x7f674574e1e0>\n",
      "sieve                            Sieve                     <prime sieve (6): 2, 3, 5<...>(6): 0, 1, -1, ... 0, -1>\n",
      "sift                             function                  <function sift at 0x7f674623bc80>\n",
      "sign                             FunctionClass             sign\n",
      "signsimp                         function                  <function signsimp at 0x7f67458f5840>\n",
      "simplify                         function                  <function simplify at 0x7f67458f58c8>\n",
      "simplify_logic                   function                  <function simplify_logic at 0x7f674602eae8>\n",
      "sin                              FunctionClass             sin\n",
      "sinc                             FunctionClass             sinc\n",
      "sine_transform                   function                  <function sine_transform at 0x7f6745628620>\n",
      "singleton                        module                    <module 'sympy.core.singl<...>sympy/core/singleton.py'>\n",
      "singularities                    function                  <function singularities at 0x7f67456e4840>\n",
      "singularityfunctions             module                    <module 'sympy.integrals.<...>singularityfunctions.py'>\n",
      "singularityintegrate             function                  <function singularityintegrate at 0x7f6745630488>\n",
      "sinh                             FunctionClass             sinh\n",
      "solve                            function                  <function solve at 0x7f67456308c8>\n",
      "solve_linear                     function                  <function solve_linear at 0x7f6745630a60>\n",
      "solve_linear_system              function                  <function solve_linear_system at 0x7f6745630b70>\n",
      "solve_linear_system_LU           function                  <function solve_linear_sy<...>tem_LU at 0x7f6745630c80>\n",
      "solve_poly_inequality            function                  <function solve_poly_ineq<...>uality at 0x7f674561c6a8>\n",
      "solve_poly_system                function                  <function solve_poly_system at 0x7f67457092f0>\n",
      "solve_rational_inequalities      function                  <function solve_rational_<...>lities at 0x7f674561c840>\n",
      "solve_triangulated               function                  <function solve_triangulated at 0x7f6745630510>\n",
      "solve_undetermined_coeffs        function                  <function solve_undetermi<...>coeffs at 0x7f6745630bf8>\n",
      "solve_univariate_inequality      function                  <function solve_univariat<...>uality at 0x7f674561ca60>\n",
      "solvers                          module                    <module 'sympy.solvers.so<...>ympy/solvers/solvers.py'>\n",
      "solveset                         function                  <function solveset at 0x7f67455f5400>\n",
      "source                           function                  <function source at 0x7f67461d59d8>\n",
      "sparse                           module                    <module 'sympy.matrices.s<...>ympy/matrices/sparse.py'>\n",
      "special                          module                    <module 'sympy.functions.<...>ons/special/__init__.py'>\n",
      "sqf                              function                  <function sqf at 0x7f6745bae510>\n",
      "sqf_list                         function                  <function sqf_list at 0x7f6745bae488>\n",
      "sqf_norm                         function                  <function sqf_norm at 0x7f6745badea0>\n",
      "sqf_part                         function                  <function sqf_part at 0x7f6745badf28>\n",
      "sqrt                             function                  <function sqrt at 0x7f6745b58bf8>\n",
      "sqrt_mod                         function                  <function sqrt_mod at 0x7f6745eaebf8>\n",
      "sqrt_mod_iter                    function                  <function sqrt_mod_iter at 0x7f6745eaed08>\n",
      "sqrtdenest                       function                  <function sqrtdenest at 0x7f674594b0d0>\n",
      "srepr                            function                  <function srepr at 0x7f6745d82598>\n",
      "sring                            function                  <function sring at 0x7f6745963048>\n",
      "sstr                             function                  <function sstr at 0x7f6745dd7a60>\n",
      "sstrrepr                         function                  <function sstrrepr at 0x7f6745e07378>\n",
      "stieltjes                        FunctionClass             stieltjes\n",
      "strategies                       module                    <module 'sympy.strategies<...>/strategies/__init__.py'>\n",
      "sturm                            function                  <function sturm at 0x7f6745badd08>\n",
      "subfactorial                     FunctionClass             subfactorial\n",
      "subresultants                    function                  <function subresultants at 0x7f6745bad510>\n",
      "subsets                          function                  <function subsets at 0x7f674623ba60>\n",
      "substitution                     function                  <function substitution at 0x7f67455f57b8>\n",
      "summation                        function                  <function summation at 0x7f67456e4400>\n",
      "summations                       module                    <module 'sympy.concrete.s<...>/concrete/summations.py'>\n",
      "swinnerton_dyer_poly             function                  <function swinnerton_dyer_poly at 0x7f6745baf7b8>\n",
      "symarray                         function                  <function symarray at 0x7f6745758bf8>\n",
      "symbol                           module                    <module 'sympy.core.symbo<...>es/sympy/core/symbol.py'>\n",
      "symbols                          function                  <function symbols at 0x7f674601c1e0>\n",
      "symmetric_poly                   function                  <function symmetric_poly at 0x7f6745baf950>\n",
      "symmetrize                       function                  <function symmetrize at 0x7f6745baf730>\n",
      "sympify                          function                  <function sympify at 0x7f6746295400>\n",
      "t                                Symbol                    t\n",
      "take                             function                  <function take at 0x7f674623bd08>\n",
      "tan                              FunctionClass             tan\n",
      "tanh                             FunctionClass             tanh\n",
      "tensor                           module                    <module 'sympy.tensor' fr<...>ympy/tensor/__init__.py'>\n",
      "tensorcontraction                function                  <function tensorcontraction at 0x7f67458189d8>\n",
      "tensorproduct                    function                  <function tensorproduct at 0x7f6745818950>\n",
      "terms_gcd                        function                  <function terms_gcd at 0x7f6745bad950>\n",
      "test                             function                  <function test at 0x7f6746161950>\n",
      "textplot                         function                  <function textplot at 0x7f67454dbf28>\n",
      "threaded                         function                  <function threaded at 0x7f674623e840>\n",
      "timed                            function                  <function timed at 0x7f6746162048>\n",
      "timeutils                        module                    <module 'sympy.utilities.<...>/utilities/timeutils.py'>\n",
      "to_cnf                           function                  <function to_cnf at 0x7f6746025f28>\n",
      "to_dnf                           function                  <function to_dnf at 0x7f674602e048>\n",
      "to_nnf                           function                  <function to_nnf at 0x7f6746025ea0>\n",
      "to_number_field                  function                  <function to_number_field at 0x7f67457dc840>\n",
      "together                         function                  <function together at 0x7f674600eb70>\n",
      "topological_sort                 function                  <function topological_sort at 0x7f67462390d0>\n",
      "total_degree                     function                  <function total_degree at 0x7f6745ba9bf8>\n",
      "totient                          FunctionClass             totient\n",
      "trace                            function                  <function trace at 0x7f67457762f0>\n",
      "trailing                         function                  <function trailing at 0x7f6745ea2400>\n",
      "transforms                       module                    <module 'sympy.integrals.<...>integrals/transforms.py'>\n",
      "transpose                        FunctionClass             transpose\n",
      "traversaltools                   module                    <module 'sympy.simplify.t<...>plify/traversaltools.py'>\n",
      "tribonacci                       FunctionClass             tribonacci\n",
      "trigamma                         function                  <function trigamma at 0x7f6745a37378>\n",
      "trigonometry                     module                    <module 'sympy.integrals.<...>tegrals/trigonometry.py'>\n",
      "trigsimp                         function                  <function trigsimp at 0x7f67458ef048>\n",
      "true                             BooleanTrue               True\n",
      "trunc                            function                  <function trunc at 0x7f6745bad9d8>\n",
      "unbranched_argument              function                  <function unbranched_argument at 0x7f6745b270d0>\n",
      "unflatten                        function                  <function unflatten at 0x7f674623b620>\n",
      "unpolarify                       function                  <function unpolarify at 0x7f6745abdb70>\n",
      "uppergamma                       FunctionClass             uppergamma\n",
      "use                              function                  <function use at 0x7f674589a730>\n",
      "util                             module                    <module 'sympy.geometry.u<...>/sympy/geometry/util.py'>\n",
      "utilities                        module                    <module 'sympy.utilities'<...>y/utilities/__init__.py'>\n",
      "var                              function                  <function var at 0x7f674607df28>\n",
      "variations                       function                  <function variations at 0x7f674623b9d8>\n",
      "vectorize                        type                      <class 'sympy.core.multidimensional.vectorize'>\n",
      "vfield                           function                  <function vfield at 0x7f674574e158>\n",
      "viete                            function                  <function viete at 0x7f674596a6a8>\n",
      "vring                            function                  <function vring at 0x7f6745962f28>\n",
      "wronskian                        function                  <function wronskian at 0x7f6745759158>\n",
      "x                                Symbol                    x\n",
      "xfield                           function                  <function xfield at 0x7f674574e0d0>\n",
      "xring                            function                  <function xring at 0x7f6745962ea0>\n",
      "xthreaded                        function                  <function xthreaded at 0x7f674623eae8>\n",
      "y                                Symbol                    y\n",
      "yn                               FunctionClass             yn\n",
      "z                                Symbol                    z\n",
      "zeros                            function                  <function zeros at 0x7f67457591e0>\n",
      "zeta                             FunctionClass             zeta\n",
      "zoo                              ComplexInfinity           zoo\n"
     ]
    }
   ],
   "source": [
    "#look what sympy.init_session() does...\n",
    "%whos"
   ]
  },
  {
   "cell_type": "code",
   "execution_count": 31,
   "metadata": {},
   "outputs": [
    {
     "data": {
      "image/png": "[encoded data removed]",
      "text/latex": [
       "$$x^{2} + y^{2}$$"
      ],
      "text/plain": [
       " 2    2\n",
       "x  + y "
      ]
     },
     "execution_count": 31,
     "metadata": {},
     "output_type": "execute_result"
    }
   ],
   "source": [
    "# a note on expressions. you can enter an expression as a string, provided you pass it to sympy.sympify()\n",
    "expr = sympify('x**2 + y**2')\n",
    "expr"
   ]
  },
  {
   "cell_type": "markdown",
   "metadata": {},
   "source": [
    "## algebra"
   ]
  },
  {
   "cell_type": "code",
   "execution_count": 3,
   "metadata": {},
   "outputs": [
    {
     "data": {
      "image/png": "[encoded data removed]",
      "text/latex": [
       "$$\\frac{d}{d x} f{\\left (x \\right )}$$"
      ],
      "text/plain": [
       "d       \n",
       "──(f(x))\n",
       "dx      "
      ]
     },
     "execution_count": 3,
     "metadata": {},
     "output_type": "execute_result"
    }
   ],
   "source": [
    "f(x)\n",
    "f(x).diff(x)"
   ]
  },
  {
   "cell_type": "code",
   "execution_count": 7,
   "metadata": {},
   "outputs": [
    {
     "data": {
      "image/png": "[encoded data removed]",
      "text/latex": [
       "$$x^{2} - y^{2}$$"
      ],
      "text/plain": [
       " 2    2\n",
       "x  - y "
      ]
     },
     "execution_count": 7,
     "metadata": {},
     "output_type": "execute_result"
    }
   ],
   "source": [
    "# let's start factoring and expanding algebraic expressions\n",
    "expr = x**2 - y**2\n",
    "expr"
   ]
  },
  {
   "cell_type": "code",
   "execution_count": 8,
   "metadata": {},
   "outputs": [
    {
     "data": {
      "image/png": "[encoded data removed]",
      "text/latex": [
       "$$\\left(x - y\\right) \\left(x + y\\right)$$"
      ],
      "text/plain": [
       "(x - y)⋅(x + y)"
      ]
     },
     "execution_count": 8,
     "metadata": {},
     "output_type": "execute_result"
    }
   ],
   "source": [
    "factor(expr)"
   ]
  },
  {
   "cell_type": "code",
   "execution_count": 9,
   "metadata": {},
   "outputs": [
    {
     "name": "stdout",
     "output_type": "stream",
     "text": [
      "       3\n",
      "(x + y) \n"
     ]
    },
    {
     "data": {
      "image/png": "[encoded data removed]",
      "text/latex": [
       "$$x^{3} + 3 x^{2} y + 3 x y^{2} + y^{3}$$"
      ],
      "text/plain": [
       " 3      2          2    3\n",
       "x  + 3⋅x ⋅y + 3⋅x⋅y  + y "
      ]
     },
     "execution_count": 9,
     "metadata": {},
     "output_type": "execute_result"
    }
   ],
   "source": [
    "expr = x**3 + 3*x**2*y + 3*x*y**2 + y**3\n",
    "factors = factor(expr)\n",
    "pprint(factors) # show the factors of the expression\n",
    "expand(factors) # now expand the factors expression"
   ]
  },
  {
   "cell_type": "code",
   "execution_count": 10,
   "metadata": {},
   "outputs": [
    {
     "data": {
      "image/png": "[encoded data removed]",
      "text/latex": [
       "$$27$$"
      ],
      "text/plain": [
       "27"
      ]
     },
     "execution_count": 10,
     "metadata": {},
     "output_type": "execute_result"
    }
   ],
   "source": [
    "# we can substitute values into a sympy expression\n",
    "expr.subs({x:1, y:2})"
   ]
  },
  {
   "cell_type": "code",
   "execution_count": 11,
   "metadata": {},
   "outputs": [
    {
     "data": {
      "image/png": "[encoded data removed]",
      "text/latex": [
       "$$y^{3} + 3 y^{2} + 3 y + 1$$"
      ],
      "text/plain": [
       " 3      2          \n",
       "y  + 3⋅y  + 3⋅y + 1"
      ]
     },
     "execution_count": 11,
     "metadata": {},
     "output_type": "execute_result"
    }
   ],
   "source": [
    "# we can substitute values for just some of the variables in the expression\n",
    "expr.subs({x:1})"
   ]
  },
  {
   "cell_type": "code",
   "execution_count": 16,
   "metadata": {},
   "outputs": [
    {
     "data": {
      "image/png": "[encoded data removed]",
      "text/latex": [
       "$$1$$"
      ],
      "text/plain": [
       "1"
      ]
     },
     "execution_count": 16,
     "metadata": {},
     "output_type": "execute_result"
    }
   ],
   "source": [
    "# we can substitute expressions for variables in the expression, and solve\n",
    "expr = x*x + x*y + x*y + y*y\n",
    "simplify(expr.subs({x:1-y}))"
   ]
  },
  {
   "cell_type": "code",
   "execution_count": 20,
   "metadata": {},
   "outputs": [
    {
     "data": {
      "image/png": "[encoded data removed]",
      "text/latex": [
       "$$\\left [ 7 y + 5\\right ]$$"
      ],
      "text/plain": [
       "[7⋅y + 5]"
      ]
     },
     "execution_count": 20,
     "metadata": {},
     "output_type": "execute_result"
    }
   ],
   "source": [
    "# sympy has several solvers for finding solutions to equations.\n",
    "expr = x - 5 - 7*y\n",
    "solve(expr, x)"
   ]
  },
  {
   "cell_type": "code",
   "execution_count": 24,
   "metadata": {},
   "outputs": [
    {
     "data": {
      "image/png": "[encoded data removed]",
      "text/latex": [
       "$$\\left [ \\frac{- b + \\sqrt{- 4 a c + b^{2}}}{2 a}, \\quad - \\frac{b + \\sqrt{- 4 a c + b^{2}}}{2 a}\\right ]$$"
      ],
      "text/plain": [
       "⎡        _____________   ⎛       _____________⎞ ⎤\n",
       "⎢       ╱           2    ⎜      ╱           2 ⎟ ⎥\n",
       "⎢-b + ╲╱  -4⋅a⋅c + b    -⎝b + ╲╱  -4⋅a⋅c + b  ⎠ ⎥\n",
       "⎢─────────────────────, ────────────────────────⎥\n",
       "⎣         2⋅a                     2⋅a           ⎦"
      ]
     },
     "execution_count": 24,
     "metadata": {},
     "output_type": "execute_result"
    }
   ],
   "source": [
    "a, b, c = symbols('a b c')\n",
    "expr = a * x**2 + b * x + c\n",
    "ans = solve(expr, x)\n",
    "ans"
   ]
  },
  {
   "cell_type": "code",
   "execution_count": 28,
   "metadata": {},
   "outputs": [
    {
     "data": {
      "text/plain": [
       "list"
      ]
     },
     "execution_count": 28,
     "metadata": {},
     "output_type": "execute_result"
    }
   ],
   "source": [
    "type(ans)"
   ]
  },
  {
   "cell_type": "markdown",
   "metadata": {},
   "source": [
    "## linear algebra"
   ]
  },
  {
   "cell_type": "code",
   "execution_count": 16,
   "metadata": {},
   "outputs": [
    {
     "data": {
      "image/png": "[encoded data removed]",
      "text/latex": [
       "$$\\left[\\begin{matrix}x & y\\\\z & t\\end{matrix}\\right]$$"
      ],
      "text/plain": [
       "⎡x  y⎤\n",
       "⎢    ⎥\n",
       "⎣z  t⎦"
      ]
     },
     "metadata": {},
     "output_type": "display_data"
    }
   ],
   "source": [
    "M = Matrix([[x, y], [z, t]])\n",
    "display(M)"
   ]
  },
  {
   "cell_type": "code",
   "execution_count": 20,
   "metadata": {},
   "outputs": [],
   "source": [
    "a, b = symbols('a b')\n",
    "colV = Matrix([a, b])"
   ]
  },
  {
   "cell_type": "code",
   "execution_count": 21,
   "metadata": {},
   "outputs": [
    {
     "data": {
      "image/png": "[encoded data removed]",
      "text/latex": [
       "$$\\left[\\begin{matrix}a x + b y\\\\a z + b t\\end{matrix}\\right]$$"
      ],
      "text/plain": [
       "⎡a⋅x + b⋅y⎤\n",
       "⎢         ⎥\n",
       "⎣a⋅z + b⋅t⎦"
      ]
     },
     "execution_count": 21,
     "metadata": {},
     "output_type": "execute_result"
    }
   ],
   "source": [
    "M * colV"
   ]
  },
  {
   "cell_type": "code",
   "execution_count": 22,
   "metadata": {},
   "outputs": [
    {
     "data": {
      "image/png": "[encoded data removed]",
      "text/latex": [
       "$$t x - y z$$"
      ],
      "text/plain": [
       "t⋅x - y⋅z"
      ]
     },
     "execution_count": 22,
     "metadata": {},
     "output_type": "execute_result"
    }
   ],
   "source": [
    "M.det()"
   ]
  },
  {
   "cell_type": "code",
   "execution_count": 12,
   "metadata": {},
   "outputs": [
    {
     "data": {
      "image/png": "[encoded data removed]",
      "text/latex": [
       "$$\\left[\\begin{matrix}1 & 2 & 3\\\\4 & 5 & 6\\end{matrix}\\right]$$"
      ],
      "text/plain": [
       "⎡1  2  3⎤\n",
       "⎢       ⎥\n",
       "⎣4  5  6⎦"
      ]
     },
     "execution_count": 12,
     "metadata": {},
     "output_type": "execute_result"
    }
   ],
   "source": [
    "Matrix(2, 3, [1, 2, 3, 4, 5, 6])"
   ]
  },
  {
   "cell_type": "code",
   "execution_count": 15,
   "metadata": {},
   "outputs": [
    {
     "data": {
      "image/png": "[encoded data removed]",
      "text/latex": [
       "$$\\left[\\begin{matrix}2 & 3 & 5\\\\3 & 6 & 2\\\\8 & 3 & 6\\end{matrix}\\right]$$"
      ],
      "text/plain": [
       "⎡2  3  5⎤\n",
       "⎢       ⎥\n",
       "⎢3  6  2⎥\n",
       "⎢       ⎥\n",
       "⎣8  3  6⎦"
      ]
     },
     "metadata": {},
     "output_type": "display_data"
    },
    {
     "data": {
      "image/png": "[encoded data removed]",
      "text/latex": [
       "$$\\left[\\begin{matrix}3\\\\7\\\\5\\end{matrix}\\right]$$"
      ],
      "text/plain": [
       "⎡3⎤\n",
       "⎢ ⎥\n",
       "⎢7⎥\n",
       "⎢ ⎥\n",
       "⎣5⎦"
      ]
     },
     "metadata": {},
     "output_type": "display_data"
    },
    {
     "data": {
      "image/png": "[encoded data removed]",
      "text/latex": [
       "$$\\left[\\begin{matrix}52\\\\61\\\\75\\end{matrix}\\right]$$"
      ],
      "text/plain": [
       "⎡52⎤\n",
       "⎢  ⎥\n",
       "⎢61⎥\n",
       "⎢  ⎥\n",
       "⎣75⎦"
      ]
     },
     "metadata": {},
     "output_type": "display_data"
    },
    {
     "data": {
      "image/png": "[encoded data removed]",
      "text/latex": [
       "$$\\left[\\begin{matrix}3\\\\7\\\\5\\end{matrix}\\right]$$"
      ],
      "text/plain": [
       "⎡3⎤\n",
       "⎢ ⎥\n",
       "⎢7⎥\n",
       "⎢ ⎥\n",
       "⎣5⎦"
      ]
     },
     "execution_count": 15,
     "metadata": {},
     "output_type": "execute_result"
    }
   ],
   "source": [
    "A = Matrix([ [2, 3, 5], [3, 6, 2], [8, 3, 6] ])\n",
    "display(A)\n",
    "x = Matrix(3,1,[3,7,5])\n",
    "display(x)\n",
    "b = A*x\n",
    "display(b)\n",
    "soln = A.LUsolve(b)\n",
    "soln"
   ]
  },
  {
   "cell_type": "markdown",
   "metadata": {},
   "source": [
    "# calculus"
   ]
  },
  {
   "cell_type": "code",
   "execution_count": 47,
   "metadata": {},
   "outputs": [
    {
     "data": {
      "image/png": "[encoded data removed]",
      "text/latex": [
       "$$\\lim_{x \\to 0^+}\\left(\\frac{\\sin{\\left (x \\right )}}{x}\\right)$$"
      ],
      "text/plain": [
       "     ⎛sin(x)⎞\n",
       " lim ⎜──────⎟\n",
       "x─→0⁺⎝  x   ⎠"
      ]
     },
     "execution_count": 47,
     "metadata": {},
     "output_type": "execute_result"
    }
   ],
   "source": [
    "Limit(sin(x)/x, x, 0)"
   ]
  },
  {
   "cell_type": "code",
   "execution_count": 48,
   "metadata": {},
   "outputs": [
    {
     "data": {
      "image/png": "[encoded data removed]",
      "text/latex": [
       "$$1$$"
      ],
      "text/plain": [
       "1"
      ]
     },
     "execution_count": 48,
     "metadata": {},
     "output_type": "execute_result"
    }
   ],
   "source": [
    "limit(sin(x)/x, x, 0)"
   ]
  },
  {
   "cell_type": "code",
   "execution_count": 45,
   "metadata": {},
   "outputs": [
    {
     "data": {
      "image/png": "[encoded data removed]",
      "text/latex": [
       "$$\\frac{d}{d x} e^{x^{2}}$$"
      ],
      "text/plain": [
       "  ⎛ ⎛ 2⎞⎞\n",
       "d ⎜ ⎝x ⎠⎟\n",
       "──⎝ℯ    ⎠\n",
       "dx       "
      ]
     },
     "execution_count": 45,
     "metadata": {},
     "output_type": "execute_result"
    }
   ],
   "source": [
    "Derivative(exp(x**2), x)"
   ]
  },
  {
   "cell_type": "code",
   "execution_count": 49,
   "metadata": {},
   "outputs": [
    {
     "data": {
      "image/png": "[encoded data removed]",
      "text/latex": [
       "$$2 x e^{x^{2}}$$"
      ],
      "text/plain": [
       "     ⎛ 2⎞\n",
       "     ⎝x ⎠\n",
       "2⋅x⋅ℯ    "
      ]
     },
     "execution_count": 49,
     "metadata": {},
     "output_type": "execute_result"
    }
   ],
   "source": [
    "diff(exp(x**2), x)"
   ]
  },
  {
   "cell_type": "code",
   "execution_count": 58,
   "metadata": {},
   "outputs": [
    {
     "data": {
      "image/png": "[encoded data removed]",
      "text/latex": [
       "$$\\int_{0}^{10} \\log{\\left (x \\right )}^{2}\\, dx$$"
      ],
      "text/plain": [
       "10           \n",
       "⌠            \n",
       "⎮     2      \n",
       "⎮  log (x) dx\n",
       "⌡            \n",
       "0            "
      ]
     },
     "execution_count": 58,
     "metadata": {},
     "output_type": "execute_result"
    }
   ],
   "source": [
    "expr = Integral(log(x)**2, (x, 0, 10))\n",
    "expr"
   ]
  },
  {
   "cell_type": "code",
   "execution_count": 59,
   "metadata": {},
   "outputs": [
    {
     "data": {
      "image/png": "[encoded data removed]",
      "text/latex": [
       "$$- 20 \\log{\\left (10 \\right )} + 20 + 10 \\log{\\left (10 \\right )}^{2}$$"
      ],
      "text/plain": [
       "                         2    \n",
       "-20⋅log(10) + 20 + 10⋅log (10)"
      ]
     },
     "execution_count": 59,
     "metadata": {},
     "output_type": "execute_result"
    }
   ],
   "source": [
    "expr.doit()"
   ]
  },
  {
   "cell_type": "code",
   "execution_count": 61,
   "metadata": {},
   "outputs": [
    {
     "data": {
      "image/png": "[encoded data removed]",
      "text/latex": [
       "$$x \\log{\\left (x \\right )}^{2} - 2 x \\log{\\left (x \\right )} + 2 x$$"
      ],
      "text/plain": [
       "     2                      \n",
       "x⋅log (x) - 2⋅x⋅log(x) + 2⋅x"
      ]
     },
     "execution_count": 61,
     "metadata": {},
     "output_type": "execute_result"
    }
   ],
   "source": [
    "Integral(log(x)**2,x ).doit()"
   ]
  },
  {
   "cell_type": "markdown",
   "metadata": {},
   "source": [
    "## plotting"
   ]
  },
  {
   "cell_type": "code",
   "execution_count": 23,
   "metadata": {},
   "outputs": [],
   "source": [
    "from sympy.plotting import plot"
   ]
  },
  {
   "cell_type": "code",
   "execution_count": 24,
   "metadata": {},
   "outputs": [
    {
     "data": {
      "image/png": "[encoded data removed]",
      "text/plain": [
       "<Figure size 432x288 with 1 Axes>"
      ]
     },
     "metadata": {
      "needs_background": "light"
     },
     "output_type": "display_data"
    }
   ],
   "source": [
    "p1 = plot(x*x)"
   ]
  },
  {
   "cell_type": "code",
   "execution_count": 25,
   "metadata": {},
   "outputs": [
    {
     "data": {
      "image/png": "[encoded data removed]",
      "text/plain": [
       "<Figure size 432x288 with 1 Axes>"
      ]
     },
     "metadata": {
      "needs_background": "light"
     },
     "output_type": "display_data"
    }
   ],
   "source": [
    "p2 = plot(x)"
   ]
  },
  {
   "cell_type": "code",
   "execution_count": 28,
   "metadata": {},
   "outputs": [
    {
     "data": {
      "image/png": "[encoded data removed]",
      "text/plain": [
       "<Figure size 432x288 with 1 Axes>"
      ]
     },
     "metadata": {
      "needs_background": "light"
     },
     "output_type": "display_data"
    },
    {
     "data": {
      "text/plain": [
       "<sympy.plotting.plot.Plot at 0x7fe9a2086198>"
      ]
     },
     "execution_count": 28,
     "metadata": {},
     "output_type": "execute_result"
    }
   ],
   "source": [
    "plot(x, x**2, x**3, (x, -5, 5))"
   ]
  },
  {
   "cell_type": "markdown",
   "metadata": {},
   "source": [
    "## diff-eq"
   ]
  },
  {
   "cell_type": "code",
   "execution_count": null,
   "metadata": {},
   "outputs": [],
   "source": [
    "# SymPy TUTORIAL for the First Course in Applied Differential Equations \n",
    "IFrame('http://www.cfm.brown.edu/people/dobrush/am33/SymPy/index.html', width='100%', height=500) "
   ]
  },
  {
   "cell_type": "code",
   "execution_count": 4,
   "metadata": {},
   "outputs": [
    {
     "data": {
      "image/png": "[encoded data removed]",
      "text/latex": [
       "$$\\frac{d}{d t} y{\\left (t \\right )} = - \\lambda y{\\left (t \\right )}$$"
      ],
      "text/plain": [
       "d                 \n",
       "──(y(t)) = -λ⋅y(t)\n",
       "dt                "
      ]
     },
     "execution_count": 4,
     "metadata": {},
     "output_type": "execute_result"
    }
   ],
   "source": [
    "# diff eq example\n",
    "\n",
    "t, l = symbols('t lambda')\n",
    "y = Function('y')(t)\n",
    "dydt = y.diff(t)\n",
    "expr = Eq(dydt, -l*y)\n",
    "expr"
   ]
  },
  {
   "cell_type": "code",
   "execution_count": 6,
   "metadata": {},
   "outputs": [
    {
     "data": {
      "image/png": "[encoded data removed]",
      "text/latex": [
       "$$y{\\left (t \\right )} = C_{1} e^{- \\lambda t}$$"
      ],
      "text/plain": [
       "           -λ⋅t\n",
       "y(t) = C₁⋅ℯ    "
      ]
     },
     "execution_count": 6,
     "metadata": {},
     "output_type": "execute_result"
    }
   ],
   "source": [
    "dsolve(expr)"
   ]
  },
  {
   "cell_type": "code",
   "execution_count": null,
   "metadata": {},
   "outputs": [],
   "source": []
  }
 ],
 "metadata": {
  "kernelspec": {
   "display_name": "Python 3",
   "language": "python",
   "name": "python3"
  },
  "language_info": {
   "codemirror_mode": {
    "name": "ipython",
    "version": 3
   },
   "file_extension": ".py",
   "mimetype": "text/x-python",
   "name": "python",
   "nbconvert_exporter": "python",
   "pygments_lexer": "ipython3",
   "version": "3.7.3"
  }
 },
 "nbformat": 4,
 "nbformat_minor": 2
}
